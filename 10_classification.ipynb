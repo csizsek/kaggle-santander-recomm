{
 "cells": [
  {
   "cell_type": "code",
   "execution_count": 2,
   "metadata": {
    "collapsed": false
   },
   "outputs": [
    {
     "name": "stderr",
     "output_type": "stream",
     "text": [
      "/usr/local/lib/python2.7/site-packages/matplotlib/font_manager.py:273: UserWarning: Matplotlib is building the font cache using fc-list. This may take a moment.\n",
      "  warnings.warn('Matplotlib is building the font cache using fc-list. This may take a moment.')\n"
     ]
    }
   ],
   "source": [
    "import base64\n",
    "import datetime\n",
    "import time\n",
    "import json\n",
    "import gc\n",
    "import numpy as np\n",
    "import pandas as pd\n",
    "import matplotlib as mpl\n",
    "import matplotlib.pyplot as plt\n",
    "from pylab import rcParams\n",
    "import seaborn as sns\n",
    "import statsmodels as sm\n",
    "from pylab import rcParams\n",
    "from numpy import median\n",
    "import matplotlib.dates as mdates\n",
    "\n",
    "np.random.seed(1337)\n",
    "%matplotlib inline\n",
    "sns.set(font_scale=1.5)\n",
    "rcParams['figure.figsize'] = 12, 8\n",
    "sns.set_style('whitegrid')\n",
    "sns.set_palette(sns.color_palette('muted'))"
   ]
  },
  {
   "cell_type": "code",
   "execution_count": 3,
   "metadata": {
    "collapsed": false
   },
   "outputs": [
    {
     "name": "stderr",
     "output_type": "stream",
     "text": [
      "/usr/local/lib/python2.7/site-packages/sklearn/cross_validation.py:44: DeprecationWarning: This module was deprecated in version 0.18 in favor of the model_selection module into which all the refactored classes and functions are moved. Also note that the interface of the new CV iterators are different from that of this module. This module will be removed in 0.20.\n",
      "  \"This module will be removed in 0.20.\", DeprecationWarning)\n",
      "/usr/local/lib/python2.7/site-packages/sklearn/grid_search.py:43: DeprecationWarning: This module was deprecated in version 0.18 in favor of the model_selection module into which all the refactored classes and functions are moved. This module will be removed in 0.20.\n",
      "  DeprecationWarning)\n"
     ]
    }
   ],
   "source": [
    "from xgboost import XGBClassifier\n",
    "from sklearn.metrics import confusion_matrix\n",
    "from sklearn.metrics import roc_auc_score\n",
    "from sklearn.ensemble import RandomForestClassifier\n",
    "from sklearn.naive_bayes import MultinomialNB\n",
    "from sklearn.tree import DecisionTreeClassifier\n",
    "from sklearn.grid_search import GridSearchCV\n",
    "from sklearn.svm import SVC\n",
    "from sklearn.neighbors import KNeighborsClassifier"
   ]
  },
  {
   "cell_type": "code",
   "execution_count": 4,
   "metadata": {
    "collapsed": false
   },
   "outputs": [
    {
     "data": {
      "text/plain": [
       "45"
      ]
     },
     "execution_count": 4,
     "metadata": {},
     "output_type": "execute_result"
    }
   ],
   "source": [
    "d = pd.read_csv('tmp/dmy_ho_train_ind_recibo_ult1.csv')\n",
    "d = d.iloc[np.random.permutation(len(d))]\n",
    "del d['customer_id']\n",
    "l = d.target.copy()\n",
    "del d['target']\n",
    "del d['target_name']\n",
    "\n",
    "lim_train = len(d)/2\n",
    "tr = d[:lim_train].copy()\n",
    "trl = l[:lim_train].copy()\n",
    "te = d[lim_train:].copy()\n",
    "tel = l[lim_train:].copy()\n",
    "del d\n",
    "del l\n",
    "gc.collect()"
   ]
  },
  {
   "cell_type": "code",
   "execution_count": null,
   "metadata": {
    "collapsed": false
   },
   "outputs": [],
   "source": [
    "param_grid = {\n",
    "    'max_depth': [3, 9],\n",
    "    'learning_rate': [0.01, 0.1],\n",
    "    'n_estimators': [10, 100],\n",
    "    'gamma': [0, 0.01]\n",
    "}\n",
    "\n",
    "xgb = XGBClassifier()\n",
    "m = GridSearchCV(\n",
    "        estimator=xgb,\n",
    "        param_grid=param_grid,\n",
    "        cv=2)\n",
    "m.fit(tr, trl)\n",
    "print m.best_score_\n",
    "print m.best_params_"
   ]
  },
  {
   "cell_type": "code",
   "execution_count": 10,
   "metadata": {
    "collapsed": false
   },
   "outputs": [
    {
     "name": "stdout",
     "output_type": "stream",
     "text": [
      "0.910595494602\n",
      "{'n_estimators': 10, 'learning_rate': 0.01, 'max_depth': 9, 'gamma': 0}\n"
     ]
    }
   ],
   "source": [
    "param_grid = {\n",
    "    'max_depth': [9],\n",
    "    'learning_rate': [0.01],\n",
    "    'n_estimators': [10],\n",
    "    'gamma': [0]\n",
    "}\n",
    "\n",
    "xgb = XGBClassifier()\n",
    "m = GridSearchCV(\n",
    "        estimator=xgb,\n",
    "        param_grid=param_grid,\n",
    "        cv=2)\n",
    "m.fit(tr, trl)\n",
    "print m.best_score_\n",
    "print m.best_params_"
   ]
  },
  {
   "cell_type": "code",
   "execution_count": 6,
   "metadata": {
    "collapsed": true
   },
   "outputs": [],
   "source": [
    "products = '''ind_recibo_ult1\n",
    "ind_cco_fin_ult1\n",
    "ind_nom_pens_ult1\n",
    "ind_nomina_ult1\n",
    "ind_cno_fin_ult1\n",
    "ind_tjcr_fin_ult1\n",
    "ind_ecue_fin_ult1\n",
    "ind_dela_fin_ult1\n",
    "ind_reca_fin_ult1\n",
    "ind_ctma_fin_ult1\n",
    "ind_valo_fin_ult1\n",
    "ind_fond_fin_ult1\n",
    "ind_deco_fin_ult1\n",
    "ind_ctop_fin_ult1\n",
    "ind_ctpp_fin_ult1\n",
    "ind_plan_fin_ult1\n",
    "ind_ctju_fin_ult1\n",
    "ind_deme_fin_ult1\n",
    "ind_cder_fin_ult1\n",
    "ind_pres_fin_ult1\n",
    "ind_hip_fin_ult1\n",
    "ind_viv_fin_ult1\n",
    "ind_aval_fin_ult1\n",
    "ind_ahor_fin_ult1'''.split('\\n')"
   ]
  },
  {
   "cell_type": "code",
   "execution_count": 12,
   "metadata": {
    "collapsed": false
   },
   "outputs": [
    {
     "name": "stdout",
     "output_type": "stream",
     "text": [
      "==============================\n",
      "product: ind_recibo_ult1\n",
      "test labels:\n",
      "0.0    150983\n",
      "1.0     29557\n",
      "Name: target, dtype: int64\n",
      "ROC AUC score:\n",
      "0.871472998556\n",
      "confusion matrix:\n",
      "predicted       0      1\n",
      "actual                  \n",
      "0          116836  34147\n",
      "1             913  28644\n",
      "==============================\n",
      "product: ind_cco_fin_ult1\n",
      "test labels:\n",
      "0.0    146949\n",
      "1.0     19937\n",
      "Name: target, dtype: int64\n",
      "ROC AUC score:\n",
      "0.947549809221\n",
      "confusion matrix:\n",
      "predicted       0      1\n",
      "actual                  \n",
      "0          138116   8833\n",
      "1             893  19044\n",
      "==============================\n",
      "product: ind_nom_pens_ult1\n",
      "test labels:\n",
      "0.0    148278\n",
      "1.0     15305\n",
      "Name: target, dtype: int64\n",
      "ROC AUC score:\n",
      "0.910212879928\n",
      "confusion matrix:\n",
      "predicted       0      1\n",
      "actual                  \n",
      "0          132405  15873\n",
      "1            1110  14195\n",
      "==============================\n",
      "product: ind_nomina_ult1\n",
      "test labels:\n",
      "0.0    146801\n",
      "1.0     14915\n",
      "Name: target, dtype: int64\n",
      "ROC AUC score:\n",
      "0.911403436192\n",
      "confusion matrix:\n",
      "predicted       0      1\n",
      "actual                  \n",
      "0          131655  15146\n",
      "1            1104  13811\n",
      "==============================\n",
      "product: ind_cno_fin_ult1\n",
      "test labels:\n",
      "0.0    152827\n",
      "1.0     12587\n",
      "Name: target, dtype: int64\n",
      "ROC AUC score:\n",
      "0.90908913931\n",
      "confusion matrix:\n",
      "predicted       0      1\n",
      "actual                  \n",
      "0          139634  13193\n",
      "1            1202  11385\n",
      "==============================\n",
      "product: ind_tjcr_fin_ult1\n",
      "test labels:\n",
      "0.0    153139\n",
      "1.0     11311\n",
      "Name: target, dtype: int64\n"
     ]
    },
    {
     "ename": "KeyboardInterrupt",
     "evalue": "",
     "output_type": "error",
     "traceback": [
      "\u001b[0;31m---------------------------------------------------------------------------\u001b[0m",
      "\u001b[0;31mKeyboardInterrupt\u001b[0m                         Traceback (most recent call last)",
      "\u001b[0;32m<ipython-input-12-7a4c14836ad1>\u001b[0m in \u001b[0;36m<module>\u001b[0;34m()\u001b[0m\n\u001b[1;32m     30\u001b[0m             scale_pos_weight=10.0)\n\u001b[1;32m     31\u001b[0m \u001b[0;34m\u001b[0m\u001b[0m\n\u001b[0;32m---> 32\u001b[0;31m     \u001b[0mm\u001b[0m\u001b[0;34m.\u001b[0m\u001b[0mfit\u001b[0m\u001b[0;34m(\u001b[0m\u001b[0mtr\u001b[0m\u001b[0;34m.\u001b[0m\u001b[0mfillna\u001b[0m\u001b[0;34m(\u001b[0m\u001b[0;36m0\u001b[0m\u001b[0;34m)\u001b[0m\u001b[0;34m,\u001b[0m \u001b[0mtrl\u001b[0m\u001b[0;34m)\u001b[0m\u001b[0;34m\u001b[0m\u001b[0m\n\u001b[0m\u001b[1;32m     33\u001b[0m     \u001b[0mp\u001b[0m \u001b[0;34m=\u001b[0m \u001b[0mm\u001b[0m\u001b[0;34m.\u001b[0m\u001b[0mpredict\u001b[0m\u001b[0;34m(\u001b[0m\u001b[0mte\u001b[0m\u001b[0;34m.\u001b[0m\u001b[0mfillna\u001b[0m\u001b[0;34m(\u001b[0m\u001b[0;36m0\u001b[0m\u001b[0;34m)\u001b[0m\u001b[0;34m)\u001b[0m\u001b[0;34m\u001b[0m\u001b[0m\n\u001b[1;32m     34\u001b[0m \u001b[0;34m\u001b[0m\u001b[0m\n",
      "\u001b[0;32m/Library/Python/2.7/site-packages/xgboost-0.6-py2.7.egg/xgboost/sklearn.pyc\u001b[0m in \u001b[0;36mfit\u001b[0;34m(self, X, y, sample_weight, eval_set, eval_metric, early_stopping_rounds, verbose)\u001b[0m\n\u001b[1;32m    443\u001b[0m                               \u001b[0mearly_stopping_rounds\u001b[0m\u001b[0;34m=\u001b[0m\u001b[0mearly_stopping_rounds\u001b[0m\u001b[0;34m,\u001b[0m\u001b[0;34m\u001b[0m\u001b[0m\n\u001b[1;32m    444\u001b[0m                               \u001b[0mevals_result\u001b[0m\u001b[0;34m=\u001b[0m\u001b[0mevals_result\u001b[0m\u001b[0;34m,\u001b[0m \u001b[0mobj\u001b[0m\u001b[0;34m=\u001b[0m\u001b[0mobj\u001b[0m\u001b[0;34m,\u001b[0m \u001b[0mfeval\u001b[0m\u001b[0;34m=\u001b[0m\u001b[0mfeval\u001b[0m\u001b[0;34m,\u001b[0m\u001b[0;34m\u001b[0m\u001b[0m\n\u001b[0;32m--> 445\u001b[0;31m                               verbose_eval=verbose)\n\u001b[0m\u001b[1;32m    446\u001b[0m \u001b[0;34m\u001b[0m\u001b[0m\n\u001b[1;32m    447\u001b[0m         \u001b[0mself\u001b[0m\u001b[0;34m.\u001b[0m\u001b[0mobjective\u001b[0m \u001b[0;34m=\u001b[0m \u001b[0mxgb_options\u001b[0m\u001b[0;34m[\u001b[0m\u001b[0;34m\"objective\"\u001b[0m\u001b[0;34m]\u001b[0m\u001b[0;34m\u001b[0m\u001b[0m\n",
      "\u001b[0;32m/Library/Python/2.7/site-packages/xgboost-0.6-py2.7.egg/xgboost/training.pyc\u001b[0m in \u001b[0;36mtrain\u001b[0;34m(params, dtrain, num_boost_round, evals, obj, feval, maximize, early_stopping_rounds, evals_result, verbose_eval, learning_rates, xgb_model, callbacks)\u001b[0m\n\u001b[1;32m    201\u001b[0m                            \u001b[0mevals\u001b[0m\u001b[0;34m=\u001b[0m\u001b[0mevals\u001b[0m\u001b[0;34m,\u001b[0m\u001b[0;34m\u001b[0m\u001b[0m\n\u001b[1;32m    202\u001b[0m                            \u001b[0mobj\u001b[0m\u001b[0;34m=\u001b[0m\u001b[0mobj\u001b[0m\u001b[0;34m,\u001b[0m \u001b[0mfeval\u001b[0m\u001b[0;34m=\u001b[0m\u001b[0mfeval\u001b[0m\u001b[0;34m,\u001b[0m\u001b[0;34m\u001b[0m\u001b[0m\n\u001b[0;32m--> 203\u001b[0;31m                            xgb_model=xgb_model, callbacks=callbacks)\n\u001b[0m\u001b[1;32m    204\u001b[0m \u001b[0;34m\u001b[0m\u001b[0m\n\u001b[1;32m    205\u001b[0m \u001b[0;34m\u001b[0m\u001b[0m\n",
      "\u001b[0;32m/Library/Python/2.7/site-packages/xgboost-0.6-py2.7.egg/xgboost/training.pyc\u001b[0m in \u001b[0;36m_train_internal\u001b[0;34m(params, dtrain, num_boost_round, evals, obj, feval, xgb_model, callbacks)\u001b[0m\n\u001b[1;32m     72\u001b[0m         \u001b[0;31m# Skip the first update if it is a recovery step.\u001b[0m\u001b[0;34m\u001b[0m\u001b[0;34m\u001b[0m\u001b[0m\n\u001b[1;32m     73\u001b[0m         \u001b[0;32mif\u001b[0m \u001b[0mversion\u001b[0m \u001b[0;34m%\u001b[0m \u001b[0;36m2\u001b[0m \u001b[0;34m==\u001b[0m \u001b[0;36m0\u001b[0m\u001b[0;34m:\u001b[0m\u001b[0;34m\u001b[0m\u001b[0m\n\u001b[0;32m---> 74\u001b[0;31m             \u001b[0mbst\u001b[0m\u001b[0;34m.\u001b[0m\u001b[0mupdate\u001b[0m\u001b[0;34m(\u001b[0m\u001b[0mdtrain\u001b[0m\u001b[0;34m,\u001b[0m \u001b[0mi\u001b[0m\u001b[0;34m,\u001b[0m \u001b[0mobj\u001b[0m\u001b[0;34m)\u001b[0m\u001b[0;34m\u001b[0m\u001b[0m\n\u001b[0m\u001b[1;32m     75\u001b[0m             \u001b[0mbst\u001b[0m\u001b[0;34m.\u001b[0m\u001b[0msave_rabit_checkpoint\u001b[0m\u001b[0;34m(\u001b[0m\u001b[0;34m)\u001b[0m\u001b[0;34m\u001b[0m\u001b[0m\n\u001b[1;32m     76\u001b[0m             \u001b[0mversion\u001b[0m \u001b[0;34m+=\u001b[0m \u001b[0;36m1\u001b[0m\u001b[0;34m\u001b[0m\u001b[0m\n",
      "\u001b[0;32m/Library/Python/2.7/site-packages/xgboost-0.6-py2.7.egg/xgboost/core.pyc\u001b[0m in \u001b[0;36mupdate\u001b[0;34m(self, dtrain, iteration, fobj)\u001b[0m\n\u001b[1;32m    817\u001b[0m \u001b[0;34m\u001b[0m\u001b[0m\n\u001b[1;32m    818\u001b[0m         \u001b[0;32mif\u001b[0m \u001b[0mfobj\u001b[0m \u001b[0;32mis\u001b[0m \u001b[0mNone\u001b[0m\u001b[0;34m:\u001b[0m\u001b[0;34m\u001b[0m\u001b[0m\n\u001b[0;32m--> 819\u001b[0;31m             \u001b[0m_check_call\u001b[0m\u001b[0;34m(\u001b[0m\u001b[0m_LIB\u001b[0m\u001b[0;34m.\u001b[0m\u001b[0mXGBoosterUpdateOneIter\u001b[0m\u001b[0;34m(\u001b[0m\u001b[0mself\u001b[0m\u001b[0;34m.\u001b[0m\u001b[0mhandle\u001b[0m\u001b[0;34m,\u001b[0m \u001b[0miteration\u001b[0m\u001b[0;34m,\u001b[0m \u001b[0mdtrain\u001b[0m\u001b[0;34m.\u001b[0m\u001b[0mhandle\u001b[0m\u001b[0;34m)\u001b[0m\u001b[0;34m)\u001b[0m\u001b[0;34m\u001b[0m\u001b[0m\n\u001b[0m\u001b[1;32m    820\u001b[0m         \u001b[0;32melse\u001b[0m\u001b[0;34m:\u001b[0m\u001b[0;34m\u001b[0m\u001b[0m\n\u001b[1;32m    821\u001b[0m             \u001b[0mpred\u001b[0m \u001b[0;34m=\u001b[0m \u001b[0mself\u001b[0m\u001b[0;34m.\u001b[0m\u001b[0mpredict\u001b[0m\u001b[0;34m(\u001b[0m\u001b[0mdtrain\u001b[0m\u001b[0;34m)\u001b[0m\u001b[0;34m\u001b[0m\u001b[0m\n",
      "\u001b[0;31mKeyboardInterrupt\u001b[0m: "
     ]
    }
   ],
   "source": [
    "for p in products:\n",
    "    print '=' * 30\n",
    "    print 'product:', p\n",
    "    \n",
    "    d = pd.read_csv('tmp/dmy_ho_train_{0}.csv'.format(p))\n",
    "    d = d.iloc[np.random.permutation(len(d))]\n",
    "    del d['customer_id']\n",
    "    l = d.target.copy()\n",
    "    del d['target']\n",
    "    del d['target_name']\n",
    "\n",
    "    lim_train = len(d)/2\n",
    "    tr = d[:lim_train].copy()\n",
    "    trl = l[:lim_train].copy()\n",
    "    te = d[lim_train:].copy()\n",
    "    tel = l[lim_train:].copy()\n",
    "    del d\n",
    "    del l\n",
    "    gc.collect()\n",
    "\n",
    "    print 'test labels:'\n",
    "    print tel.value_counts()\n",
    "\n",
    "    m = XGBClassifier(\n",
    "            n_estimators=30,\n",
    "            learning_rate=0.1,\n",
    "            max_depth=9,\n",
    "            gamma=0,\n",
    "            min_child_weight=1,\n",
    "            scale_pos_weight=10.0)\n",
    "\n",
    "    m.fit(tr.fillna(0), trl)\n",
    "    p = m.predict(te.fillna(0))\n",
    "\n",
    "    print 'ROC AUC score:'\n",
    "    print roc_auc_score(tel, p)\n",
    "\n",
    "    cmx = pd.DataFrame(confusion_matrix(tel, p))\n",
    "    cmx.index.name='actual'\n",
    "    cmx.columns.name='predicted'\n",
    "    print 'confusion matrix:'\n",
    "    print cmx\n",
    "\n",
    "    del tr\n",
    "    del trl\n",
    "    del te\n",
    "    del tel\n",
    "    del m\n",
    "    del p\n",
    "    gc.collect()"
   ]
  }
 ],
 "metadata": {
  "kernelspec": {
   "display_name": "Python 2",
   "language": "python",
   "name": "python2"
  },
  "language_info": {
   "codemirror_mode": {
    "name": "ipython",
    "version": 2
   },
   "file_extension": ".py",
   "mimetype": "text/x-python",
   "name": "python",
   "nbconvert_exporter": "python",
   "pygments_lexer": "ipython2",
   "version": "2.7.11"
  }
 },
 "nbformat": 4,
 "nbformat_minor": 0
}
