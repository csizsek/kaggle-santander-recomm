{
 "cells": [
  {
   "cell_type": "code",
   "execution_count": 21,
   "metadata": {
    "collapsed": false
   },
   "outputs": [],
   "source": [
    "import base64\n",
    "import datetime\n",
    "import gc\n",
    "import json\n",
    "import pickle\n",
    "import random\n",
    "import time\n",
    "import numpy as np\n",
    "import pandas as pd\n",
    "import matplotlib as mpl\n",
    "import matplotlib.pyplot as plt\n",
    "from pylab import rcParams\n",
    "import seaborn as sns\n",
    "import statsmodels as sm\n",
    "from pylab import rcParams\n",
    "from numpy import median\n",
    "import matplotlib.dates as mdates\n",
    "\n",
    "from xgboost import XGBClassifier\n",
    "import sklearn\n",
    "from sklearn.metrics import confusion_matrix\n",
    "from sklearn.metrics import roc_auc_score\n",
    "from sklearn.ensemble import RandomForestClassifier\n",
    "from sklearn.naive_bayes import MultinomialNB\n",
    "from sklearn.tree import DecisionTreeClassifier\n",
    "from sklearn.model_selection import GridSearchCV\n",
    "from sklearn.svm import SVC\n",
    "from sklearn.neighbors import KNeighborsClassifier\n",
    "\n",
    "np.random.seed(1337)\n",
    "%matplotlib inline\n",
    "sns.set(font_scale=1.5)\n",
    "rcParams['figure.figsize'] = 8, 6\n",
    "sns.set_style('whitegrid')\n",
    "sns.set_palette(sns.color_palette('muted'))"
   ]
  },
  {
   "cell_type": "code",
   "execution_count": 2,
   "metadata": {
    "collapsed": false
   },
   "outputs": [],
   "source": [
    "def pk(true, pred, k):\n",
    "    pred = pred[:k]\n",
    "    if k <= len(pred) and pred[k-1] in true:\n",
    "        return 1.0 * len(set(true) & set(pred)) / len(pred)\n",
    "    else:\n",
    "        return 0.0\n",
    "def apk(true, pred, k):\n",
    "    if true == '' or pred == '':\n",
    "        return 0.0\n",
    "    true = true.split(' ')\n",
    "    pred = pred.split(' ')\n",
    "    m = len(true)\n",
    "    n = len(pred)\n",
    "    s = 0.0\n",
    "    for i in range(1, 8):\n",
    "        s += pk(true, pred, i)\n",
    "    return 1.0 * s / min(m, 7)"
   ]
  },
  {
   "cell_type": "code",
   "execution_count": 3,
   "metadata": {
    "collapsed": true
   },
   "outputs": [],
   "source": [
    "def rank(s):\n",
    "    return ' '.join(s.sort_values(ascending=False).index[:7])"
   ]
  },
  {
   "cell_type": "code",
   "execution_count": 4,
   "metadata": {
    "collapsed": true
   },
   "outputs": [],
   "source": [
    "products = '''ind_recibo_ult1\n",
    "ind_cco_fin_ult1\n",
    "ind_nom_pens_ult1\n",
    "ind_nomina_ult1\n",
    "ind_cno_fin_ult1\n",
    "ind_tjcr_fin_ult1\n",
    "ind_ecue_fin_ult1\n",
    "ind_dela_fin_ult1\n",
    "ind_reca_fin_ult1\n",
    "ind_ctma_fin_ult1\n",
    "ind_valo_fin_ult1\n",
    "ind_fond_fin_ult1\n",
    "ind_deco_fin_ult1\n",
    "ind_ctop_fin_ult1\n",
    "ind_ctpp_fin_ult1\n",
    "ind_plan_fin_ult1\n",
    "ind_ctju_fin_ult1\n",
    "ind_deme_fin_ult1\n",
    "ind_cder_fin_ult1\n",
    "ind_pres_fin_ult1\n",
    "ind_hip_fin_ult1\n",
    "ind_viv_fin_ult1\n",
    "ind_aval_fin_ult1\n",
    "ind_ahor_fin_ult1'''.split('\\n')"
   ]
  },
  {
   "cell_type": "code",
   "execution_count": null,
   "metadata": {
    "collapsed": false
   },
   "outputs": [],
   "source": [
    "for p in products:\n",
    "    print p\n",
    "    d = pd.read_csv('tmp/dmy_train_{0}.csv'.format(p))\n",
    "    del d['customer_id']\n",
    "    del d['target_name']\n",
    "    l = d.target.copy()\n",
    "    del d['target']\n",
    "    m = XGBClassifier(\n",
    "                n_estimators=100,\n",
    "                learning_rate=0.01,\n",
    "                max_depth=9,\n",
    "                gamma=0,\n",
    "                min_child_weight=1,\n",
    "                #scale_pos_weight=5.0,\n",
    "                nthread=2)\n",
    "    m.fit(d, l)\n",
    "    del d\n",
    "    del l\n",
    "    pickle.dump(m, open('tmp/m_xgb_ne100_{0}.pickle'.format(p), 'w'))\n",
    "    del m\n",
    "    gc.collect()"
   ]
  },
  {
   "cell_type": "code",
   "execution_count": 5,
   "metadata": {
    "collapsed": true
   },
   "outputs": [],
   "source": [
    "models = {}\n",
    "for p in products:\n",
    "    models[p] = pickle.load(open('tmp/m_xgb_ne100_{0}.pickle'.format(p), 'r'))"
   ]
  },
  {
   "cell_type": "code",
   "execution_count": 6,
   "metadata": {
    "collapsed": false
   },
   "outputs": [],
   "source": [
    "t = pd.read_csv('output/sample_submission.csv')\n",
    "t = t[['ncodpers']].copy()"
   ]
  },
  {
   "cell_type": "code",
   "execution_count": 7,
   "metadata": {
    "collapsed": false
   },
   "outputs": [],
   "source": [
    "d = pd.read_csv('tmp/dmy_test.csv')\n",
    "d = pd.merge(t, d, how='left', left_on='ncodpers', right_on='customer_id')\n",
    "del d['customer_id']\n",
    "del d['target_name']\n",
    "del d['target']\n",
    "del d['ncodpers']"
   ]
  },
  {
   "cell_type": "code",
   "execution_count": 8,
   "metadata": {
    "collapsed": false
   },
   "outputs": [
    {
     "name": "stdout",
     "output_type": "stream",
     "text": [
      "ind_recibo_ult1\n",
      "ind_cco_fin_ult1\n",
      "ind_nom_pens_ult1\n",
      "ind_nomina_ult1\n",
      "ind_cno_fin_ult1\n",
      "ind_tjcr_fin_ult1\n",
      "ind_ecue_fin_ult1\n",
      "ind_dela_fin_ult1\n",
      "ind_reca_fin_ult1\n",
      "ind_ctma_fin_ult1\n",
      "ind_valo_fin_ult1\n",
      "ind_fond_fin_ult1\n",
      "ind_deco_fin_ult1\n",
      "ind_ctop_fin_ult1\n",
      "ind_ctpp_fin_ult1\n",
      "ind_plan_fin_ult1\n",
      "ind_ctju_fin_ult1\n",
      "ind_deme_fin_ult1\n",
      "ind_cder_fin_ult1\n",
      "ind_pres_fin_ult1\n",
      "ind_hip_fin_ult1\n",
      "ind_viv_fin_ult1\n",
      "ind_aval_fin_ult1\n",
      "ind_ahor_fin_ult1\n"
     ]
    }
   ],
   "source": [
    "s = pd.DataFrame()\n",
    "sp = pd.DataFrame()\n",
    "for p in products:\n",
    "    print p\n",
    "    s[p] = models[p].predict(d)\n",
    "    sp[p] = models[p].predict_proba(d)[:,1]\n",
    "del d"
   ]
  },
  {
   "cell_type": "code",
   "execution_count": 9,
   "metadata": {
    "collapsed": true
   },
   "outputs": [],
   "source": [
    "# s.to_csv('tmp/s_xgb_ne100.csv', index=False)\n",
    "# sp.to_csv('tmp/sp_xgb_ne100.csv', index=False)"
   ]
  },
  {
   "cell_type": "code",
   "execution_count": 138,
   "metadata": {
    "collapsed": true
   },
   "outputs": [],
   "source": [
    "s = pd.read_csv('tmp/s_xgb_ne100.csv', usecols=products)\n",
    "sp = pd.read_csv('tmp/sp_xgb_ne100.csv', usecols=products)"
   ]
  },
  {
   "cell_type": "code",
   "execution_count": 139,
   "metadata": {
    "collapsed": false
   },
   "outputs": [],
   "source": [
    "# sp = pd.DataFrame(sklearn.preprocessing.normalize(sp, axis=0), columns=products)\n",
    "# sp.head(8).T"
   ]
  },
  {
   "cell_type": "code",
   "execution_count": 140,
   "metadata": {
    "collapsed": false
   },
   "outputs": [],
   "source": [
    "#q = 10000\n",
    "#pd.qcut(sp.ind_cco_fin_ult1 + np.random.randn(len(sp)) / 10000, q, labels=range(q))[:20]\n"
   ]
  },
  {
   "cell_type": "code",
   "execution_count": 141,
   "metadata": {
    "collapsed": false
   },
   "outputs": [],
   "source": [
    "#pd.qcut(x=sp.ind_cco_fin_ult1, q=1000, labels=range(1000))"
   ]
  },
  {
   "cell_type": "code",
   "execution_count": 142,
   "metadata": {
    "collapsed": false
   },
   "outputs": [
    {
     "name": "stdout",
     "output_type": "stream",
     "text": [
      "ind_recibo_ult1\n"
     ]
    },
    {
     "data": {
      "image/png": "[encoded data removed]",
      "text/plain": [
       "<matplotlib.figure.Figure at 0x118153d10>"
      ]
     },
     "metadata": {},
     "output_type": "display_data"
    }
   ],
   "source": [
    "i = 0\n",
    "print products[i]\n",
    "_ = plt.hist(sp[products[i]], bins=200)\n",
    "#_ = plt.xlim((0.15, 0.25))"
   ]
  },
  {
   "cell_type": "code",
   "execution_count": 143,
   "metadata": {
    "collapsed": false
   },
   "outputs": [
    {
     "name": "stdout",
     "output_type": "stream",
     "text": [
      "0.0\n",
      "0.4\n",
      "0.64\n",
      "0.784\n",
      "0.8704\n",
      "0.92224\n",
      "0.953344\n",
      "0.9720064\n",
      "0.98320384\n",
      "0.989922304\n",
      "0.9939533824\n",
      "0.99637202944\n",
      "0.997823217664\n",
      "0.998693930598\n",
      "0.999216358359\n",
      "0.999529815015\n",
      "0.999717889009\n",
      "0.999830733406\n",
      "0.999898440043\n",
      "0.999939064026\n",
      "0.999963438416\n",
      "0.999978063049\n",
      "0.99998683783\n",
      "0.999992102698\n",
      "0.999995261619\n"
     ]
    }
   ],
   "source": [
    "for i in range(1, 26):\n",
    "    print 1.0 - pow(0.6, i-1)"
   ]
  },
  {
   "cell_type": "code",
   "execution_count": 144,
   "metadata": {
    "collapsed": false
   },
   "outputs": [
    {
     "data": {
      "text/plain": [
       "ind_recibo_ult1      4999.499999\n",
       "ind_cco_fin_ult1     4399.499999\n",
       "ind_nom_pens_ult1    3979.499999\n",
       "ind_nomina_ult1      3685.499999\n",
       "ind_cno_fin_ult1     3479.699999\n",
       "ind_tjcr_fin_ult1    3335.639999\n",
       "ind_ecue_fin_ult1    3234.797999\n",
       "ind_dela_fin_ult1    3164.208599\n",
       "ind_reca_fin_ult1    3114.796019\n",
       "ind_ctma_fin_ult1    3080.207213\n",
       "ind_valo_fin_ult1    3055.995049\n",
       "ind_fond_fin_ult1    3039.046534\n",
       "ind_deco_fin_ult1    3027.182574\n",
       "ind_ctop_fin_ult1    3018.877802\n",
       "ind_ctpp_fin_ult1    3013.064461\n",
       "ind_plan_fin_ult1    3008.995122\n",
       "ind_ctju_fin_ult1    3006.146586\n",
       "ind_deme_fin_ult1    3004.152610\n",
       "ind_cder_fin_ult1    3002.756827\n",
       "ind_pres_fin_ult1    3001.779778\n",
       "ind_hip_fin_ult1     3001.095845\n",
       "ind_viv_fin_ult1     3000.617091\n",
       "ind_aval_fin_ult1    3000.281964\n",
       "ind_ahor_fin_ult1    3000.047374\n",
       "dtype: float64"
      ]
     },
     "execution_count": 144,
     "metadata": {},
     "output_type": "execute_result"
    }
   ],
   "source": [
    "i = 1\n",
    "q = 10000\n",
    "for p in products:\n",
    "    #sp[p] = sp[p] - sp[p].mean() - sp[p].quantile(pow(i / 25.0, 1.2))\n",
    "    sp[p] = pd.qcut(sp[p] + np.random.randn(len(sp)) / 10000, q, labels=range(q)).astype(int) - (1.0 - pow(0.7, i-1)) * 0.2 * q\n",
    "    i += 1\n",
    "sp.mean().sort_values(ascending=False)"
   ]
  },
  {
   "cell_type": "code",
   "execution_count": 145,
   "metadata": {
    "collapsed": false
   },
   "outputs": [],
   "source": [
    "sp['added_products'] = sp.apply(lambda r: rank(r), axis=1)"
   ]
  },
  {
   "cell_type": "code",
   "execution_count": 146,
   "metadata": {
    "collapsed": false
   },
   "outputs": [],
   "source": [
    "for p in products:\n",
    "    del sp[p]"
   ]
  },
  {
   "cell_type": "code",
   "execution_count": 147,
   "metadata": {
    "collapsed": false
   },
   "outputs": [],
   "source": [
    "sp.insert(0, 'ncodpers', t.ncodpers)\n",
    "sp.to_csv('output/s9.csv', index=False)"
   ]
  }
 ],
 "metadata": {
  "kernelspec": {
   "display_name": "Python 2",
   "language": "python",
   "name": "python2"
  },
  "language_info": {
   "codemirror_mode": {
    "name": "ipython",
    "version": 2
   },
   "file_extension": ".py",
   "mimetype": "text/x-python",
   "name": "python",
   "nbconvert_exporter": "python",
   "pygments_lexer": "ipython2",
   "version": "2.7.11"
  }
 },
 "nbformat": 4,
 "nbformat_minor": 0
}
