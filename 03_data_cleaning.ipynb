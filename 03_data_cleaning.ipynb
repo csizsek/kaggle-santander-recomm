{
 "cells": [
  {
   "cell_type": "code",
   "execution_count": 1,
   "metadata": {
    "collapsed": true
   },
   "outputs": [],
   "source": [
    "import base64\n",
    "import datetime\n",
    "import time\n",
    "import json\n",
    "import numpy as np\n",
    "import pandas as pd\n",
    "import matplotlib as mpl\n",
    "import matplotlib.pyplot as plt\n",
    "from pylab import rcParams\n",
    "import seaborn as sns\n",
    "import statsmodels as sm\n",
    "from pylab import rcParams\n",
    "from numpy import median\n",
    "import matplotlib.dates as mdates\n",
    "\n",
    "np.random.seed(1337)\n",
    "%matplotlib inline\n",
    "sns.set(font_scale=1.5)\n",
    "rcParams['figure.figsize'] = 12, 8\n",
    "sns.set_style('whitegrid')\n",
    "sns.set_palette(sns.color_palette('muted'))"
   ]
  },
  {
   "cell_type": "markdown",
   "metadata": {},
   "source": [
    "## Load the Data"
   ]
  },
  {
   "cell_type": "code",
   "execution_count": 2,
   "metadata": {
    "collapsed": false
   },
   "outputs": [
    {
     "data": {
      "text/plain": [
       "13647309"
      ]
     },
     "execution_count": 2,
     "metadata": {},
     "output_type": "execute_result"
    }
   ],
   "source": [
    "tr = pd.read_csv('input/train_ver2.csv',\n",
    "        dtype={\n",
    "        'age': np.str,\n",
    "        'antiguedad': np.str,\n",
    "        'indrel_1mes': np.str,\n",
    "        'conyuemp': np.str},\n",
    "        parse_dates=[\n",
    "        'fecha_dato',\n",
    "        'fecha_alta'])\n",
    "len(tr)"
   ]
  },
  {
   "cell_type": "code",
   "execution_count": 3,
   "metadata": {
    "collapsed": false
   },
   "outputs": [
    {
     "data": {
      "text/plain": [
       "929615"
      ]
     },
     "execution_count": 3,
     "metadata": {},
     "output_type": "execute_result"
    }
   ],
   "source": [
    "te = pd.read_csv('input/test_ver2.csv',\n",
    "        dtype={\n",
    "        'age': np.str,\n",
    "        'antiguedad': np.str,\n",
    "        'indrel_1mes': np.str,\n",
    "        'conyuemp': np.str},\n",
    "        parse_dates=[\n",
    "        'fecha_dato',\n",
    "        'fecha_alta'])\n",
    "len(te)"
   ]
  },
  {
   "cell_type": "code",
   "execution_count": 4,
   "metadata": {
    "collapsed": false
   },
   "outputs": [],
   "source": [
    "for c in tr.columns[24:]:\n",
    "    te[c] = np.nan"
   ]
  },
  {
   "cell_type": "code",
   "execution_count": 5,
   "metadata": {
    "collapsed": false
   },
   "outputs": [
    {
     "data": {
      "text/plain": [
       "14576924"
      ]
     },
     "execution_count": 5,
     "metadata": {},
     "output_type": "execute_result"
    }
   ],
   "source": [
    "d = pd.concat([tr, te])\n",
    "len(d)"
   ]
  },
  {
   "cell_type": "code",
   "execution_count": 6,
   "metadata": {
    "collapsed": true
   },
   "outputs": [],
   "source": [
    "del tr\n",
    "del te"
   ]
  },
  {
   "cell_type": "markdown",
   "metadata": {},
   "source": [
    "## measurement_date"
   ]
  },
  {
   "cell_type": "code",
   "execution_count": 7,
   "metadata": {
    "collapsed": false
   },
   "outputs": [],
   "source": [
    "d.rename(columns={'fecha_dato': 'measurement_date'}, inplace=True)"
   ]
  },
  {
   "cell_type": "code",
   "execution_count": 8,
   "metadata": {
    "collapsed": false
   },
   "outputs": [
    {
     "name": "stdout",
     "output_type": "stream",
     "text": [
      "------------------------------ \n",
      "dtype:            datetime64[ns]\n",
      "------------------------------ \n",
      "np.na count:      0\n",
      "------------------------------ \n",
      "np.na ratio:      0.0\n",
      "------------------------------ \n",
      "distinct values:  18\n",
      "------------------------------ \n",
      "top 10 values:\n",
      "2016-05-28    931453\n",
      "2016-06-28    929615\n",
      "2016-04-28    928274\n",
      "2016-03-28    925076\n",
      "2016-02-28    920904\n",
      "2016-01-28    916269\n",
      "2015-12-28    912021\n",
      "2015-11-28    906109\n",
      "2015-10-28    892251\n",
      "2015-09-28    865440\n",
      "Name: measurement_date, dtype: int64\n",
      "------------------------------ \n",
      "bottom 10 values:\n",
      "2015-10-28    892251\n",
      "2015-09-28    865440\n",
      "2015-08-28    843201\n",
      "2015-07-28    829817\n",
      "2015-06-28    632110\n",
      "2015-05-28    631957\n",
      "2015-04-28    630367\n",
      "2015-03-28    629209\n",
      "2015-02-28    627394\n",
      "2015-01-28    625457\n",
      "Name: measurement_date, dtype: int64\n",
      "------------------------------\n"
     ]
    }
   ],
   "source": [
    "col_name = 'measurement_date'\n",
    "\n",
    "print '-' * 30, '\\n', 'dtype:           ', d[col_name].dtype\n",
    "print '-' * 30, '\\n', 'np.na count:     ', d[col_name].isnull().sum()\n",
    "print '-' * 30, '\\n', 'np.na ratio:     ', 1.0 * d[col_name].isnull().sum() / len(d)\n",
    "print '-' * 30, '\\n', 'distinct values: ', len(d[col_name].value_counts())\n",
    "print '-' * 30, '\\n', 'top 10 values:'\n",
    "print d[col_name].value_counts().head(10)\n",
    "print '-' * 30, '\\n', 'bottom 10 values:'\n",
    "print d[col_name].value_counts().tail(10)\n",
    "print '-' * 30"
   ]
  },
  {
   "cell_type": "markdown",
   "metadata": {},
   "source": [
    "## customer_id"
   ]
  },
  {
   "cell_type": "code",
   "execution_count": 9,
   "metadata": {
    "collapsed": true
   },
   "outputs": [],
   "source": [
    "d.rename(columns={'ncodpers': 'customer_id'}, inplace=True)"
   ]
  },
  {
   "cell_type": "code",
   "execution_count": 10,
   "metadata": {
    "collapsed": false
   },
   "outputs": [
    {
     "name": "stdout",
     "output_type": "stream",
     "text": [
      "------------------------------ \n",
      "dtype:            int64\n",
      "------------------------------ \n",
      "np.na count:      0\n",
      "------------------------------ \n",
      "np.na ratio:      0.0\n",
      "------------------------------ \n",
      "distinct values:  956645\n",
      "------------------------------ \n",
      "top 10 values:\n",
      "32752      18\n",
      "1240915    18\n",
      "1191755    18\n",
      "1199943    18\n",
      "1150783    18\n",
      "1158971    18\n",
      "1167159    18\n",
      "1175347    18\n",
      "1117999    18\n",
      "1142563    18\n",
      "Name: customer_id, dtype: int64\n",
      "------------------------------ \n",
      "bottom 10 values:\n",
      "350152     1\n",
      "1514065    1\n",
      "1462468    1\n",
      "1531660    1\n",
      "1452608    1\n",
      "1244374    1\n",
      "1542334    1\n",
      "1513324    1\n",
      "1501125    1\n",
      "1500541    1\n",
      "Name: customer_id, dtype: int64\n",
      "------------------------------\n"
     ]
    }
   ],
   "source": [
    "col_name = 'customer_id'\n",
    "\n",
    "print '-' * 30, '\\n', 'dtype:           ', d[col_name].dtype\n",
    "print '-' * 30, '\\n', 'np.na count:     ', d[col_name].isnull().sum()\n",
    "print '-' * 30, '\\n', 'np.na ratio:     ', 1.0 * d[col_name].isnull().sum() / len(d)\n",
    "print '-' * 30, '\\n', 'distinct values: ', len(d[col_name].value_counts())\n",
    "print '-' * 30, '\\n', 'top 10 values:'\n",
    "print d[col_name].value_counts().head(10)\n",
    "print '-' * 30, '\\n', 'bottom 10 values:'\n",
    "print d[col_name].value_counts().tail(10)\n",
    "print '-' * 30"
   ]
  },
  {
   "cell_type": "markdown",
   "metadata": {},
   "source": [
    "## employment_index"
   ]
  },
  {
   "cell_type": "code",
   "execution_count": 11,
   "metadata": {
    "collapsed": true
   },
   "outputs": [],
   "source": [
    "d.rename(columns={'ind_empleado': 'employment_index'}, inplace=True)"
   ]
  },
  {
   "cell_type": "code",
   "execution_count": 12,
   "metadata": {
    "collapsed": false
   },
   "outputs": [
    {
     "name": "stdout",
     "output_type": "stream",
     "text": [
      "------------------------------ \n",
      "dtype:            object\n",
      "------------------------------ \n",
      "np.na count:      27734\n",
      "------------------------------ \n",
      "np.na ratio:      0.00190259618559\n",
      "------------------------------ \n",
      "distinct values:  5\n",
      "------------------------------ \n",
      "top 10 values:\n",
      "N    14540073\n",
      "B        3784\n",
      "F        2675\n",
      "A        2640\n",
      "S          18\n",
      "Name: employment_index, dtype: int64\n",
      "------------------------------ \n",
      "bottom 10 values:\n",
      "N    14540073\n",
      "B        3784\n",
      "F        2675\n",
      "A        2640\n",
      "S          18\n",
      "Name: employment_index, dtype: int64\n",
      "------------------------------\n"
     ]
    }
   ],
   "source": [
    "col_name = 'employment_index'\n",
    "\n",
    "print '-' * 30, '\\n', 'dtype:           ', d[col_name].dtype\n",
    "print '-' * 30, '\\n', 'np.na count:     ', d[col_name].isnull().sum()\n",
    "print '-' * 30, '\\n', 'np.na ratio:     ', 1.0 * d[col_name].isnull().sum() / len(d)\n",
    "print '-' * 30, '\\n', 'distinct values: ', len(d[col_name].value_counts())\n",
    "print '-' * 30, '\\n', 'top 10 values:'\n",
    "print d[col_name].value_counts().head(10)\n",
    "print '-' * 30, '\\n', 'bottom 10 values:'\n",
    "print d[col_name].value_counts().tail(10)\n",
    "print '-' * 30"
   ]
  },
  {
   "cell_type": "code",
   "execution_count": 13,
   "metadata": {
    "collapsed": false
   },
   "outputs": [],
   "source": [
    "d.employment_index = d.employment_index.map({\n",
    "        'N': 'not-employee',\n",
    "        'B': 'ex-employee',\n",
    "        'F': 'filial',\n",
    "        'A': 'active',\n",
    "        'S': 'passive'})"
   ]
  },
  {
   "cell_type": "code",
   "execution_count": 14,
   "metadata": {
    "collapsed": false
   },
   "outputs": [
    {
     "name": "stdout",
     "output_type": "stream",
     "text": [
      "------------------------------ \n",
      "dtype:            object\n",
      "------------------------------ \n",
      "np.na count:      27734\n",
      "------------------------------ \n",
      "np.na ratio:      0.00190259618559\n",
      "------------------------------ \n",
      "distinct values:  5\n",
      "------------------------------ \n",
      "top 10 values:\n",
      "not-employee    14540073\n",
      "ex-employee         3784\n",
      "filial              2675\n",
      "active              2640\n",
      "passive               18\n",
      "Name: employment_index, dtype: int64\n",
      "------------------------------ \n",
      "bottom 10 values:\n",
      "not-employee    14540073\n",
      "ex-employee         3784\n",
      "filial              2675\n",
      "active              2640\n",
      "passive               18\n",
      "Name: employment_index, dtype: int64\n",
      "------------------------------\n"
     ]
    }
   ],
   "source": [
    "col_name = 'employment_index'\n",
    "\n",
    "print '-' * 30, '\\n', 'dtype:           ', d[col_name].dtype\n",
    "print '-' * 30, '\\n', 'np.na count:     ', d[col_name].isnull().sum()\n",
    "print '-' * 30, '\\n', 'np.na ratio:     ', 1.0 * d[col_name].isnull().sum() / len(d)\n",
    "print '-' * 30, '\\n', 'distinct values: ', len(d[col_name].value_counts())\n",
    "print '-' * 30, '\\n', 'top 10 values:'\n",
    "print d[col_name].value_counts().head(10)\n",
    "print '-' * 30, '\\n', 'bottom 10 values:'\n",
    "print d[col_name].value_counts().tail(10)\n",
    "print '-' * 30"
   ]
  },
  {
   "cell_type": "markdown",
   "metadata": {},
   "source": [
    "## country_of_residence"
   ]
  },
  {
   "cell_type": "code",
   "execution_count": 15,
   "metadata": {
    "collapsed": true
   },
   "outputs": [],
   "source": [
    "d.rename(columns={'pais_residencia': 'country_of_residence'}, inplace=True)"
   ]
  },
  {
   "cell_type": "code",
   "execution_count": 16,
   "metadata": {
    "collapsed": false
   },
   "outputs": [
    {
     "name": "stdout",
     "output_type": "stream",
     "text": [
      "------------------------------ \n",
      "dtype:            object\n",
      "------------------------------ \n",
      "np.na count:      27734\n",
      "------------------------------ \n",
      "np.na ratio:      0.00190259618559\n",
      "------------------------------ \n",
      "distinct values:  118\n",
      "------------------------------ \n",
      "top 10 values:\n",
      "ES    14479329\n",
      "FR        5472\n",
      "AR        5123\n",
      "DE        4906\n",
      "GB        4891\n",
      "US        3882\n",
      "CO        3737\n",
      "IT        3126\n",
      "RO        3106\n",
      "MX        2729\n",
      "Name: country_of_residence, dtype: int64\n",
      "------------------------------ \n",
      "bottom 10 values:\n",
      "LV    18\n",
      "LY    18\n",
      "IS    18\n",
      "KH    18\n",
      "KW    18\n",
      "JM    13\n",
      "DJ    12\n",
      "ZW    12\n",
      "BM     7\n",
      "MT     3\n",
      "Name: country_of_residence, dtype: int64\n",
      "------------------------------\n"
     ]
    }
   ],
   "source": [
    "col_name = 'country_of_residence'\n",
    "\n",
    "print '-' * 30, '\\n', 'dtype:           ', d[col_name].dtype\n",
    "print '-' * 30, '\\n', 'np.na count:     ', d[col_name].isnull().sum()\n",
    "print '-' * 30, '\\n', 'np.na ratio:     ', 1.0 * d[col_name].isnull().sum() / len(d)\n",
    "print '-' * 30, '\\n', 'distinct values: ', len(d[col_name].value_counts())\n",
    "print '-' * 30, '\\n', 'top 10 values:'\n",
    "print d[col_name].value_counts().head(10)\n",
    "print '-' * 30, '\\n', 'bottom 10 values:'\n",
    "print d[col_name].value_counts().tail(10)\n",
    "print '-' * 30"
   ]
  },
  {
   "cell_type": "markdown",
   "metadata": {},
   "source": [
    "## gender"
   ]
  },
  {
   "cell_type": "code",
   "execution_count": 17,
   "metadata": {
    "collapsed": true
   },
   "outputs": [],
   "source": [
    "d.rename(columns={'sexo': 'gender'}, inplace=True)"
   ]
  },
  {
   "cell_type": "code",
   "execution_count": 18,
   "metadata": {
    "collapsed": false
   },
   "outputs": [
    {
     "name": "stdout",
     "output_type": "stream",
     "text": [
      "------------------------------ \n",
      "dtype:            object\n",
      "------------------------------ \n",
      "np.na count:      27809\n",
      "------------------------------ \n",
      "np.na ratio:      0.001907741304\n",
      "------------------------------ \n",
      "distinct values:  2\n",
      "------------------------------ \n",
      "top 10 values:\n",
      "V    7928767\n",
      "H    6620348\n",
      "Name: gender, dtype: int64\n",
      "------------------------------ \n",
      "bottom 10 values:\n",
      "V    7928767\n",
      "H    6620348\n",
      "Name: gender, dtype: int64\n",
      "------------------------------\n"
     ]
    }
   ],
   "source": [
    "col_name = 'gender'\n",
    "\n",
    "print '-' * 30, '\\n', 'dtype:           ', d[col_name].dtype\n",
    "print '-' * 30, '\\n', 'np.na count:     ', d[col_name].isnull().sum()\n",
    "print '-' * 30, '\\n', 'np.na ratio:     ', 1.0 * d[col_name].isnull().sum() / len(d)\n",
    "print '-' * 30, '\\n', 'distinct values: ', len(d[col_name].value_counts())\n",
    "print '-' * 30, '\\n', 'top 10 values:'\n",
    "print d[col_name].value_counts().head(10)\n",
    "print '-' * 30, '\\n', 'bottom 10 values:'\n",
    "print d[col_name].value_counts().tail(10)\n",
    "print '-' * 30"
   ]
  },
  {
   "cell_type": "code",
   "execution_count": 19,
   "metadata": {
    "collapsed": true
   },
   "outputs": [],
   "source": [
    "d.gender = d.gender.map({\n",
    "        'V': 'male',\n",
    "        'H': 'female'})"
   ]
  },
  {
   "cell_type": "markdown",
   "metadata": {},
   "source": [
    "## age"
   ]
  },
  {
   "cell_type": "code",
   "execution_count": 20,
   "metadata": {
    "collapsed": false
   },
   "outputs": [
    {
     "name": "stdout",
     "output_type": "stream",
     "text": [
      "------------------------------ \n",
      "dtype:            object\n",
      "------------------------------ \n",
      "np.na count:      0\n",
      "------------------------------ \n",
      "np.na ratio:      0.0\n",
      "------------------------------ \n",
      "distinct values:  122\n",
      "------------------------------ \n",
      "top 10 values:\n",
      " 23    829488\n",
      " 24    785491\n",
      " 22    783988\n",
      " 21    722310\n",
      " 25    513445\n",
      " 20    444376\n",
      " 26    374450\n",
      " 43    345895\n",
      " 44    344197\n",
      " 42    340556\n",
      "Name: age, dtype: int64\n",
      "------------------------------ \n",
      "bottom 10 values:\n",
      "113    127\n",
      "115     82\n",
      "116     70\n",
      "114     28\n",
      "117     15\n",
      "127      9\n",
      "163      8\n",
      "164      4\n",
      "126      3\n",
      "118      1\n",
      "Name: age, dtype: int64\n",
      "------------------------------\n"
     ]
    }
   ],
   "source": [
    "col_name = 'age'\n",
    "\n",
    "print '-' * 30, '\\n', 'dtype:           ', d[col_name].dtype\n",
    "print '-' * 30, '\\n', 'np.na count:     ', d[col_name].isnull().sum()\n",
    "print '-' * 30, '\\n', 'np.na ratio:     ', 1.0 * d[col_name].isnull().sum() / len(d)\n",
    "print '-' * 30, '\\n', 'distinct values: ', len(d[col_name].value_counts())\n",
    "print '-' * 30, '\\n', 'top 10 values:'\n",
    "print d[col_name].value_counts().head(10)\n",
    "print '-' * 30, '\\n', 'bottom 10 values:'\n",
    "print d[col_name].value_counts().tail(10)\n",
    "print '-' * 30"
   ]
  },
  {
   "cell_type": "code",
   "execution_count": 21,
   "metadata": {
    "collapsed": false
   },
   "outputs": [],
   "source": [
    "def fix_age(x):\n",
    "    try:\n",
    "        a = int(x)\n",
    "        if a < 0 or a > 110:\n",
    "            return np.nan\n",
    "        return a\n",
    "    except:\n",
    "        return np.nan"
   ]
  },
  {
   "cell_type": "code",
   "execution_count": 22,
   "metadata": {
    "collapsed": true
   },
   "outputs": [],
   "source": [
    "d.age = d.age.apply(fix_age)"
   ]
  },
  {
   "cell_type": "code",
   "execution_count": 23,
   "metadata": {
    "collapsed": false
   },
   "outputs": [
    {
     "name": "stdout",
     "output_type": "stream",
     "text": [
      "------------------------------ \n",
      "dtype:            float64\n",
      "------------------------------ \n",
      "np.na count:      28554\n",
      "------------------------------ \n",
      "np.na ratio:      0.00195884948018\n",
      "------------------------------ \n",
      "distinct values:  109\n",
      "------------------------------ \n",
      "top 10 values:\n",
      "23.0    829488\n",
      "24.0    785491\n",
      "22.0    783988\n",
      "21.0    722310\n",
      "25.0    513445\n",
      "20.0    444376\n",
      "26.0    374450\n",
      "43.0    345895\n",
      "44.0    344197\n",
      "42.0    340556\n",
      "Name: age, dtype: int64\n",
      "------------------------------ \n",
      "bottom 10 values:\n",
      "103.0    2154\n",
      "3.0      1648\n",
      "104.0    1470\n",
      "105.0    1370\n",
      "106.0     971\n",
      "2.0       780\n",
      "107.0     646\n",
      "108.0     494\n",
      "109.0     291\n",
      "110.0     281\n",
      "Name: age, dtype: int64\n",
      "------------------------------\n"
     ]
    }
   ],
   "source": [
    "col_name = 'age'\n",
    "\n",
    "print '-' * 30, '\\n', 'dtype:           ', d[col_name].dtype\n",
    "print '-' * 30, '\\n', 'np.na count:     ', d[col_name].isnull().sum()\n",
    "print '-' * 30, '\\n', 'np.na ratio:     ', 1.0 * d[col_name].isnull().sum() / len(d)\n",
    "print '-' * 30, '\\n', 'distinct values: ', len(d[col_name].value_counts())\n",
    "print '-' * 30, '\\n', 'top 10 values:'\n",
    "print d[col_name].value_counts().head(10)\n",
    "print '-' * 30, '\\n', 'bottom 10 values:'\n",
    "print d[col_name].value_counts().tail(10)\n",
    "print '-' * 30"
   ]
  },
  {
   "cell_type": "code",
   "execution_count": 24,
   "metadata": {
    "collapsed": false
   },
   "outputs": [
    {
     "data": {
      "text/plain": [
       "count    1.454837e+07\n",
       "mean     4.018169e+01\n",
       "std      1.717667e+01\n",
       "min      2.000000e+00\n",
       "25%      2.400000e+01\n",
       "50%      3.900000e+01\n",
       "75%      5.000000e+01\n",
       "max      1.100000e+02\n",
       "Name: age, dtype: float64"
      ]
     },
     "execution_count": 24,
     "metadata": {},
     "output_type": "execute_result"
    }
   ],
   "source": [
    "d.age.dropna().describe()"
   ]
  },
  {
   "cell_type": "markdown",
   "metadata": {},
   "source": [
    "## first_contract_date"
   ]
  },
  {
   "cell_type": "code",
   "execution_count": 25,
   "metadata": {
    "collapsed": false
   },
   "outputs": [],
   "source": [
    "d.rename(columns={'fecha_alta': 'first_contract_date'}, inplace=True)"
   ]
  },
  {
   "cell_type": "code",
   "execution_count": 26,
   "metadata": {
    "collapsed": false
   },
   "outputs": [
    {
     "name": "stdout",
     "output_type": "stream",
     "text": [
      "------------------------------ \n",
      "dtype:            datetime64[ns]\n",
      "------------------------------ \n",
      "np.na count:      27734\n",
      "------------------------------ \n",
      "np.na ratio:      0.00190259618559\n",
      "------------------------------ \n",
      "distinct values:  6756\n",
      "------------------------------ \n",
      "top 10 values:\n",
      "2014-07-28    60810\n",
      "2014-10-03    57642\n",
      "2014-08-04    48533\n",
      "2013-10-14    43437\n",
      "2013-08-03    35427\n",
      "2012-08-06    27817\n",
      "2014-07-21    27604\n",
      "2012-08-03    26946\n",
      "2012-08-02    26518\n",
      "2013-10-11    26260\n",
      "Name: first_contract_date, dtype: int64\n",
      "------------------------------ \n",
      "bottom 10 values:\n",
      "2014-06-28    12\n",
      "2010-10-09    12\n",
      "2013-11-01    12\n",
      "2011-12-24    12\n",
      "2012-08-26    11\n",
      "2011-04-30    11\n",
      "2015-05-31     9\n",
      "2014-05-01     7\n",
      "2009-12-25     5\n",
      "2010-07-04     4\n",
      "Name: first_contract_date, dtype: int64\n",
      "------------------------------\n"
     ]
    }
   ],
   "source": [
    "col_name = 'first_contract_date'\n",
    "\n",
    "print '-' * 30, '\\n', 'dtype:           ', d[col_name].dtype\n",
    "print '-' * 30, '\\n', 'np.na count:     ', d[col_name].isnull().sum()\n",
    "print '-' * 30, '\\n', 'np.na ratio:     ', 1.0 * d[col_name].isnull().sum() / len(d)\n",
    "print '-' * 30, '\\n', 'distinct values: ', len(d[col_name].value_counts())\n",
    "print '-' * 30, '\\n', 'top 10 values:'\n",
    "print d[col_name].value_counts().head(10)\n",
    "print '-' * 30, '\\n', 'bottom 10 values:'\n",
    "print d[col_name].value_counts().tail(10)\n",
    "print '-' * 30"
   ]
  },
  {
   "cell_type": "markdown",
   "metadata": {},
   "source": [
    "## is_new_customer"
   ]
  },
  {
   "cell_type": "code",
   "execution_count": 27,
   "metadata": {
    "collapsed": true
   },
   "outputs": [],
   "source": [
    "d.rename(columns={'ind_nuevo': 'is_new_customer'}, inplace=True)"
   ]
  },
  {
   "cell_type": "code",
   "execution_count": 28,
   "metadata": {
    "collapsed": false
   },
   "outputs": [
    {
     "name": "stdout",
     "output_type": "stream",
     "text": [
      "------------------------------ \n",
      "dtype:            float64\n",
      "------------------------------ \n",
      "np.na count:      27734\n",
      "------------------------------ \n",
      "np.na ratio:      0.00190259618559\n",
      "------------------------------ \n",
      "distinct values:  2\n",
      "------------------------------ \n",
      "top 10 values:\n",
      "0.0    13712094\n",
      "1.0      837096\n",
      "Name: is_new_customer, dtype: int64\n",
      "------------------------------ \n",
      "bottom 10 values:\n",
      "0.0    13712094\n",
      "1.0      837096\n",
      "Name: is_new_customer, dtype: int64\n",
      "------------------------------\n"
     ]
    }
   ],
   "source": [
    "col_name = 'is_new_customer'\n",
    "\n",
    "print '-' * 30, '\\n', 'dtype:           ', d[col_name].dtype\n",
    "print '-' * 30, '\\n', 'np.na count:     ', d[col_name].isnull().sum()\n",
    "print '-' * 30, '\\n', 'np.na ratio:     ', 1.0 * d[col_name].isnull().sum() / len(d)\n",
    "print '-' * 30, '\\n', 'distinct values: ', len(d[col_name].value_counts())\n",
    "print '-' * 30, '\\n', 'top 10 values:'\n",
    "print d[col_name].value_counts().head(10)\n",
    "print '-' * 30, '\\n', 'bottom 10 values:'\n",
    "print d[col_name].value_counts().tail(10)\n",
    "print '-' * 30"
   ]
  },
  {
   "cell_type": "code",
   "execution_count": 29,
   "metadata": {
    "collapsed": true
   },
   "outputs": [],
   "source": [
    "d.is_new_customer = d.is_new_customer.map({\n",
    "        0.0: 'no',\n",
    "        1.0: 'yes'\n",
    "    })"
   ]
  },
  {
   "cell_type": "code",
   "execution_count": 30,
   "metadata": {
    "collapsed": false
   },
   "outputs": [
    {
     "name": "stdout",
     "output_type": "stream",
     "text": [
      "------------------------------ \n",
      "dtype:            object\n",
      "------------------------------ \n",
      "np.na count:      27734\n",
      "------------------------------ \n",
      "np.na ratio:      0.00190259618559\n",
      "------------------------------ \n",
      "distinct values:  2\n",
      "------------------------------ \n",
      "top 10 values:\n",
      "no     13712094\n",
      "yes      837096\n",
      "Name: is_new_customer, dtype: int64\n",
      "------------------------------ \n",
      "bottom 10 values:\n",
      "no     13712094\n",
      "yes      837096\n",
      "Name: is_new_customer, dtype: int64\n",
      "------------------------------\n"
     ]
    }
   ],
   "source": [
    "col_name = 'is_new_customer'\n",
    "\n",
    "print '-' * 30, '\\n', 'dtype:           ', d[col_name].dtype\n",
    "print '-' * 30, '\\n', 'np.na count:     ', d[col_name].isnull().sum()\n",
    "print '-' * 30, '\\n', 'np.na ratio:     ', 1.0 * d[col_name].isnull().sum() / len(d)\n",
    "print '-' * 30, '\\n', 'distinct values: ', len(d[col_name].value_counts())\n",
    "print '-' * 30, '\\n', 'top 10 values:'\n",
    "print d[col_name].value_counts().head(10)\n",
    "print '-' * 30, '\\n', 'bottom 10 values:'\n",
    "print d[col_name].value_counts().tail(10)\n",
    "print '-' * 30"
   ]
  },
  {
   "cell_type": "markdown",
   "metadata": {},
   "source": [
    "## customer_for_months"
   ]
  },
  {
   "cell_type": "code",
   "execution_count": 31,
   "metadata": {
    "collapsed": true
   },
   "outputs": [],
   "source": [
    "d.rename(columns={'antiguedad': 'customer_for_months'}, inplace=True)"
   ]
  },
  {
   "cell_type": "code",
   "execution_count": 32,
   "metadata": {
    "collapsed": false
   },
   "outputs": [
    {
     "name": "stdout",
     "output_type": "stream",
     "text": [
      "------------------------------ \n",
      "dtype:            object\n",
      "------------------------------ \n",
      "np.na count:      0\n",
      "------------------------------ \n",
      "np.na ratio:      0.0\n",
      "------------------------------ \n",
      "distinct values:  260\n",
      "------------------------------ \n",
      "top 10 values:\n",
      "     12    246752\n",
      "     21    232718\n",
      "     10    216109\n",
      "      9    200929\n",
      "     23    193779\n",
      "     33    187062\n",
      "     45    182275\n",
      "      8    182038\n",
      "     24    172144\n",
      "     44    169368\n",
      "Name: customer_for_months, dtype: int64\n",
      "------------------------------ \n",
      "bottom 10 values:\n",
      "    249    2408\n",
      "    250    1703\n",
      "    251    1490\n",
      "    252    1119\n",
      "    253     660\n",
      "    254     413\n",
      "    255     263\n",
      "    256     179\n",
      "    257     102\n",
      "-999999      41\n",
      "Name: customer_for_months, dtype: int64\n",
      "------------------------------\n"
     ]
    }
   ],
   "source": [
    "col_name = 'customer_for_months'\n",
    "\n",
    "print '-' * 30, '\\n', 'dtype:           ', d[col_name].dtype\n",
    "print '-' * 30, '\\n', 'np.na count:     ', d[col_name].isnull().sum()\n",
    "print '-' * 30, '\\n', 'np.na ratio:     ', 1.0 * d[col_name].isnull().sum() / len(d)\n",
    "print '-' * 30, '\\n', 'distinct values: ', len(d[col_name].value_counts())\n",
    "print '-' * 30, '\\n', 'top 10 values:'\n",
    "print d[col_name].value_counts().head(10)\n",
    "print '-' * 30, '\\n', 'bottom 10 values:'\n",
    "print d[col_name].value_counts().tail(10)\n",
    "print '-' * 30"
   ]
  },
  {
   "cell_type": "code",
   "execution_count": 33,
   "metadata": {
    "collapsed": true
   },
   "outputs": [],
   "source": [
    "def fix_customer_for_months(x):\n",
    "    try:\n",
    "        a = int(x)\n",
    "        if a < 0 or a > 1200:\n",
    "            return np.nan\n",
    "        return a\n",
    "    except:\n",
    "        return np.nan"
   ]
  },
  {
   "cell_type": "code",
   "execution_count": 34,
   "metadata": {
    "collapsed": true
   },
   "outputs": [],
   "source": [
    "d.customer_for_months = d.customer_for_months.apply(fix_customer_for_months)"
   ]
  },
  {
   "cell_type": "code",
   "execution_count": 35,
   "metadata": {
    "collapsed": false
   },
   "outputs": [
    {
     "name": "stdout",
     "output_type": "stream",
     "text": [
      "------------------------------ \n",
      "dtype:            float64\n",
      "------------------------------ \n",
      "np.na count:      27775\n",
      "------------------------------ \n",
      "np.na ratio:      0.00190540885032\n",
      "------------------------------ \n",
      "distinct values:  258\n",
      "------------------------------ \n",
      "top 10 values:\n",
      "12.0    246752\n",
      "21.0    232718\n",
      "10.0    216109\n",
      "9.0     200929\n",
      "23.0    193779\n",
      "33.0    187062\n",
      "45.0    182275\n",
      "8.0     182038\n",
      "24.0    172144\n",
      "44.0    169368\n",
      "Name: customer_for_months, dtype: int64\n",
      "------------------------------ \n",
      "bottom 10 values:\n",
      "248.0    3382\n",
      "249.0    2408\n",
      "250.0    1703\n",
      "251.0    1490\n",
      "252.0    1119\n",
      "253.0     660\n",
      "254.0     413\n",
      "255.0     263\n",
      "256.0     179\n",
      "257.0     102\n",
      "Name: customer_for_months, dtype: int64\n",
      "------------------------------\n"
     ]
    }
   ],
   "source": [
    "col_name = 'customer_for_months'\n",
    "\n",
    "print '-' * 30, '\\n', 'dtype:           ', d[col_name].dtype\n",
    "print '-' * 30, '\\n', 'np.na count:     ', d[col_name].isnull().sum()\n",
    "print '-' * 30, '\\n', 'np.na ratio:     ', 1.0 * d[col_name].isnull().sum() / len(d)\n",
    "print '-' * 30, '\\n', 'distinct values: ', len(d[col_name].value_counts())\n",
    "print '-' * 30, '\\n', 'top 10 values:'\n",
    "print d[col_name].value_counts().head(10)\n",
    "print '-' * 30, '\\n', 'bottom 10 values:'\n",
    "print d[col_name].value_counts().tail(10)\n",
    "print '-' * 30"
   ]
  },
  {
   "cell_type": "code",
   "execution_count": 36,
   "metadata": {
    "collapsed": false
   },
   "outputs": [
    {
     "data": {
      "text/plain": [
       "count    1.454915e+07\n",
       "mean     7.948280e+01\n",
       "std      6.643134e+01\n",
       "min      0.000000e+00\n",
       "25%      2.300000e+01\n",
       "50%      5.000000e+01\n",
       "75%      1.350000e+02\n",
       "max      2.570000e+02\n",
       "Name: customer_for_months, dtype: float64"
      ]
     },
     "execution_count": 36,
     "metadata": {},
     "output_type": "execute_result"
    }
   ],
   "source": [
    "d.customer_for_months.dropna().describe()"
   ]
  },
  {
   "cell_type": "markdown",
   "metadata": {},
   "source": [
    "## is_primary_customer"
   ]
  },
  {
   "cell_type": "code",
   "execution_count": 37,
   "metadata": {
    "collapsed": true
   },
   "outputs": [],
   "source": [
    "d.rename(columns={'indrel': 'is_primary_customer'}, inplace=True)"
   ]
  },
  {
   "cell_type": "code",
   "execution_count": 38,
   "metadata": {
    "collapsed": false
   },
   "outputs": [
    {
     "name": "stdout",
     "output_type": "stream",
     "text": [
      "------------------------------ \n",
      "dtype:            float64\n",
      "------------------------------ \n",
      "np.na count:      27734\n",
      "------------------------------ \n",
      "np.na ratio:      0.00190259618559\n",
      "------------------------------ \n",
      "distinct values:  2\n",
      "------------------------------ \n",
      "top 10 values:\n",
      "1.0     14522714\n",
      "99.0       26476\n",
      "Name: is_primary_customer, dtype: int64\n",
      "------------------------------ \n",
      "bottom 10 values:\n",
      "1.0     14522714\n",
      "99.0       26476\n",
      "Name: is_primary_customer, dtype: int64\n",
      "------------------------------\n"
     ]
    }
   ],
   "source": [
    "col_name = 'is_primary_customer'\n",
    "\n",
    "print '-' * 30, '\\n', 'dtype:           ', d[col_name].dtype\n",
    "print '-' * 30, '\\n', 'np.na count:     ', d[col_name].isnull().sum()\n",
    "print '-' * 30, '\\n', 'np.na ratio:     ', 1.0 * d[col_name].isnull().sum() / len(d)\n",
    "print '-' * 30, '\\n', 'distinct values: ', len(d[col_name].value_counts())\n",
    "print '-' * 30, '\\n', 'top 10 values:'\n",
    "print d[col_name].value_counts().head(10)\n",
    "print '-' * 30, '\\n', 'bottom 10 values:'\n",
    "print d[col_name].value_counts().tail(10)\n",
    "print '-' * 30"
   ]
  },
  {
   "cell_type": "code",
   "execution_count": 39,
   "metadata": {
    "collapsed": true
   },
   "outputs": [],
   "source": [
    "d.is_primary_customer = d.is_primary_customer.map({\n",
    "        1: 'yes',\n",
    "        99: 'no'})"
   ]
  },
  {
   "cell_type": "code",
   "execution_count": 40,
   "metadata": {
    "collapsed": false
   },
   "outputs": [
    {
     "name": "stdout",
     "output_type": "stream",
     "text": [
      "------------------------------ \n",
      "dtype:            object\n",
      "------------------------------ \n",
      "np.na count:      27734\n",
      "------------------------------ \n",
      "np.na ratio:      0.00190259618559\n",
      "------------------------------ \n",
      "distinct values:  2\n",
      "------------------------------ \n",
      "top 10 values:\n",
      "yes    14522714\n",
      "no        26476\n",
      "Name: is_primary_customer, dtype: int64\n",
      "------------------------------ \n",
      "bottom 10 values:\n",
      "yes    14522714\n",
      "no        26476\n",
      "Name: is_primary_customer, dtype: int64\n",
      "------------------------------\n"
     ]
    }
   ],
   "source": [
    "col_name = 'is_primary_customer'\n",
    "\n",
    "print '-' * 30, '\\n', 'dtype:           ', d[col_name].dtype\n",
    "print '-' * 30, '\\n', 'np.na count:     ', d[col_name].isnull().sum()\n",
    "print '-' * 30, '\\n', 'np.na ratio:     ', 1.0 * d[col_name].isnull().sum() / len(d)\n",
    "print '-' * 30, '\\n', 'distinct values: ', len(d[col_name].value_counts())\n",
    "print '-' * 30, '\\n', 'top 10 values:'\n",
    "print d[col_name].value_counts().head(10)\n",
    "print '-' * 30, '\\n', 'bottom 10 values:'\n",
    "print d[col_name].value_counts().tail(10)\n",
    "print '-' * 30"
   ]
  },
  {
   "cell_type": "markdown",
   "metadata": {},
   "source": [
    "## last_primary_customer_date"
   ]
  },
  {
   "cell_type": "code",
   "execution_count": 41,
   "metadata": {
    "collapsed": true
   },
   "outputs": [],
   "source": [
    "d.rename(columns={'ult_fec_cli_1t': 'last_primary_customer_date'}, inplace=True)"
   ]
  },
  {
   "cell_type": "code",
   "execution_count": 42,
   "metadata": {
    "collapsed": false
   },
   "outputs": [
    {
     "name": "stdout",
     "output_type": "stream",
     "text": [
      "------------------------------ \n",
      "dtype:            object\n",
      "------------------------------ \n",
      "np.na count:      14550448\n",
      "------------------------------ \n",
      "np.na ratio:      0.998183704601\n",
      "------------------------------ \n",
      "distinct values:  244\n",
      "------------------------------ \n",
      "top 10 values:\n",
      "2015-12-24    763\n",
      "2015-12-28    521\n",
      "2015-07-09    443\n",
      "2015-07-06    405\n",
      "2015-07-01    401\n",
      "2015-07-21    391\n",
      "2015-07-07    340\n",
      "2015-07-17    330\n",
      "2015-07-10    320\n",
      "2015-07-28    311\n",
      "Name: last_primary_customer_date, dtype: int64\n",
      "------------------------------ \n",
      "bottom 10 values:\n",
      "2015-08-14    51\n",
      "2016-06-28    49\n",
      "2016-03-24    49\n",
      "2016-03-23    46\n",
      "2015-08-19    44\n",
      "2016-04-28    44\n",
      "2015-08-06    41\n",
      "2016-06-29    36\n",
      "2016-01-04    34\n",
      "2015-12-23    27\n",
      "Name: last_primary_customer_date, dtype: int64\n",
      "------------------------------\n"
     ]
    }
   ],
   "source": [
    "col_name = 'last_primary_customer_date'\n",
    "\n",
    "print '-' * 30, '\\n', 'dtype:           ', d[col_name].dtype\n",
    "print '-' * 30, '\\n', 'np.na count:     ', d[col_name].isnull().sum()\n",
    "print '-' * 30, '\\n', 'np.na ratio:     ', 1.0 * d[col_name].isnull().sum() / len(d)\n",
    "print '-' * 30, '\\n', 'distinct values: ', len(d[col_name].value_counts())\n",
    "print '-' * 30, '\\n', 'top 10 values:'\n",
    "print d[col_name].value_counts().head(10)\n",
    "print '-' * 30, '\\n', 'bottom 10 values:'\n",
    "print d[col_name].value_counts().tail(10)\n",
    "print '-' * 30"
   ]
  },
  {
   "cell_type": "markdown",
   "metadata": {},
   "source": [
    "## customer_type"
   ]
  },
  {
   "cell_type": "code",
   "execution_count": 43,
   "metadata": {
    "collapsed": true
   },
   "outputs": [],
   "source": [
    "d.rename(columns={'indrel_1mes': 'customer_type'}, inplace=True)"
   ]
  },
  {
   "cell_type": "code",
   "execution_count": 44,
   "metadata": {
    "collapsed": false
   },
   "outputs": [
    {
     "name": "stdout",
     "output_type": "stream",
     "text": [
      "------------------------------ \n",
      "dtype:            object\n",
      "------------------------------ \n",
      "np.na count:      149804\n",
      "------------------------------ \n",
      "np.na ratio:      0.010276790906\n",
      "------------------------------ \n",
      "distinct values:  9\n",
      "------------------------------ \n",
      "top 10 values:\n",
      "1.0    9745138\n",
      "1      4675108\n",
      "3.0       2792\n",
      "3         1585\n",
      "P          874\n",
      "2.0        740\n",
      "2          577\n",
      "4.0        223\n",
      "4           83\n",
      "Name: customer_type, dtype: int64\n",
      "------------------------------ \n",
      "bottom 10 values:\n",
      "1.0    9745138\n",
      "1      4675108\n",
      "3.0       2792\n",
      "3         1585\n",
      "P          874\n",
      "2.0        740\n",
      "2          577\n",
      "4.0        223\n",
      "4           83\n",
      "Name: customer_type, dtype: int64\n",
      "------------------------------\n"
     ]
    }
   ],
   "source": [
    "col_name = 'customer_type'\n",
    "\n",
    "print '-' * 30, '\\n', 'dtype:           ', d[col_name].dtype\n",
    "print '-' * 30, '\\n', 'np.na count:     ', d[col_name].isnull().sum()\n",
    "print '-' * 30, '\\n', 'np.na ratio:     ', 1.0 * d[col_name].isnull().sum() / len(d)\n",
    "print '-' * 30, '\\n', 'distinct values: ', len(d[col_name].value_counts())\n",
    "print '-' * 30, '\\n', 'top 10 values:'\n",
    "print d[col_name].value_counts().head(10)\n",
    "print '-' * 30, '\\n', 'bottom 10 values:'\n",
    "print d[col_name].value_counts().tail(10)\n",
    "print '-' * 30"
   ]
  },
  {
   "cell_type": "code",
   "execution_count": 45,
   "metadata": {
    "collapsed": true
   },
   "outputs": [],
   "source": [
    "d.customer_type = d.customer_type.map({\n",
    "        1: 'primary',\n",
    "        1.0: 'primary',\n",
    "        '1': 'primary',\n",
    "        '1.0': 'primary',\n",
    "        2: 'co-owner',\n",
    "        2.0: 'co-owner',\n",
    "        '2': 'co-owner',\n",
    "        '2.0': 'co-owner',\n",
    "        3: 'ex-primary',\n",
    "        3.0: 'ex-primary',\n",
    "        '3': 'ex-primary',\n",
    "        '3.0': 'ex-primary',\n",
    "        4: 'ex-co-owner',\n",
    "        4.0: 'ex-co-owner',\n",
    "        '4': 'ex-co-owner',\n",
    "        '4.0': 'ex-co-owner',\n",
    "        'P': 'potential'})"
   ]
  },
  {
   "cell_type": "code",
   "execution_count": 46,
   "metadata": {
    "collapsed": false
   },
   "outputs": [
    {
     "name": "stdout",
     "output_type": "stream",
     "text": [
      "------------------------------ \n",
      "dtype:            object\n",
      "------------------------------ \n",
      "np.na count:      149804\n",
      "------------------------------ \n",
      "np.na ratio:      0.010276790906\n",
      "------------------------------ \n",
      "distinct values:  5\n",
      "------------------------------ \n",
      "top 10 values:\n",
      "primary        14420246\n",
      "ex-primary         4377\n",
      "co-owner           1317\n",
      "potential           874\n",
      "ex-co-owner         306\n",
      "Name: customer_type, dtype: int64\n",
      "------------------------------ \n",
      "bottom 10 values:\n",
      "primary        14420246\n",
      "ex-primary         4377\n",
      "co-owner           1317\n",
      "potential           874\n",
      "ex-co-owner         306\n",
      "Name: customer_type, dtype: int64\n",
      "------------------------------\n"
     ]
    }
   ],
   "source": [
    "col_name = 'customer_type'\n",
    "\n",
    "print '-' * 30, '\\n', 'dtype:           ', d[col_name].dtype\n",
    "print '-' * 30, '\\n', 'np.na count:     ', d[col_name].isnull().sum()\n",
    "print '-' * 30, '\\n', 'np.na ratio:     ', 1.0 * d[col_name].isnull().sum() / len(d)\n",
    "print '-' * 30, '\\n', 'distinct values: ', len(d[col_name].value_counts())\n",
    "print '-' * 30, '\\n', 'top 10 values:'\n",
    "print d[col_name].value_counts().head(10)\n",
    "print '-' * 30, '\\n', 'bottom 10 values:'\n",
    "print d[col_name].value_counts().tail(10)\n",
    "print '-' * 30"
   ]
  },
  {
   "cell_type": "markdown",
   "metadata": {},
   "source": [
    "## customer_relation_type"
   ]
  },
  {
   "cell_type": "code",
   "execution_count": 47,
   "metadata": {
    "collapsed": true
   },
   "outputs": [],
   "source": [
    "d.rename(columns={'tiprel_1mes': 'customer_relation_type'}, inplace=True)"
   ]
  },
  {
   "cell_type": "code",
   "execution_count": 48,
   "metadata": {
    "collapsed": false
   },
   "outputs": [
    {
     "name": "stdout",
     "output_type": "stream",
     "text": [
      "------------------------------ \n",
      "dtype:            object\n",
      "------------------------------ \n",
      "np.na count:      149804\n",
      "------------------------------ \n",
      "np.na ratio:      0.010276790906\n",
      "------------------------------ \n",
      "distinct values:  5\n",
      "------------------------------ \n",
      "top 10 values:\n",
      "I    7840818\n",
      "A    6580745\n",
      "P       4683\n",
      "R        870\n",
      "N          4\n",
      "Name: customer_relation_type, dtype: int64\n",
      "------------------------------ \n",
      "bottom 10 values:\n",
      "I    7840818\n",
      "A    6580745\n",
      "P       4683\n",
      "R        870\n",
      "N          4\n",
      "Name: customer_relation_type, dtype: int64\n",
      "------------------------------\n"
     ]
    }
   ],
   "source": [
    "col_name = 'customer_relation_type'\n",
    "\n",
    "print '-' * 30, '\\n', 'dtype:           ', d[col_name].dtype\n",
    "print '-' * 30, '\\n', 'np.na count:     ', d[col_name].isnull().sum()\n",
    "print '-' * 30, '\\n', 'np.na ratio:     ', 1.0 * d[col_name].isnull().sum() / len(d)\n",
    "print '-' * 30, '\\n', 'distinct values: ', len(d[col_name].value_counts())\n",
    "print '-' * 30, '\\n', 'top 10 values:'\n",
    "print d[col_name].value_counts().head(10)\n",
    "print '-' * 30, '\\n', 'bottom 10 values:'\n",
    "print d[col_name].value_counts().tail(10)\n",
    "print '-' * 30"
   ]
  },
  {
   "cell_type": "code",
   "execution_count": 49,
   "metadata": {
    "collapsed": true
   },
   "outputs": [],
   "source": [
    "d.customer_relation_type = d.customer_relation_type.map({\n",
    "        'I': 'inactive',\n",
    "        'A': 'active',\n",
    "        'P': 'ex-customer',\n",
    "        'R': 'potential'})"
   ]
  },
  {
   "cell_type": "code",
   "execution_count": 50,
   "metadata": {
    "collapsed": false
   },
   "outputs": [
    {
     "name": "stdout",
     "output_type": "stream",
     "text": [
      "------------------------------ \n",
      "dtype:            object\n",
      "------------------------------ \n",
      "np.na count:      149808\n",
      "------------------------------ \n",
      "np.na ratio:      0.0102770653123\n",
      "------------------------------ \n",
      "distinct values:  4\n",
      "------------------------------ \n",
      "top 10 values:\n",
      "inactive       7840818\n",
      "active         6580745\n",
      "ex-customer       4683\n",
      "potential          870\n",
      "Name: customer_relation_type, dtype: int64\n",
      "------------------------------ \n",
      "bottom 10 values:\n",
      "inactive       7840818\n",
      "active         6580745\n",
      "ex-customer       4683\n",
      "potential          870\n",
      "Name: customer_relation_type, dtype: int64\n",
      "------------------------------\n"
     ]
    }
   ],
   "source": [
    "col_name = 'customer_relation_type'\n",
    "\n",
    "print '-' * 30, '\\n', 'dtype:           ', d[col_name].dtype\n",
    "print '-' * 30, '\\n', 'np.na count:     ', d[col_name].isnull().sum()\n",
    "print '-' * 30, '\\n', 'np.na ratio:     ', 1.0 * d[col_name].isnull().sum() / len(d)\n",
    "print '-' * 30, '\\n', 'distinct values: ', len(d[col_name].value_counts())\n",
    "print '-' * 30, '\\n', 'top 10 values:'\n",
    "print d[col_name].value_counts().head(10)\n",
    "print '-' * 30, '\\n', 'bottom 10 values:'\n",
    "print d[col_name].value_counts().tail(10)\n",
    "print '-' * 30"
   ]
  },
  {
   "cell_type": "markdown",
   "metadata": {},
   "source": [
    "## country_residence_bank_same"
   ]
  },
  {
   "cell_type": "code",
   "execution_count": 51,
   "metadata": {
    "collapsed": true
   },
   "outputs": [],
   "source": [
    "d.rename(columns={'indresi': 'country_residence_bank_same'}, inplace=True)"
   ]
  },
  {
   "cell_type": "code",
   "execution_count": 52,
   "metadata": {
    "collapsed": false
   },
   "outputs": [
    {
     "name": "stdout",
     "output_type": "stream",
     "text": [
      "------------------------------ \n",
      "dtype:            object\n",
      "------------------------------ \n",
      "np.na count:      27734\n",
      "------------------------------ \n",
      "np.na ratio:      0.00190259618559\n",
      "------------------------------ \n",
      "distinct values:  2\n",
      "------------------------------ \n",
      "top 10 values:\n",
      "S    14479331\n",
      "N       69859\n",
      "Name: country_residence_bank_same, dtype: int64\n",
      "------------------------------ \n",
      "bottom 10 values:\n",
      "S    14479331\n",
      "N       69859\n",
      "Name: country_residence_bank_same, dtype: int64\n",
      "------------------------------\n"
     ]
    }
   ],
   "source": [
    "col_name = 'country_residence_bank_same'\n",
    "\n",
    "print '-' * 30, '\\n', 'dtype:           ', d[col_name].dtype\n",
    "print '-' * 30, '\\n', 'np.na count:     ', d[col_name].isnull().sum()\n",
    "print '-' * 30, '\\n', 'np.na ratio:     ', 1.0 * d[col_name].isnull().sum() / len(d)\n",
    "print '-' * 30, '\\n', 'distinct values: ', len(d[col_name].value_counts())\n",
    "print '-' * 30, '\\n', 'top 10 values:'\n",
    "print d[col_name].value_counts().head(10)\n",
    "print '-' * 30, '\\n', 'bottom 10 values:'\n",
    "print d[col_name].value_counts().tail(10)\n",
    "print '-' * 30"
   ]
  },
  {
   "cell_type": "code",
   "execution_count": 53,
   "metadata": {
    "collapsed": true
   },
   "outputs": [],
   "source": [
    "d.country_residence_bank_same = d.country_residence_bank_same.map({\n",
    "        'S': 'yes',\n",
    "        'N': 'no'})"
   ]
  },
  {
   "cell_type": "code",
   "execution_count": 54,
   "metadata": {
    "collapsed": false
   },
   "outputs": [
    {
     "name": "stdout",
     "output_type": "stream",
     "text": [
      "------------------------------ \n",
      "dtype:            object\n",
      "------------------------------ \n",
      "np.na count:      27734\n",
      "------------------------------ \n",
      "np.na ratio:      0.00190259618559\n",
      "------------------------------ \n",
      "distinct values:  2\n",
      "------------------------------ \n",
      "top 10 values:\n",
      "yes    14479331\n",
      "no        69859\n",
      "Name: country_residence_bank_same, dtype: int64\n",
      "------------------------------ \n",
      "bottom 10 values:\n",
      "yes    14479331\n",
      "no        69859\n",
      "Name: country_residence_bank_same, dtype: int64\n",
      "------------------------------\n"
     ]
    }
   ],
   "source": [
    "col_name = 'country_residence_bank_same'\n",
    "\n",
    "print '-' * 30, '\\n', 'dtype:           ', d[col_name].dtype\n",
    "print '-' * 30, '\\n', 'np.na count:     ', d[col_name].isnull().sum()\n",
    "print '-' * 30, '\\n', 'np.na ratio:     ', 1.0 * d[col_name].isnull().sum() / len(d)\n",
    "print '-' * 30, '\\n', 'distinct values: ', len(d[col_name].value_counts())\n",
    "print '-' * 30, '\\n', 'top 10 values:'\n",
    "print d[col_name].value_counts().head(10)\n",
    "print '-' * 30, '\\n', 'bottom 10 values:'\n",
    "print d[col_name].value_counts().tail(10)\n",
    "print '-' * 30"
   ]
  },
  {
   "cell_type": "markdown",
   "metadata": {},
   "source": [
    "## is_foreigner"
   ]
  },
  {
   "cell_type": "code",
   "execution_count": 55,
   "metadata": {
    "collapsed": false
   },
   "outputs": [],
   "source": [
    "d.rename(columns={'indext': 'is_foreigner'}, inplace=True)"
   ]
  },
  {
   "cell_type": "code",
   "execution_count": 56,
   "metadata": {
    "collapsed": false
   },
   "outputs": [
    {
     "name": "stdout",
     "output_type": "stream",
     "text": [
      "------------------------------ \n",
      "dtype:            object\n",
      "------------------------------ \n",
      "np.na count:      27734\n",
      "------------------------------ \n",
      "np.na ratio:      0.00190259618559\n",
      "------------------------------ \n",
      "distinct values:  2\n",
      "------------------------------ \n",
      "top 10 values:\n",
      "N    13858387\n",
      "S      690803\n",
      "Name: is_foreigner, dtype: int64\n",
      "------------------------------ \n",
      "bottom 10 values:\n",
      "N    13858387\n",
      "S      690803\n",
      "Name: is_foreigner, dtype: int64\n",
      "------------------------------\n"
     ]
    }
   ],
   "source": [
    "col_name = 'is_foreigner'\n",
    "\n",
    "print '-' * 30, '\\n', 'dtype:           ', d[col_name].dtype\n",
    "print '-' * 30, '\\n', 'np.na count:     ', d[col_name].isnull().sum()\n",
    "print '-' * 30, '\\n', 'np.na ratio:     ', 1.0 * d[col_name].isnull().sum() / len(d)\n",
    "print '-' * 30, '\\n', 'distinct values: ', len(d[col_name].value_counts())\n",
    "print '-' * 30, '\\n', 'top 10 values:'\n",
    "print d[col_name].value_counts().head(10)\n",
    "print '-' * 30, '\\n', 'bottom 10 values:'\n",
    "print d[col_name].value_counts().tail(10)\n",
    "print '-' * 30"
   ]
  },
  {
   "cell_type": "code",
   "execution_count": 57,
   "metadata": {
    "collapsed": true
   },
   "outputs": [],
   "source": [
    "d.is_foreigner = d.is_foreigner.map({\n",
    "        'S': 'yes',\n",
    "        'N': 'no'})"
   ]
  },
  {
   "cell_type": "code",
   "execution_count": 58,
   "metadata": {
    "collapsed": false
   },
   "outputs": [
    {
     "name": "stdout",
     "output_type": "stream",
     "text": [
      "------------------------------ \n",
      "dtype:            object\n",
      "------------------------------ \n",
      "np.na count:      27734\n",
      "------------------------------ \n",
      "np.na ratio:      0.00190259618559\n",
      "------------------------------ \n",
      "distinct values:  2\n",
      "------------------------------ \n",
      "top 10 values:\n",
      "no     13858387\n",
      "yes      690803\n",
      "Name: is_foreigner, dtype: int64\n",
      "------------------------------ \n",
      "bottom 10 values:\n",
      "no     13858387\n",
      "yes      690803\n",
      "Name: is_foreigner, dtype: int64\n",
      "------------------------------\n"
     ]
    }
   ],
   "source": [
    "col_name = 'is_foreigner'\n",
    "\n",
    "print '-' * 30, '\\n', 'dtype:           ', d[col_name].dtype\n",
    "print '-' * 30, '\\n', 'np.na count:     ', d[col_name].isnull().sum()\n",
    "print '-' * 30, '\\n', 'np.na ratio:     ', 1.0 * d[col_name].isnull().sum() / len(d)\n",
    "print '-' * 30, '\\n', 'distinct values: ', len(d[col_name].value_counts())\n",
    "print '-' * 30, '\\n', 'top 10 values:'\n",
    "print d[col_name].value_counts().head(10)\n",
    "print '-' * 30, '\\n', 'bottom 10 values:'\n",
    "print d[col_name].value_counts().tail(10)\n",
    "print '-' * 30"
   ]
  },
  {
   "cell_type": "markdown",
   "metadata": {},
   "source": [
    "## is_spouse_of_an_employee"
   ]
  },
  {
   "cell_type": "code",
   "execution_count": 59,
   "metadata": {
    "collapsed": true
   },
   "outputs": [],
   "source": [
    "d.rename(columns={'conyuemp': 'is_spouse_of_an_employee'}, inplace=True)"
   ]
  },
  {
   "cell_type": "code",
   "execution_count": 60,
   "metadata": {
    "collapsed": false
   },
   "outputs": [
    {
     "name": "stdout",
     "output_type": "stream",
     "text": [
      "------------------------------ \n",
      "dtype:            object\n",
      "------------------------------ \n",
      "np.na count:      14575012\n",
      "------------------------------ \n",
      "np.na ratio:      0.999868833781\n",
      "------------------------------ \n",
      "distinct values:  2\n",
      "------------------------------ \n",
      "top 10 values:\n",
      "N    1894\n",
      "S      18\n",
      "Name: is_spouse_of_an_employee, dtype: int64\n",
      "------------------------------ \n",
      "bottom 10 values:\n",
      "N    1894\n",
      "S      18\n",
      "Name: is_spouse_of_an_employee, dtype: int64\n",
      "------------------------------\n"
     ]
    }
   ],
   "source": [
    "col_name = 'is_spouse_of_an_employee'\n",
    "\n",
    "print '-' * 30, '\\n', 'dtype:           ', d[col_name].dtype\n",
    "print '-' * 30, '\\n', 'np.na count:     ', d[col_name].isnull().sum()\n",
    "print '-' * 30, '\\n', 'np.na ratio:     ', 1.0 * d[col_name].isnull().sum() / len(d)\n",
    "print '-' * 30, '\\n', 'distinct values: ', len(d[col_name].value_counts())\n",
    "print '-' * 30, '\\n', 'top 10 values:'\n",
    "print d[col_name].value_counts().head(10)\n",
    "print '-' * 30, '\\n', 'bottom 10 values:'\n",
    "print d[col_name].value_counts().tail(10)\n",
    "print '-' * 30"
   ]
  },
  {
   "cell_type": "code",
   "execution_count": 61,
   "metadata": {
    "collapsed": true
   },
   "outputs": [],
   "source": [
    "d.is_spouse_of_an_employee = d.is_spouse_of_an_employee.map({\n",
    "        'S': 'yes',\n",
    "        'N': 'no'})"
   ]
  },
  {
   "cell_type": "code",
   "execution_count": 62,
   "metadata": {
    "collapsed": false
   },
   "outputs": [
    {
     "name": "stdout",
     "output_type": "stream",
     "text": [
      "------------------------------ \n",
      "dtype:            object\n",
      "------------------------------ \n",
      "np.na count:      14575012\n",
      "------------------------------ \n",
      "np.na ratio:      0.999868833781\n",
      "------------------------------ \n",
      "distinct values:  2\n",
      "------------------------------ \n",
      "top 10 values:\n",
      "no     1894\n",
      "yes      18\n",
      "Name: is_spouse_of_an_employee, dtype: int64\n",
      "------------------------------ \n",
      "bottom 10 values:\n",
      "no     1894\n",
      "yes      18\n",
      "Name: is_spouse_of_an_employee, dtype: int64\n",
      "------------------------------\n"
     ]
    }
   ],
   "source": [
    "col_name = 'is_spouse_of_an_employee'\n",
    "\n",
    "print '-' * 30, '\\n', 'dtype:           ', d[col_name].dtype\n",
    "print '-' * 30, '\\n', 'np.na count:     ', d[col_name].isnull().sum()\n",
    "print '-' * 30, '\\n', 'np.na ratio:     ', 1.0 * d[col_name].isnull().sum() / len(d)\n",
    "print '-' * 30, '\\n', 'distinct values: ', len(d[col_name].value_counts())\n",
    "print '-' * 30, '\\n', 'top 10 values:'\n",
    "print d[col_name].value_counts().head(10)\n",
    "print '-' * 30, '\\n', 'bottom 10 values:'\n",
    "print d[col_name].value_counts().tail(10)\n",
    "print '-' * 30"
   ]
  },
  {
   "cell_type": "markdown",
   "metadata": {},
   "source": [
    "## join_channel"
   ]
  },
  {
   "cell_type": "code",
   "execution_count": 63,
   "metadata": {
    "collapsed": true
   },
   "outputs": [],
   "source": [
    "d.rename(columns={'canal_entrada': 'join_channel'}, inplace=True)"
   ]
  },
  {
   "cell_type": "code",
   "execution_count": 64,
   "metadata": {
    "collapsed": false
   },
   "outputs": [
    {
     "name": "stdout",
     "output_type": "stream",
     "text": [
      "------------------------------ \n",
      "dtype:            object\n",
      "------------------------------ \n",
      "np.na count:      188207\n",
      "------------------------------ \n",
      "np.na ratio:      0.0129112973354\n",
      "------------------------------ \n",
      "distinct values:  162\n",
      "------------------------------ \n",
      "top 10 values:\n",
      "KHE    4306935\n",
      "KAT    3474042\n",
      "KFC    3299057\n",
      "KHQ     666008\n",
      "KFA     435322\n",
      "KHK     258002\n",
      "KHM     217308\n",
      "KHN     134739\n",
      "KHD     124281\n",
      "KAS      91805\n",
      "Name: join_channel, dtype: int64\n",
      "------------------------------ \n",
      "bottom 10 values:\n",
      "KHA    54\n",
      "KGU    30\n",
      "KGC    30\n",
      "KHS    27\n",
      "KDB    18\n",
      "KGN    18\n",
      "KDI    18\n",
      "KDL    12\n",
      "025    12\n",
      "KHR     2\n",
      "Name: join_channel, dtype: int64\n",
      "------------------------------\n"
     ]
    }
   ],
   "source": [
    "col_name = 'join_channel'\n",
    "\n",
    "print '-' * 30, '\\n', 'dtype:           ', d[col_name].dtype\n",
    "print '-' * 30, '\\n', 'np.na count:     ', d[col_name].isnull().sum()\n",
    "print '-' * 30, '\\n', 'np.na ratio:     ', 1.0 * d[col_name].isnull().sum() / len(d)\n",
    "print '-' * 30, '\\n', 'distinct values: ', len(d[col_name].value_counts())\n",
    "print '-' * 30, '\\n', 'top 10 values:'\n",
    "print d[col_name].value_counts().head(10)\n",
    "print '-' * 30, '\\n', 'bottom 10 values:'\n",
    "print d[col_name].value_counts().tail(10)\n",
    "print '-' * 30"
   ]
  },
  {
   "cell_type": "markdown",
   "metadata": {},
   "source": [
    "## is_dead"
   ]
  },
  {
   "cell_type": "code",
   "execution_count": 65,
   "metadata": {
    "collapsed": true
   },
   "outputs": [],
   "source": [
    "d.rename(columns={'indfall': 'is_dead'}, inplace=True)"
   ]
  },
  {
   "cell_type": "code",
   "execution_count": 66,
   "metadata": {
    "collapsed": false
   },
   "outputs": [
    {
     "name": "stdout",
     "output_type": "stream",
     "text": [
      "------------------------------ \n",
      "dtype:            object\n",
      "------------------------------ \n",
      "np.na count:      27734\n",
      "------------------------------ \n",
      "np.na ratio:      0.00190259618559\n",
      "------------------------------ \n",
      "distinct values:  2\n",
      "------------------------------ \n",
      "top 10 values:\n",
      "N    14512028\n",
      "S       37162\n",
      "Name: is_dead, dtype: int64\n",
      "------------------------------ \n",
      "bottom 10 values:\n",
      "N    14512028\n",
      "S       37162\n",
      "Name: is_dead, dtype: int64\n",
      "------------------------------\n"
     ]
    }
   ],
   "source": [
    "col_name = 'is_dead'\n",
    "\n",
    "print '-' * 30, '\\n', 'dtype:           ', d[col_name].dtype\n",
    "print '-' * 30, '\\n', 'np.na count:     ', d[col_name].isnull().sum()\n",
    "print '-' * 30, '\\n', 'np.na ratio:     ', 1.0 * d[col_name].isnull().sum() / len(d)\n",
    "print '-' * 30, '\\n', 'distinct values: ', len(d[col_name].value_counts())\n",
    "print '-' * 30, '\\n', 'top 10 values:'\n",
    "print d[col_name].value_counts().head(10)\n",
    "print '-' * 30, '\\n', 'bottom 10 values:'\n",
    "print d[col_name].value_counts().tail(10)\n",
    "print '-' * 30"
   ]
  },
  {
   "cell_type": "code",
   "execution_count": 67,
   "metadata": {
    "collapsed": true
   },
   "outputs": [],
   "source": [
    "d.is_dead = d.is_dead.map({\n",
    "        'S': 'yes',\n",
    "        'N': 'no'})"
   ]
  },
  {
   "cell_type": "code",
   "execution_count": 68,
   "metadata": {
    "collapsed": false
   },
   "outputs": [
    {
     "name": "stdout",
     "output_type": "stream",
     "text": [
      "------------------------------ \n",
      "dtype:            object\n",
      "------------------------------ \n",
      "np.na count:      27734\n",
      "------------------------------ \n",
      "np.na ratio:      0.00190259618559\n",
      "------------------------------ \n",
      "distinct values:  2\n",
      "------------------------------ \n",
      "top 10 values:\n",
      "no     14512028\n",
      "yes       37162\n",
      "Name: is_dead, dtype: int64\n",
      "------------------------------ \n",
      "bottom 10 values:\n",
      "no     14512028\n",
      "yes       37162\n",
      "Name: is_dead, dtype: int64\n",
      "------------------------------\n"
     ]
    }
   ],
   "source": [
    "col_name = 'is_dead'\n",
    "\n",
    "print '-' * 30, '\\n', 'dtype:           ', d[col_name].dtype\n",
    "print '-' * 30, '\\n', 'np.na count:     ', d[col_name].isnull().sum()\n",
    "print '-' * 30, '\\n', 'np.na ratio:     ', 1.0 * d[col_name].isnull().sum() / len(d)\n",
    "print '-' * 30, '\\n', 'distinct values: ', len(d[col_name].value_counts())\n",
    "print '-' * 30, '\\n', 'top 10 values:'\n",
    "print d[col_name].value_counts().head(10)\n",
    "print '-' * 30, '\\n', 'bottom 10 values:'\n",
    "print d[col_name].value_counts().tail(10)\n",
    "print '-' * 30"
   ]
  },
  {
   "cell_type": "markdown",
   "metadata": {},
   "source": [
    "## address_type"
   ]
  },
  {
   "cell_type": "code",
   "execution_count": 69,
   "metadata": {
    "collapsed": true
   },
   "outputs": [],
   "source": [
    "d.rename(columns={'tipodom': 'address_type'}, inplace=True)"
   ]
  },
  {
   "cell_type": "code",
   "execution_count": 70,
   "metadata": {
    "collapsed": false
   },
   "outputs": [
    {
     "name": "stdout",
     "output_type": "stream",
     "text": [
      "------------------------------ \n",
      "dtype:            float64\n",
      "------------------------------ \n",
      "np.na count:      27735\n",
      "------------------------------ \n",
      "np.na ratio:      0.00190266478717\n",
      "------------------------------ \n",
      "distinct values:  1\n",
      "------------------------------ \n",
      "top 10 values:\n",
      "1.0    14549189\n",
      "Name: address_type, dtype: int64\n",
      "------------------------------ \n",
      "bottom 10 values:\n",
      "1.0    14549189\n",
      "Name: address_type, dtype: int64\n",
      "------------------------------\n"
     ]
    }
   ],
   "source": [
    "col_name = 'address_type'\n",
    "\n",
    "print '-' * 30, '\\n', 'dtype:           ', d[col_name].dtype\n",
    "print '-' * 30, '\\n', 'np.na count:     ', d[col_name].isnull().sum()\n",
    "print '-' * 30, '\\n', 'np.na ratio:     ', 1.0 * d[col_name].isnull().sum() / len(d)\n",
    "print '-' * 30, '\\n', 'distinct values: ', len(d[col_name].value_counts())\n",
    "print '-' * 30, '\\n', 'top 10 values:'\n",
    "print d[col_name].value_counts().head(10)\n",
    "print '-' * 30, '\\n', 'bottom 10 values:'\n",
    "print d[col_name].value_counts().tail(10)\n",
    "print '-' * 30"
   ]
  },
  {
   "cell_type": "code",
   "execution_count": 71,
   "metadata": {
    "collapsed": true
   },
   "outputs": [],
   "source": [
    "d.address_type = d.address_type.map({\n",
    "        1.0: 'address'})"
   ]
  },
  {
   "cell_type": "code",
   "execution_count": 72,
   "metadata": {
    "collapsed": false
   },
   "outputs": [
    {
     "name": "stdout",
     "output_type": "stream",
     "text": [
      "------------------------------ \n",
      "dtype:            object\n",
      "------------------------------ \n",
      "np.na count:      27735\n",
      "------------------------------ \n",
      "np.na ratio:      0.00190266478717\n",
      "------------------------------ \n",
      "distinct values:  1\n",
      "------------------------------ \n",
      "top 10 values:\n",
      "address    14549189\n",
      "Name: address_type, dtype: int64\n",
      "------------------------------ \n",
      "bottom 10 values:\n",
      "address    14549189\n",
      "Name: address_type, dtype: int64\n",
      "------------------------------\n"
     ]
    }
   ],
   "source": [
    "col_name = 'address_type'\n",
    "\n",
    "print '-' * 30, '\\n', 'dtype:           ', d[col_name].dtype\n",
    "print '-' * 30, '\\n', 'np.na count:     ', d[col_name].isnull().sum()\n",
    "print '-' * 30, '\\n', 'np.na ratio:     ', 1.0 * d[col_name].isnull().sum() / len(d)\n",
    "print '-' * 30, '\\n', 'distinct values: ', len(d[col_name].value_counts())\n",
    "print '-' * 30, '\\n', 'top 10 values:'\n",
    "print d[col_name].value_counts().head(10)\n",
    "print '-' * 30, '\\n', 'bottom 10 values:'\n",
    "print d[col_name].value_counts().tail(10)\n",
    "print '-' * 30"
   ]
  },
  {
   "cell_type": "markdown",
   "metadata": {},
   "source": [
    "## province_code"
   ]
  },
  {
   "cell_type": "code",
   "execution_count": 73,
   "metadata": {
    "collapsed": true
   },
   "outputs": [],
   "source": [
    "d.rename(columns={'cod_prov': 'province_code'}, inplace=True)"
   ]
  },
  {
   "cell_type": "code",
   "execution_count": 74,
   "metadata": {
    "collapsed": false
   },
   "outputs": [
    {
     "name": "stdout",
     "output_type": "stream",
     "text": [
      "------------------------------ \n",
      "dtype:            float64\n",
      "------------------------------ \n",
      "np.na count:      97587\n",
      "------------------------------ \n",
      "np.na ratio:      0.00669462226736\n",
      "------------------------------ \n",
      "distinct values:  52\n",
      "------------------------------ \n",
      "top 10 values:\n",
      "28.0    4707850\n",
      "8.0     1363798\n",
      "46.0     730300\n",
      "41.0     645656\n",
      "15.0     458037\n",
      "30.0     424511\n",
      "29.0     391569\n",
      "50.0     365703\n",
      "3.0      335544\n",
      "11.0     314479\n",
      "Name: province_code, dtype: int64\n",
      "------------------------------ \n",
      "bottom 10 values:\n",
      "49.0    54357\n",
      "34.0    52593\n",
      "40.0    45222\n",
      "22.0    42970\n",
      "5.0     41411\n",
      "1.0     40295\n",
      "44.0    24063\n",
      "42.0    18921\n",
      "52.0    10103\n",
      "51.0     7731\n",
      "Name: province_code, dtype: int64\n",
      "------------------------------\n"
     ]
    }
   ],
   "source": [
    "col_name = 'province_code'\n",
    "\n",
    "print '-' * 30, '\\n', 'dtype:           ', d[col_name].dtype\n",
    "print '-' * 30, '\\n', 'np.na count:     ', d[col_name].isnull().sum()\n",
    "print '-' * 30, '\\n', 'np.na ratio:     ', 1.0 * d[col_name].isnull().sum() / len(d)\n",
    "print '-' * 30, '\\n', 'distinct values: ', len(d[col_name].value_counts())\n",
    "print '-' * 30, '\\n', 'top 10 values:'\n",
    "print d[col_name].value_counts().head(10)\n",
    "print '-' * 30, '\\n', 'bottom 10 values:'\n",
    "print d[col_name].value_counts().tail(10)\n",
    "print '-' * 30"
   ]
  },
  {
   "cell_type": "code",
   "execution_count": 75,
   "metadata": {
    "collapsed": true
   },
   "outputs": [],
   "source": [
    "def fix_province_code(c):\n",
    "    try:\n",
    "        return 'prov_' + str(int(c))\n",
    "    except:\n",
    "        return np.nan"
   ]
  },
  {
   "cell_type": "code",
   "execution_count": 76,
   "metadata": {
    "collapsed": false
   },
   "outputs": [],
   "source": [
    "d.province_code = d.province_code.apply(fix_province_code)"
   ]
  },
  {
   "cell_type": "code",
   "execution_count": 77,
   "metadata": {
    "collapsed": false
   },
   "outputs": [
    {
     "name": "stdout",
     "output_type": "stream",
     "text": [
      "------------------------------ \n",
      "dtype:            object\n",
      "------------------------------ \n",
      "np.na count:      97587\n",
      "------------------------------ \n",
      "np.na ratio:      0.00669462226736\n",
      "------------------------------ \n",
      "distinct values:  52\n",
      "------------------------------ \n",
      "top 10 values:\n",
      "prov_28    4707850\n",
      "prov_8     1363798\n",
      "prov_46     730300\n",
      "prov_41     645656\n",
      "prov_15     458037\n",
      "prov_30     424511\n",
      "prov_29     391569\n",
      "prov_50     365703\n",
      "prov_3      335544\n",
      "prov_11     314479\n",
      "Name: province_code, dtype: int64\n",
      "------------------------------ \n",
      "bottom 10 values:\n",
      "prov_49    54357\n",
      "prov_34    52593\n",
      "prov_40    45222\n",
      "prov_22    42970\n",
      "prov_5     41411\n",
      "prov_1     40295\n",
      "prov_44    24063\n",
      "prov_42    18921\n",
      "prov_52    10103\n",
      "prov_51     7731\n",
      "Name: province_code, dtype: int64\n",
      "------------------------------\n"
     ]
    }
   ],
   "source": [
    "col_name = 'province_code'\n",
    "\n",
    "print '-' * 30, '\\n', 'dtype:           ', d[col_name].dtype\n",
    "print '-' * 30, '\\n', 'np.na count:     ', d[col_name].isnull().sum()\n",
    "print '-' * 30, '\\n', 'np.na ratio:     ', 1.0 * d[col_name].isnull().sum() / len(d)\n",
    "print '-' * 30, '\\n', 'distinct values: ', len(d[col_name].value_counts())\n",
    "print '-' * 30, '\\n', 'top 10 values:'\n",
    "print d[col_name].value_counts().head(10)\n",
    "print '-' * 30, '\\n', 'bottom 10 values:'\n",
    "print d[col_name].value_counts().tail(10)\n",
    "print '-' * 30"
   ]
  },
  {
   "cell_type": "markdown",
   "metadata": {},
   "source": [
    "## province_name"
   ]
  },
  {
   "cell_type": "code",
   "execution_count": 78,
   "metadata": {
    "collapsed": true
   },
   "outputs": [],
   "source": [
    "d.rename(columns={'nomprov': 'province_name'}, inplace=True)"
   ]
  },
  {
   "cell_type": "code",
   "execution_count": 79,
   "metadata": {
    "collapsed": false
   },
   "outputs": [
    {
     "name": "stdout",
     "output_type": "stream",
     "text": [
      "------------------------------ \n",
      "dtype:            object\n",
      "------------------------------ \n",
      "np.na count:      97587\n",
      "------------------------------ \n",
      "np.na ratio:      0.00669462226736\n",
      "------------------------------ \n",
      "distinct values:  52\n",
      "------------------------------ \n",
      "top 10 values:\n",
      "MADRID       4707850\n",
      "BARCELONA    1363798\n",
      "VALENCIA      730300\n",
      "SEVILLA       645656\n",
      "CORUÑA, A     458037\n",
      "MURCIA        424511\n",
      "MALAGA        391569\n",
      "ZARAGOZA      365703\n",
      "ALICANTE      335544\n",
      "CADIZ         314479\n",
      "Name: province_name, dtype: int64\n",
      "------------------------------ \n",
      "bottom 10 values:\n",
      "ZAMORA      54357\n",
      "PALENCIA    52593\n",
      "SEGOVIA     45222\n",
      "HUESCA      42970\n",
      "AVILA       41411\n",
      "ALAVA       40295\n",
      "TERUEL      24063\n",
      "SORIA       18921\n",
      "MELILLA     10103\n",
      "CEUTA        7731\n",
      "Name: province_name, dtype: int64\n",
      "------------------------------\n"
     ]
    }
   ],
   "source": [
    "col_name = 'province_name'\n",
    "\n",
    "print '-' * 30, '\\n', 'dtype:           ', d[col_name].dtype\n",
    "print '-' * 30, '\\n', 'np.na count:     ', d[col_name].isnull().sum()\n",
    "print '-' * 30, '\\n', 'np.na ratio:     ', 1.0 * d[col_name].isnull().sum() / len(d)\n",
    "print '-' * 30, '\\n', 'distinct values: ', len(d[col_name].value_counts())\n",
    "print '-' * 30, '\\n', 'top 10 values:'\n",
    "print d[col_name].value_counts().head(10)\n",
    "print '-' * 30, '\\n', 'bottom 10 values:'\n",
    "print d[col_name].value_counts().tail(10)\n",
    "print '-' * 30"
   ]
  },
  {
   "cell_type": "code",
   "execution_count": 80,
   "metadata": {
    "collapsed": true
   },
   "outputs": [],
   "source": [
    "del d['province_name']"
   ]
  },
  {
   "cell_type": "markdown",
   "metadata": {},
   "source": [
    "## is_active_customer"
   ]
  },
  {
   "cell_type": "code",
   "execution_count": 81,
   "metadata": {
    "collapsed": true
   },
   "outputs": [],
   "source": [
    "d.rename(columns={'ind_actividad_cliente': 'is_active_customer'}, inplace=True)"
   ]
  },
  {
   "cell_type": "code",
   "execution_count": 82,
   "metadata": {
    "collapsed": false
   },
   "outputs": [
    {
     "name": "stdout",
     "output_type": "stream",
     "text": [
      "------------------------------ \n",
      "dtype:            float64\n",
      "------------------------------ \n",
      "np.na count:      27734\n",
      "------------------------------ \n",
      "np.na ratio:      0.00190259618559\n",
      "------------------------------ \n",
      "distinct values:  2\n",
      "------------------------------ \n",
      "top 10 values:\n",
      "0.0    7918666\n",
      "1.0    6630524\n",
      "Name: is_active_customer, dtype: int64\n",
      "------------------------------ \n",
      "bottom 10 values:\n",
      "0.0    7918666\n",
      "1.0    6630524\n",
      "Name: is_active_customer, dtype: int64\n",
      "------------------------------\n"
     ]
    }
   ],
   "source": [
    "col_name = 'is_active_customer'\n",
    "\n",
    "print '-' * 30, '\\n', 'dtype:           ', d[col_name].dtype\n",
    "print '-' * 30, '\\n', 'np.na count:     ', d[col_name].isnull().sum()\n",
    "print '-' * 30, '\\n', 'np.na ratio:     ', 1.0 * d[col_name].isnull().sum() / len(d)\n",
    "print '-' * 30, '\\n', 'distinct values: ', len(d[col_name].value_counts())\n",
    "print '-' * 30, '\\n', 'top 10 values:'\n",
    "print d[col_name].value_counts().head(10)\n",
    "print '-' * 30, '\\n', 'bottom 10 values:'\n",
    "print d[col_name].value_counts().tail(10)\n",
    "print '-' * 30"
   ]
  },
  {
   "cell_type": "code",
   "execution_count": 83,
   "metadata": {
    "collapsed": true
   },
   "outputs": [],
   "source": [
    "d.is_active_customer = d.is_active_customer.map({\n",
    "        1.0: 'yes',\n",
    "        0.0: 'no'})"
   ]
  },
  {
   "cell_type": "code",
   "execution_count": 84,
   "metadata": {
    "collapsed": false
   },
   "outputs": [
    {
     "name": "stdout",
     "output_type": "stream",
     "text": [
      "------------------------------ \n",
      "dtype:            object\n",
      "------------------------------ \n",
      "np.na count:      27734\n",
      "------------------------------ \n",
      "np.na ratio:      0.00190259618559\n",
      "------------------------------ \n",
      "distinct values:  2\n",
      "------------------------------ \n",
      "top 10 values:\n",
      "no     7918666\n",
      "yes    6630524\n",
      "Name: is_active_customer, dtype: int64\n",
      "------------------------------ \n",
      "bottom 10 values:\n",
      "no     7918666\n",
      "yes    6630524\n",
      "Name: is_active_customer, dtype: int64\n",
      "------------------------------\n"
     ]
    }
   ],
   "source": [
    "col_name = 'is_active_customer'\n",
    "\n",
    "print '-' * 30, '\\n', 'dtype:           ', d[col_name].dtype\n",
    "print '-' * 30, '\\n', 'np.na count:     ', d[col_name].isnull().sum()\n",
    "print '-' * 30, '\\n', 'np.na ratio:     ', 1.0 * d[col_name].isnull().sum() / len(d)\n",
    "print '-' * 30, '\\n', 'distinct values: ', len(d[col_name].value_counts())\n",
    "print '-' * 30, '\\n', 'top 10 values:'\n",
    "print d[col_name].value_counts().head(10)\n",
    "print '-' * 30, '\\n', 'bottom 10 values:'\n",
    "print d[col_name].value_counts().tail(10)\n",
    "print '-' * 30"
   ]
  },
  {
   "cell_type": "markdown",
   "metadata": {},
   "source": [
    "## household_income"
   ]
  },
  {
   "cell_type": "code",
   "execution_count": 85,
   "metadata": {
    "collapsed": true
   },
   "outputs": [],
   "source": [
    "d.rename(columns={'renta': 'household_income'}, inplace=True)"
   ]
  },
  {
   "cell_type": "code",
   "execution_count": 86,
   "metadata": {
    "collapsed": false
   },
   "outputs": [
    {
     "name": "stdout",
     "output_type": "stream",
     "text": [
      "------------------------------ \n",
      "dtype:            object\n",
      "------------------------------ \n",
      "np.na count:      2794375\n",
      "------------------------------ \n",
      "np.na ratio:      0.191698536673\n",
      "------------------------------ \n",
      "distinct values:  1037397\n",
      "------------------------------ \n",
      "top 10 values:\n",
      "         NA    227965\n",
      "451931.22        5582\n",
      "463625.16        1743\n",
      "181042.2         1493\n",
      "128318.52        1404\n",
      "105260.88        1354\n",
      "488798.49        1332\n",
      "127141.5         1183\n",
      "283325.67        1148\n",
      "132335.73        1047\n",
      "Name: household_income, dtype: int64\n",
      "------------------------------ \n",
      "bottom 10 values:\n",
      "  117387.66    1\n",
      "   91993.32    1\n",
      "  143050.95    1\n",
      "  151665.90    1\n",
      "  258590.94    1\n",
      "   85901.37    1\n",
      "   52709.49    1\n",
      "   46756.56    1\n",
      "   66247.35    1\n",
      "   84947.31    1\n",
      "Name: household_income, dtype: int64\n",
      "------------------------------\n"
     ]
    }
   ],
   "source": [
    "col_name = 'household_income'\n",
    "\n",
    "print '-' * 30, '\\n', 'dtype:           ', d[col_name].dtype\n",
    "print '-' * 30, '\\n', 'np.na count:     ', d[col_name].isnull().sum()\n",
    "print '-' * 30, '\\n', 'np.na ratio:     ', 1.0 * d[col_name].isnull().sum() / len(d)\n",
    "print '-' * 30, '\\n', 'distinct values: ', len(d[col_name].value_counts())\n",
    "print '-' * 30, '\\n', 'top 10 values:'\n",
    "print d[col_name].value_counts().head(10)\n",
    "print '-' * 30, '\\n', 'bottom 10 values:'\n",
    "print d[col_name].value_counts().tail(10)\n",
    "print '-' * 30"
   ]
  },
  {
   "cell_type": "code",
   "execution_count": 87,
   "metadata": {
    "collapsed": true
   },
   "outputs": [],
   "source": [
    "def fix_household_income(i):\n",
    "    try:\n",
    "        return float(i)\n",
    "    except:\n",
    "        return np.nan"
   ]
  },
  {
   "cell_type": "code",
   "execution_count": 88,
   "metadata": {
    "collapsed": true
   },
   "outputs": [],
   "source": [
    "d.household_income = d.household_income.apply(fix_household_income)"
   ]
  },
  {
   "cell_type": "code",
   "execution_count": 89,
   "metadata": {
    "collapsed": false
   },
   "outputs": [
    {
     "name": "stdout",
     "output_type": "stream",
     "text": [
      "------------------------------ \n",
      "dtype:            float64\n",
      "------------------------------ \n",
      "np.na count:      3022340\n",
      "------------------------------ \n",
      "np.na ratio:      0.207337295578\n",
      "------------------------------ \n",
      "distinct values:  592576\n",
      "------------------------------ \n",
      "top 10 values:\n",
      "451931.22    5936\n",
      "463625.16    1854\n",
      "181042.20    1584\n",
      "128318.52    1495\n",
      "105260.88    1444\n",
      "488798.49    1416\n",
      "127141.50    1256\n",
      "283325.67    1218\n",
      "132335.73    1114\n",
      "236690.34    1076\n",
      "Name: household_income, dtype: int64\n",
      "------------------------------ \n",
      "bottom 10 values:\n",
      "85126.95     1\n",
      "53730.57     1\n",
      "52828.74     1\n",
      "88762.29     1\n",
      "117280.89    1\n",
      "68446.71     1\n",
      "79364.79     1\n",
      "130394.61    1\n",
      "84029.04     1\n",
      "76863.54     1\n",
      "Name: household_income, dtype: int64\n",
      "------------------------------\n"
     ]
    }
   ],
   "source": [
    "col_name = 'household_income'\n",
    "\n",
    "print '-' * 30, '\\n', 'dtype:           ', d[col_name].dtype\n",
    "print '-' * 30, '\\n', 'np.na count:     ', d[col_name].isnull().sum()\n",
    "print '-' * 30, '\\n', 'np.na ratio:     ', 1.0 * d[col_name].isnull().sum() / len(d)\n",
    "print '-' * 30, '\\n', 'distinct values: ', len(d[col_name].value_counts())\n",
    "print '-' * 30, '\\n', 'top 10 values:'\n",
    "print d[col_name].value_counts().head(10)\n",
    "print '-' * 30, '\\n', 'bottom 10 values:'\n",
    "print d[col_name].value_counts().tail(10)\n",
    "print '-' * 30"
   ]
  },
  {
   "cell_type": "code",
   "execution_count": 90,
   "metadata": {
    "collapsed": false
   },
   "outputs": [
    {
     "data": {
      "text/plain": [
       "count    1.155458e+07\n",
       "mean     1.342442e+05\n",
       "std      2.307233e+05\n",
       "min      1.202730e+03\n",
       "25%      6.869931e+04\n",
       "50%      1.018289e+05\n",
       "75%      1.559304e+05\n",
       "max      2.889440e+07\n",
       "Name: household_income, dtype: float64"
      ]
     },
     "execution_count": 90,
     "metadata": {},
     "output_type": "execute_result"
    }
   ],
   "source": [
    "d.household_income.dropna().describe()"
   ]
  },
  {
   "cell_type": "markdown",
   "metadata": {},
   "source": [
    "## customer_segment"
   ]
  },
  {
   "cell_type": "code",
   "execution_count": 91,
   "metadata": {
    "collapsed": true
   },
   "outputs": [],
   "source": [
    "d.rename(columns={'segmento': 'customer_segment'}, inplace=True)"
   ]
  },
  {
   "cell_type": "code",
   "execution_count": 92,
   "metadata": {
    "collapsed": false
   },
   "outputs": [
    {
     "name": "stdout",
     "output_type": "stream",
     "text": [
      "------------------------------ \n",
      "dtype:            object\n",
      "------------------------------ \n",
      "np.na count:      191616\n",
      "------------------------------ \n",
      "np.na ratio:      0.0131451601175\n",
      "------------------------------ \n",
      "distinct values:  3\n",
      "------------------------------ \n",
      "top 10 values:\n",
      "02 - PARTICULARES     8505598\n",
      "03 - UNIVERSITARIO    5281607\n",
      "01 - TOP               598103\n",
      "Name: customer_segment, dtype: int64\n",
      "------------------------------ \n",
      "bottom 10 values:\n",
      "02 - PARTICULARES     8505598\n",
      "03 - UNIVERSITARIO    5281607\n",
      "01 - TOP               598103\n",
      "Name: customer_segment, dtype: int64\n",
      "------------------------------\n"
     ]
    }
   ],
   "source": [
    "col_name = 'customer_segment'\n",
    "\n",
    "print '-' * 30, '\\n', 'dtype:           ', d[col_name].dtype\n",
    "print '-' * 30, '\\n', 'np.na count:     ', d[col_name].isnull().sum()\n",
    "print '-' * 30, '\\n', 'np.na ratio:     ', 1.0 * d[col_name].isnull().sum() / len(d)\n",
    "print '-' * 30, '\\n', 'distinct values: ', len(d[col_name].value_counts())\n",
    "print '-' * 30, '\\n', 'top 10 values:'\n",
    "print d[col_name].value_counts().head(10)\n",
    "print '-' * 30, '\\n', 'bottom 10 values:'\n",
    "print d[col_name].value_counts().tail(10)\n",
    "print '-' * 30"
   ]
  },
  {
   "cell_type": "code",
   "execution_count": 93,
   "metadata": {
    "collapsed": true
   },
   "outputs": [],
   "source": [
    "d.customer_segment = d.customer_segment.map({\n",
    "        '02 - PARTICULARES': 'individual',\n",
    "        '01 - TOP': 'vip',\n",
    "        '03 - UNIVERSITARIO': 'college-graduated'})"
   ]
  },
  {
   "cell_type": "code",
   "execution_count": 94,
   "metadata": {
    "collapsed": false
   },
   "outputs": [
    {
     "name": "stdout",
     "output_type": "stream",
     "text": [
      "------------------------------ \n",
      "dtype:            object\n",
      "------------------------------ \n",
      "np.na count:      191616\n",
      "------------------------------ \n",
      "np.na ratio:      0.0131451601175\n",
      "------------------------------ \n",
      "distinct values:  3\n",
      "------------------------------ \n",
      "top 10 values:\n",
      "individual           8505598\n",
      "college-graduated    5281607\n",
      "vip                   598103\n",
      "Name: customer_segment, dtype: int64\n",
      "------------------------------ \n",
      "bottom 10 values:\n",
      "individual           8505598\n",
      "college-graduated    5281607\n",
      "vip                   598103\n",
      "Name: customer_segment, dtype: int64\n",
      "------------------------------\n"
     ]
    }
   ],
   "source": [
    "col_name = 'customer_segment'\n",
    "\n",
    "print '-' * 30, '\\n', 'dtype:           ', d[col_name].dtype\n",
    "print '-' * 30, '\\n', 'np.na count:     ', d[col_name].isnull().sum()\n",
    "print '-' * 30, '\\n', 'np.na ratio:     ', 1.0 * d[col_name].isnull().sum() / len(d)\n",
    "print '-' * 30, '\\n', 'distinct values: ', len(d[col_name].value_counts())\n",
    "print '-' * 30, '\\n', 'top 10 values:'\n",
    "print d[col_name].value_counts().head(10)\n",
    "print '-' * 30, '\\n', 'bottom 10 values:'\n",
    "print d[col_name].value_counts().tail(10)\n",
    "print '-' * 30"
   ]
  },
  {
   "cell_type": "code",
   "execution_count": 95,
   "metadata": {
    "collapsed": false
   },
   "outputs": [
    {
     "data": {
      "text/html": [
       "<div>\n",
       "<table border=\"1\" class=\"dataframe\">\n",
       "  <thead>\n",
       "    <tr style=\"text-align: right;\">\n",
       "      <th></th>\n",
       "      <th>0</th>\n",
       "      <th>1</th>\n",
       "      <th>2</th>\n",
       "      <th>3</th>\n",
       "      <th>4</th>\n",
       "      <th>5</th>\n",
       "      <th>6</th>\n",
       "      <th>7</th>\n",
       "      <th>8</th>\n",
       "      <th>9</th>\n",
       "    </tr>\n",
       "  </thead>\n",
       "  <tbody>\n",
       "    <tr>\n",
       "      <th>measurement_date</th>\n",
       "      <td>2015-01-28 00:00:00</td>\n",
       "      <td>2015-01-28 00:00:00</td>\n",
       "      <td>2015-01-28 00:00:00</td>\n",
       "      <td>2015-01-28 00:00:00</td>\n",
       "      <td>2015-01-28 00:00:00</td>\n",
       "      <td>2015-01-28 00:00:00</td>\n",
       "      <td>2015-01-28 00:00:00</td>\n",
       "      <td>2015-01-28 00:00:00</td>\n",
       "      <td>2015-01-28 00:00:00</td>\n",
       "      <td>2015-01-28 00:00:00</td>\n",
       "    </tr>\n",
       "    <tr>\n",
       "      <th>customer_id</th>\n",
       "      <td>1375586</td>\n",
       "      <td>1050611</td>\n",
       "      <td>1050612</td>\n",
       "      <td>1050613</td>\n",
       "      <td>1050614</td>\n",
       "      <td>1050615</td>\n",
       "      <td>1050616</td>\n",
       "      <td>1050617</td>\n",
       "      <td>1050619</td>\n",
       "      <td>1050620</td>\n",
       "    </tr>\n",
       "    <tr>\n",
       "      <th>employment_index</th>\n",
       "      <td>not-employee</td>\n",
       "      <td>not-employee</td>\n",
       "      <td>not-employee</td>\n",
       "      <td>not-employee</td>\n",
       "      <td>not-employee</td>\n",
       "      <td>not-employee</td>\n",
       "      <td>not-employee</td>\n",
       "      <td>not-employee</td>\n",
       "      <td>not-employee</td>\n",
       "      <td>not-employee</td>\n",
       "    </tr>\n",
       "    <tr>\n",
       "      <th>country_of_residence</th>\n",
       "      <td>ES</td>\n",
       "      <td>ES</td>\n",
       "      <td>ES</td>\n",
       "      <td>ES</td>\n",
       "      <td>ES</td>\n",
       "      <td>ES</td>\n",
       "      <td>ES</td>\n",
       "      <td>ES</td>\n",
       "      <td>ES</td>\n",
       "      <td>ES</td>\n",
       "    </tr>\n",
       "    <tr>\n",
       "      <th>gender</th>\n",
       "      <td>female</td>\n",
       "      <td>male</td>\n",
       "      <td>male</td>\n",
       "      <td>female</td>\n",
       "      <td>male</td>\n",
       "      <td>female</td>\n",
       "      <td>female</td>\n",
       "      <td>female</td>\n",
       "      <td>female</td>\n",
       "      <td>female</td>\n",
       "    </tr>\n",
       "    <tr>\n",
       "      <th>age</th>\n",
       "      <td>35</td>\n",
       "      <td>23</td>\n",
       "      <td>23</td>\n",
       "      <td>22</td>\n",
       "      <td>23</td>\n",
       "      <td>23</td>\n",
       "      <td>23</td>\n",
       "      <td>23</td>\n",
       "      <td>24</td>\n",
       "      <td>23</td>\n",
       "    </tr>\n",
       "    <tr>\n",
       "      <th>first_contract_date</th>\n",
       "      <td>2015-01-12 00:00:00</td>\n",
       "      <td>2012-08-10 00:00:00</td>\n",
       "      <td>2012-08-10 00:00:00</td>\n",
       "      <td>2012-08-10 00:00:00</td>\n",
       "      <td>2012-08-10 00:00:00</td>\n",
       "      <td>2012-08-10 00:00:00</td>\n",
       "      <td>2012-08-10 00:00:00</td>\n",
       "      <td>2012-08-10 00:00:00</td>\n",
       "      <td>2012-08-10 00:00:00</td>\n",
       "      <td>2012-08-10 00:00:00</td>\n",
       "    </tr>\n",
       "    <tr>\n",
       "      <th>is_new_customer</th>\n",
       "      <td>no</td>\n",
       "      <td>no</td>\n",
       "      <td>no</td>\n",
       "      <td>no</td>\n",
       "      <td>no</td>\n",
       "      <td>no</td>\n",
       "      <td>no</td>\n",
       "      <td>no</td>\n",
       "      <td>no</td>\n",
       "      <td>no</td>\n",
       "    </tr>\n",
       "    <tr>\n",
       "      <th>customer_for_months</th>\n",
       "      <td>6</td>\n",
       "      <td>35</td>\n",
       "      <td>35</td>\n",
       "      <td>35</td>\n",
       "      <td>35</td>\n",
       "      <td>35</td>\n",
       "      <td>35</td>\n",
       "      <td>35</td>\n",
       "      <td>35</td>\n",
       "      <td>35</td>\n",
       "    </tr>\n",
       "    <tr>\n",
       "      <th>is_primary_customer</th>\n",
       "      <td>yes</td>\n",
       "      <td>yes</td>\n",
       "      <td>yes</td>\n",
       "      <td>yes</td>\n",
       "      <td>yes</td>\n",
       "      <td>yes</td>\n",
       "      <td>yes</td>\n",
       "      <td>yes</td>\n",
       "      <td>yes</td>\n",
       "      <td>yes</td>\n",
       "    </tr>\n",
       "    <tr>\n",
       "      <th>last_primary_customer_date</th>\n",
       "      <td>NaN</td>\n",
       "      <td>NaN</td>\n",
       "      <td>NaN</td>\n",
       "      <td>NaN</td>\n",
       "      <td>NaN</td>\n",
       "      <td>NaN</td>\n",
       "      <td>NaN</td>\n",
       "      <td>NaN</td>\n",
       "      <td>NaN</td>\n",
       "      <td>NaN</td>\n",
       "    </tr>\n",
       "    <tr>\n",
       "      <th>customer_type</th>\n",
       "      <td>primary</td>\n",
       "      <td>primary</td>\n",
       "      <td>primary</td>\n",
       "      <td>primary</td>\n",
       "      <td>primary</td>\n",
       "      <td>primary</td>\n",
       "      <td>primary</td>\n",
       "      <td>primary</td>\n",
       "      <td>primary</td>\n",
       "      <td>primary</td>\n",
       "    </tr>\n",
       "    <tr>\n",
       "      <th>customer_relation_type</th>\n",
       "      <td>active</td>\n",
       "      <td>inactive</td>\n",
       "      <td>inactive</td>\n",
       "      <td>inactive</td>\n",
       "      <td>active</td>\n",
       "      <td>inactive</td>\n",
       "      <td>inactive</td>\n",
       "      <td>active</td>\n",
       "      <td>inactive</td>\n",
       "      <td>inactive</td>\n",
       "    </tr>\n",
       "    <tr>\n",
       "      <th>country_residence_bank_same</th>\n",
       "      <td>yes</td>\n",
       "      <td>yes</td>\n",
       "      <td>yes</td>\n",
       "      <td>yes</td>\n",
       "      <td>yes</td>\n",
       "      <td>yes</td>\n",
       "      <td>yes</td>\n",
       "      <td>yes</td>\n",
       "      <td>yes</td>\n",
       "      <td>yes</td>\n",
       "    </tr>\n",
       "    <tr>\n",
       "      <th>is_foreigner</th>\n",
       "      <td>no</td>\n",
       "      <td>yes</td>\n",
       "      <td>no</td>\n",
       "      <td>no</td>\n",
       "      <td>no</td>\n",
       "      <td>no</td>\n",
       "      <td>no</td>\n",
       "      <td>no</td>\n",
       "      <td>no</td>\n",
       "      <td>no</td>\n",
       "    </tr>\n",
       "    <tr>\n",
       "      <th>is_spouse_of_an_employee</th>\n",
       "      <td>NaN</td>\n",
       "      <td>NaN</td>\n",
       "      <td>NaN</td>\n",
       "      <td>NaN</td>\n",
       "      <td>NaN</td>\n",
       "      <td>NaN</td>\n",
       "      <td>NaN</td>\n",
       "      <td>NaN</td>\n",
       "      <td>NaN</td>\n",
       "      <td>NaN</td>\n",
       "    </tr>\n",
       "    <tr>\n",
       "      <th>join_channel</th>\n",
       "      <td>KHL</td>\n",
       "      <td>KHE</td>\n",
       "      <td>KHE</td>\n",
       "      <td>KHD</td>\n",
       "      <td>KHE</td>\n",
       "      <td>KHE</td>\n",
       "      <td>KHE</td>\n",
       "      <td>KHE</td>\n",
       "      <td>KHE</td>\n",
       "      <td>KHE</td>\n",
       "    </tr>\n",
       "    <tr>\n",
       "      <th>is_dead</th>\n",
       "      <td>no</td>\n",
       "      <td>no</td>\n",
       "      <td>no</td>\n",
       "      <td>no</td>\n",
       "      <td>no</td>\n",
       "      <td>no</td>\n",
       "      <td>no</td>\n",
       "      <td>no</td>\n",
       "      <td>no</td>\n",
       "      <td>no</td>\n",
       "    </tr>\n",
       "    <tr>\n",
       "      <th>address_type</th>\n",
       "      <td>address</td>\n",
       "      <td>address</td>\n",
       "      <td>address</td>\n",
       "      <td>address</td>\n",
       "      <td>address</td>\n",
       "      <td>address</td>\n",
       "      <td>address</td>\n",
       "      <td>address</td>\n",
       "      <td>address</td>\n",
       "      <td>address</td>\n",
       "    </tr>\n",
       "    <tr>\n",
       "      <th>province_code</th>\n",
       "      <td>prov_29</td>\n",
       "      <td>prov_13</td>\n",
       "      <td>prov_13</td>\n",
       "      <td>prov_50</td>\n",
       "      <td>prov_50</td>\n",
       "      <td>prov_45</td>\n",
       "      <td>prov_24</td>\n",
       "      <td>prov_50</td>\n",
       "      <td>prov_20</td>\n",
       "      <td>prov_10</td>\n",
       "    </tr>\n",
       "    <tr>\n",
       "      <th>is_active_customer</th>\n",
       "      <td>yes</td>\n",
       "      <td>no</td>\n",
       "      <td>no</td>\n",
       "      <td>no</td>\n",
       "      <td>yes</td>\n",
       "      <td>no</td>\n",
       "      <td>no</td>\n",
       "      <td>yes</td>\n",
       "      <td>no</td>\n",
       "      <td>no</td>\n",
       "    </tr>\n",
       "    <tr>\n",
       "      <th>household_income</th>\n",
       "      <td>87218.1</td>\n",
       "      <td>35548.7</td>\n",
       "      <td>122179</td>\n",
       "      <td>119776</td>\n",
       "      <td>NaN</td>\n",
       "      <td>22220</td>\n",
       "      <td>295590</td>\n",
       "      <td>113317</td>\n",
       "      <td>NaN</td>\n",
       "      <td>113195</td>\n",
       "    </tr>\n",
       "    <tr>\n",
       "      <th>customer_segment</th>\n",
       "      <td>individual</td>\n",
       "      <td>college-graduated</td>\n",
       "      <td>college-graduated</td>\n",
       "      <td>college-graduated</td>\n",
       "      <td>college-graduated</td>\n",
       "      <td>college-graduated</td>\n",
       "      <td>college-graduated</td>\n",
       "      <td>college-graduated</td>\n",
       "      <td>college-graduated</td>\n",
       "      <td>college-graduated</td>\n",
       "    </tr>\n",
       "    <tr>\n",
       "      <th>ind_ahor_fin_ult1</th>\n",
       "      <td>0</td>\n",
       "      <td>0</td>\n",
       "      <td>0</td>\n",
       "      <td>0</td>\n",
       "      <td>0</td>\n",
       "      <td>0</td>\n",
       "      <td>0</td>\n",
       "      <td>0</td>\n",
       "      <td>0</td>\n",
       "      <td>0</td>\n",
       "    </tr>\n",
       "    <tr>\n",
       "      <th>ind_aval_fin_ult1</th>\n",
       "      <td>0</td>\n",
       "      <td>0</td>\n",
       "      <td>0</td>\n",
       "      <td>0</td>\n",
       "      <td>0</td>\n",
       "      <td>0</td>\n",
       "      <td>0</td>\n",
       "      <td>0</td>\n",
       "      <td>0</td>\n",
       "      <td>0</td>\n",
       "    </tr>\n",
       "    <tr>\n",
       "      <th>ind_cco_fin_ult1</th>\n",
       "      <td>1</td>\n",
       "      <td>1</td>\n",
       "      <td>1</td>\n",
       "      <td>0</td>\n",
       "      <td>1</td>\n",
       "      <td>1</td>\n",
       "      <td>1</td>\n",
       "      <td>1</td>\n",
       "      <td>1</td>\n",
       "      <td>1</td>\n",
       "    </tr>\n",
       "    <tr>\n",
       "      <th>ind_cder_fin_ult1</th>\n",
       "      <td>0</td>\n",
       "      <td>0</td>\n",
       "      <td>0</td>\n",
       "      <td>0</td>\n",
       "      <td>0</td>\n",
       "      <td>0</td>\n",
       "      <td>0</td>\n",
       "      <td>0</td>\n",
       "      <td>0</td>\n",
       "      <td>0</td>\n",
       "    </tr>\n",
       "    <tr>\n",
       "      <th>ind_cno_fin_ult1</th>\n",
       "      <td>0</td>\n",
       "      <td>0</td>\n",
       "      <td>0</td>\n",
       "      <td>0</td>\n",
       "      <td>0</td>\n",
       "      <td>0</td>\n",
       "      <td>0</td>\n",
       "      <td>0</td>\n",
       "      <td>0</td>\n",
       "      <td>0</td>\n",
       "    </tr>\n",
       "    <tr>\n",
       "      <th>ind_ctju_fin_ult1</th>\n",
       "      <td>0</td>\n",
       "      <td>0</td>\n",
       "      <td>0</td>\n",
       "      <td>0</td>\n",
       "      <td>0</td>\n",
       "      <td>0</td>\n",
       "      <td>0</td>\n",
       "      <td>0</td>\n",
       "      <td>0</td>\n",
       "      <td>0</td>\n",
       "    </tr>\n",
       "    <tr>\n",
       "      <th>ind_ctma_fin_ult1</th>\n",
       "      <td>0</td>\n",
       "      <td>0</td>\n",
       "      <td>0</td>\n",
       "      <td>0</td>\n",
       "      <td>0</td>\n",
       "      <td>0</td>\n",
       "      <td>0</td>\n",
       "      <td>0</td>\n",
       "      <td>0</td>\n",
       "      <td>0</td>\n",
       "    </tr>\n",
       "    <tr>\n",
       "      <th>ind_ctop_fin_ult1</th>\n",
       "      <td>0</td>\n",
       "      <td>0</td>\n",
       "      <td>0</td>\n",
       "      <td>0</td>\n",
       "      <td>0</td>\n",
       "      <td>0</td>\n",
       "      <td>0</td>\n",
       "      <td>0</td>\n",
       "      <td>0</td>\n",
       "      <td>0</td>\n",
       "    </tr>\n",
       "    <tr>\n",
       "      <th>ind_ctpp_fin_ult1</th>\n",
       "      <td>0</td>\n",
       "      <td>0</td>\n",
       "      <td>0</td>\n",
       "      <td>0</td>\n",
       "      <td>0</td>\n",
       "      <td>0</td>\n",
       "      <td>0</td>\n",
       "      <td>0</td>\n",
       "      <td>0</td>\n",
       "      <td>0</td>\n",
       "    </tr>\n",
       "    <tr>\n",
       "      <th>ind_deco_fin_ult1</th>\n",
       "      <td>0</td>\n",
       "      <td>0</td>\n",
       "      <td>0</td>\n",
       "      <td>1</td>\n",
       "      <td>0</td>\n",
       "      <td>0</td>\n",
       "      <td>0</td>\n",
       "      <td>0</td>\n",
       "      <td>0</td>\n",
       "      <td>0</td>\n",
       "    </tr>\n",
       "    <tr>\n",
       "      <th>ind_deme_fin_ult1</th>\n",
       "      <td>0</td>\n",
       "      <td>0</td>\n",
       "      <td>0</td>\n",
       "      <td>0</td>\n",
       "      <td>0</td>\n",
       "      <td>0</td>\n",
       "      <td>0</td>\n",
       "      <td>0</td>\n",
       "      <td>0</td>\n",
       "      <td>0</td>\n",
       "    </tr>\n",
       "    <tr>\n",
       "      <th>ind_dela_fin_ult1</th>\n",
       "      <td>0</td>\n",
       "      <td>0</td>\n",
       "      <td>0</td>\n",
       "      <td>0</td>\n",
       "      <td>0</td>\n",
       "      <td>0</td>\n",
       "      <td>0</td>\n",
       "      <td>0</td>\n",
       "      <td>0</td>\n",
       "      <td>0</td>\n",
       "    </tr>\n",
       "    <tr>\n",
       "      <th>ind_ecue_fin_ult1</th>\n",
       "      <td>0</td>\n",
       "      <td>0</td>\n",
       "      <td>0</td>\n",
       "      <td>0</td>\n",
       "      <td>0</td>\n",
       "      <td>0</td>\n",
       "      <td>0</td>\n",
       "      <td>0</td>\n",
       "      <td>0</td>\n",
       "      <td>0</td>\n",
       "    </tr>\n",
       "    <tr>\n",
       "      <th>ind_fond_fin_ult1</th>\n",
       "      <td>0</td>\n",
       "      <td>0</td>\n",
       "      <td>0</td>\n",
       "      <td>0</td>\n",
       "      <td>0</td>\n",
       "      <td>0</td>\n",
       "      <td>0</td>\n",
       "      <td>0</td>\n",
       "      <td>0</td>\n",
       "      <td>0</td>\n",
       "    </tr>\n",
       "    <tr>\n",
       "      <th>ind_hip_fin_ult1</th>\n",
       "      <td>0</td>\n",
       "      <td>0</td>\n",
       "      <td>0</td>\n",
       "      <td>0</td>\n",
       "      <td>0</td>\n",
       "      <td>0</td>\n",
       "      <td>0</td>\n",
       "      <td>0</td>\n",
       "      <td>0</td>\n",
       "      <td>0</td>\n",
       "    </tr>\n",
       "    <tr>\n",
       "      <th>ind_plan_fin_ult1</th>\n",
       "      <td>0</td>\n",
       "      <td>0</td>\n",
       "      <td>0</td>\n",
       "      <td>0</td>\n",
       "      <td>0</td>\n",
       "      <td>0</td>\n",
       "      <td>0</td>\n",
       "      <td>0</td>\n",
       "      <td>0</td>\n",
       "      <td>0</td>\n",
       "    </tr>\n",
       "    <tr>\n",
       "      <th>ind_pres_fin_ult1</th>\n",
       "      <td>0</td>\n",
       "      <td>0</td>\n",
       "      <td>0</td>\n",
       "      <td>0</td>\n",
       "      <td>0</td>\n",
       "      <td>0</td>\n",
       "      <td>0</td>\n",
       "      <td>0</td>\n",
       "      <td>0</td>\n",
       "      <td>0</td>\n",
       "    </tr>\n",
       "    <tr>\n",
       "      <th>ind_reca_fin_ult1</th>\n",
       "      <td>0</td>\n",
       "      <td>0</td>\n",
       "      <td>0</td>\n",
       "      <td>0</td>\n",
       "      <td>0</td>\n",
       "      <td>0</td>\n",
       "      <td>0</td>\n",
       "      <td>0</td>\n",
       "      <td>0</td>\n",
       "      <td>0</td>\n",
       "    </tr>\n",
       "    <tr>\n",
       "      <th>ind_tjcr_fin_ult1</th>\n",
       "      <td>0</td>\n",
       "      <td>0</td>\n",
       "      <td>0</td>\n",
       "      <td>0</td>\n",
       "      <td>0</td>\n",
       "      <td>0</td>\n",
       "      <td>0</td>\n",
       "      <td>0</td>\n",
       "      <td>0</td>\n",
       "      <td>0</td>\n",
       "    </tr>\n",
       "    <tr>\n",
       "      <th>ind_valo_fin_ult1</th>\n",
       "      <td>0</td>\n",
       "      <td>0</td>\n",
       "      <td>0</td>\n",
       "      <td>0</td>\n",
       "      <td>0</td>\n",
       "      <td>0</td>\n",
       "      <td>0</td>\n",
       "      <td>0</td>\n",
       "      <td>0</td>\n",
       "      <td>0</td>\n",
       "    </tr>\n",
       "    <tr>\n",
       "      <th>ind_viv_fin_ult1</th>\n",
       "      <td>0</td>\n",
       "      <td>0</td>\n",
       "      <td>0</td>\n",
       "      <td>0</td>\n",
       "      <td>0</td>\n",
       "      <td>0</td>\n",
       "      <td>0</td>\n",
       "      <td>0</td>\n",
       "      <td>0</td>\n",
       "      <td>0</td>\n",
       "    </tr>\n",
       "    <tr>\n",
       "      <th>ind_nomina_ult1</th>\n",
       "      <td>0</td>\n",
       "      <td>0</td>\n",
       "      <td>0</td>\n",
       "      <td>0</td>\n",
       "      <td>0</td>\n",
       "      <td>0</td>\n",
       "      <td>0</td>\n",
       "      <td>0</td>\n",
       "      <td>0</td>\n",
       "      <td>0</td>\n",
       "    </tr>\n",
       "    <tr>\n",
       "      <th>ind_nom_pens_ult1</th>\n",
       "      <td>0</td>\n",
       "      <td>0</td>\n",
       "      <td>0</td>\n",
       "      <td>0</td>\n",
       "      <td>0</td>\n",
       "      <td>0</td>\n",
       "      <td>0</td>\n",
       "      <td>0</td>\n",
       "      <td>0</td>\n",
       "      <td>0</td>\n",
       "    </tr>\n",
       "    <tr>\n",
       "      <th>ind_recibo_ult1</th>\n",
       "      <td>0</td>\n",
       "      <td>0</td>\n",
       "      <td>0</td>\n",
       "      <td>0</td>\n",
       "      <td>0</td>\n",
       "      <td>0</td>\n",
       "      <td>0</td>\n",
       "      <td>0</td>\n",
       "      <td>0</td>\n",
       "      <td>0</td>\n",
       "    </tr>\n",
       "  </tbody>\n",
       "</table>\n",
       "</div>"
      ],
      "text/plain": [
       "                                               0                    1  \\\n",
       "measurement_date             2015-01-28 00:00:00  2015-01-28 00:00:00   \n",
       "customer_id                              1375586              1050611   \n",
       "employment_index                    not-employee         not-employee   \n",
       "country_of_residence                          ES                   ES   \n",
       "gender                                    female                 male   \n",
       "age                                           35                   23   \n",
       "first_contract_date          2015-01-12 00:00:00  2012-08-10 00:00:00   \n",
       "is_new_customer                               no                   no   \n",
       "customer_for_months                            6                   35   \n",
       "is_primary_customer                          yes                  yes   \n",
       "last_primary_customer_date                   NaN                  NaN   \n",
       "customer_type                            primary              primary   \n",
       "customer_relation_type                    active             inactive   \n",
       "country_residence_bank_same                  yes                  yes   \n",
       "is_foreigner                                  no                  yes   \n",
       "is_spouse_of_an_employee                     NaN                  NaN   \n",
       "join_channel                                 KHL                  KHE   \n",
       "is_dead                                       no                   no   \n",
       "address_type                             address              address   \n",
       "province_code                            prov_29              prov_13   \n",
       "is_active_customer                           yes                   no   \n",
       "household_income                         87218.1              35548.7   \n",
       "customer_segment                      individual    college-graduated   \n",
       "ind_ahor_fin_ult1                              0                    0   \n",
       "ind_aval_fin_ult1                              0                    0   \n",
       "ind_cco_fin_ult1                               1                    1   \n",
       "ind_cder_fin_ult1                              0                    0   \n",
       "ind_cno_fin_ult1                               0                    0   \n",
       "ind_ctju_fin_ult1                              0                    0   \n",
       "ind_ctma_fin_ult1                              0                    0   \n",
       "ind_ctop_fin_ult1                              0                    0   \n",
       "ind_ctpp_fin_ult1                              0                    0   \n",
       "ind_deco_fin_ult1                              0                    0   \n",
       "ind_deme_fin_ult1                              0                    0   \n",
       "ind_dela_fin_ult1                              0                    0   \n",
       "ind_ecue_fin_ult1                              0                    0   \n",
       "ind_fond_fin_ult1                              0                    0   \n",
       "ind_hip_fin_ult1                               0                    0   \n",
       "ind_plan_fin_ult1                              0                    0   \n",
       "ind_pres_fin_ult1                              0                    0   \n",
       "ind_reca_fin_ult1                              0                    0   \n",
       "ind_tjcr_fin_ult1                              0                    0   \n",
       "ind_valo_fin_ult1                              0                    0   \n",
       "ind_viv_fin_ult1                               0                    0   \n",
       "ind_nomina_ult1                                0                    0   \n",
       "ind_nom_pens_ult1                              0                    0   \n",
       "ind_recibo_ult1                                0                    0   \n",
       "\n",
       "                                               2                    3  \\\n",
       "measurement_date             2015-01-28 00:00:00  2015-01-28 00:00:00   \n",
       "customer_id                              1050612              1050613   \n",
       "employment_index                    not-employee         not-employee   \n",
       "country_of_residence                          ES                   ES   \n",
       "gender                                      male               female   \n",
       "age                                           23                   22   \n",
       "first_contract_date          2012-08-10 00:00:00  2012-08-10 00:00:00   \n",
       "is_new_customer                               no                   no   \n",
       "customer_for_months                           35                   35   \n",
       "is_primary_customer                          yes                  yes   \n",
       "last_primary_customer_date                   NaN                  NaN   \n",
       "customer_type                            primary              primary   \n",
       "customer_relation_type                  inactive             inactive   \n",
       "country_residence_bank_same                  yes                  yes   \n",
       "is_foreigner                                  no                   no   \n",
       "is_spouse_of_an_employee                     NaN                  NaN   \n",
       "join_channel                                 KHE                  KHD   \n",
       "is_dead                                       no                   no   \n",
       "address_type                             address              address   \n",
       "province_code                            prov_13              prov_50   \n",
       "is_active_customer                            no                   no   \n",
       "household_income                          122179               119776   \n",
       "customer_segment               college-graduated    college-graduated   \n",
       "ind_ahor_fin_ult1                              0                    0   \n",
       "ind_aval_fin_ult1                              0                    0   \n",
       "ind_cco_fin_ult1                               1                    0   \n",
       "ind_cder_fin_ult1                              0                    0   \n",
       "ind_cno_fin_ult1                               0                    0   \n",
       "ind_ctju_fin_ult1                              0                    0   \n",
       "ind_ctma_fin_ult1                              0                    0   \n",
       "ind_ctop_fin_ult1                              0                    0   \n",
       "ind_ctpp_fin_ult1                              0                    0   \n",
       "ind_deco_fin_ult1                              0                    1   \n",
       "ind_deme_fin_ult1                              0                    0   \n",
       "ind_dela_fin_ult1                              0                    0   \n",
       "ind_ecue_fin_ult1                              0                    0   \n",
       "ind_fond_fin_ult1                              0                    0   \n",
       "ind_hip_fin_ult1                               0                    0   \n",
       "ind_plan_fin_ult1                              0                    0   \n",
       "ind_pres_fin_ult1                              0                    0   \n",
       "ind_reca_fin_ult1                              0                    0   \n",
       "ind_tjcr_fin_ult1                              0                    0   \n",
       "ind_valo_fin_ult1                              0                    0   \n",
       "ind_viv_fin_ult1                               0                    0   \n",
       "ind_nomina_ult1                                0                    0   \n",
       "ind_nom_pens_ult1                              0                    0   \n",
       "ind_recibo_ult1                                0                    0   \n",
       "\n",
       "                                               4                    5  \\\n",
       "measurement_date             2015-01-28 00:00:00  2015-01-28 00:00:00   \n",
       "customer_id                              1050614              1050615   \n",
       "employment_index                    not-employee         not-employee   \n",
       "country_of_residence                          ES                   ES   \n",
       "gender                                      male               female   \n",
       "age                                           23                   23   \n",
       "first_contract_date          2012-08-10 00:00:00  2012-08-10 00:00:00   \n",
       "is_new_customer                               no                   no   \n",
       "customer_for_months                           35                   35   \n",
       "is_primary_customer                          yes                  yes   \n",
       "last_primary_customer_date                   NaN                  NaN   \n",
       "customer_type                            primary              primary   \n",
       "customer_relation_type                    active             inactive   \n",
       "country_residence_bank_same                  yes                  yes   \n",
       "is_foreigner                                  no                   no   \n",
       "is_spouse_of_an_employee                     NaN                  NaN   \n",
       "join_channel                                 KHE                  KHE   \n",
       "is_dead                                       no                   no   \n",
       "address_type                             address              address   \n",
       "province_code                            prov_50              prov_45   \n",
       "is_active_customer                           yes                   no   \n",
       "household_income                             NaN                22220   \n",
       "customer_segment               college-graduated    college-graduated   \n",
       "ind_ahor_fin_ult1                              0                    0   \n",
       "ind_aval_fin_ult1                              0                    0   \n",
       "ind_cco_fin_ult1                               1                    1   \n",
       "ind_cder_fin_ult1                              0                    0   \n",
       "ind_cno_fin_ult1                               0                    0   \n",
       "ind_ctju_fin_ult1                              0                    0   \n",
       "ind_ctma_fin_ult1                              0                    0   \n",
       "ind_ctop_fin_ult1                              0                    0   \n",
       "ind_ctpp_fin_ult1                              0                    0   \n",
       "ind_deco_fin_ult1                              0                    0   \n",
       "ind_deme_fin_ult1                              0                    0   \n",
       "ind_dela_fin_ult1                              0                    0   \n",
       "ind_ecue_fin_ult1                              0                    0   \n",
       "ind_fond_fin_ult1                              0                    0   \n",
       "ind_hip_fin_ult1                               0                    0   \n",
       "ind_plan_fin_ult1                              0                    0   \n",
       "ind_pres_fin_ult1                              0                    0   \n",
       "ind_reca_fin_ult1                              0                    0   \n",
       "ind_tjcr_fin_ult1                              0                    0   \n",
       "ind_valo_fin_ult1                              0                    0   \n",
       "ind_viv_fin_ult1                               0                    0   \n",
       "ind_nomina_ult1                                0                    0   \n",
       "ind_nom_pens_ult1                              0                    0   \n",
       "ind_recibo_ult1                                0                    0   \n",
       "\n",
       "                                               6                    7  \\\n",
       "measurement_date             2015-01-28 00:00:00  2015-01-28 00:00:00   \n",
       "customer_id                              1050616              1050617   \n",
       "employment_index                    not-employee         not-employee   \n",
       "country_of_residence                          ES                   ES   \n",
       "gender                                    female               female   \n",
       "age                                           23                   23   \n",
       "first_contract_date          2012-08-10 00:00:00  2012-08-10 00:00:00   \n",
       "is_new_customer                               no                   no   \n",
       "customer_for_months                           35                   35   \n",
       "is_primary_customer                          yes                  yes   \n",
       "last_primary_customer_date                   NaN                  NaN   \n",
       "customer_type                            primary              primary   \n",
       "customer_relation_type                  inactive               active   \n",
       "country_residence_bank_same                  yes                  yes   \n",
       "is_foreigner                                  no                   no   \n",
       "is_spouse_of_an_employee                     NaN                  NaN   \n",
       "join_channel                                 KHE                  KHE   \n",
       "is_dead                                       no                   no   \n",
       "address_type                             address              address   \n",
       "province_code                            prov_24              prov_50   \n",
       "is_active_customer                            no                  yes   \n",
       "household_income                          295590               113317   \n",
       "customer_segment               college-graduated    college-graduated   \n",
       "ind_ahor_fin_ult1                              0                    0   \n",
       "ind_aval_fin_ult1                              0                    0   \n",
       "ind_cco_fin_ult1                               1                    1   \n",
       "ind_cder_fin_ult1                              0                    0   \n",
       "ind_cno_fin_ult1                               0                    0   \n",
       "ind_ctju_fin_ult1                              0                    0   \n",
       "ind_ctma_fin_ult1                              0                    0   \n",
       "ind_ctop_fin_ult1                              0                    0   \n",
       "ind_ctpp_fin_ult1                              0                    0   \n",
       "ind_deco_fin_ult1                              0                    0   \n",
       "ind_deme_fin_ult1                              0                    0   \n",
       "ind_dela_fin_ult1                              0                    0   \n",
       "ind_ecue_fin_ult1                              0                    0   \n",
       "ind_fond_fin_ult1                              0                    0   \n",
       "ind_hip_fin_ult1                               0                    0   \n",
       "ind_plan_fin_ult1                              0                    0   \n",
       "ind_pres_fin_ult1                              0                    0   \n",
       "ind_reca_fin_ult1                              0                    0   \n",
       "ind_tjcr_fin_ult1                              0                    0   \n",
       "ind_valo_fin_ult1                              0                    0   \n",
       "ind_viv_fin_ult1                               0                    0   \n",
       "ind_nomina_ult1                                0                    0   \n",
       "ind_nom_pens_ult1                              0                    0   \n",
       "ind_recibo_ult1                                0                    0   \n",
       "\n",
       "                                               8                    9  \n",
       "measurement_date             2015-01-28 00:00:00  2015-01-28 00:00:00  \n",
       "customer_id                              1050619              1050620  \n",
       "employment_index                    not-employee         not-employee  \n",
       "country_of_residence                          ES                   ES  \n",
       "gender                                    female               female  \n",
       "age                                           24                   23  \n",
       "first_contract_date          2012-08-10 00:00:00  2012-08-10 00:00:00  \n",
       "is_new_customer                               no                   no  \n",
       "customer_for_months                           35                   35  \n",
       "is_primary_customer                          yes                  yes  \n",
       "last_primary_customer_date                   NaN                  NaN  \n",
       "customer_type                            primary              primary  \n",
       "customer_relation_type                  inactive             inactive  \n",
       "country_residence_bank_same                  yes                  yes  \n",
       "is_foreigner                                  no                   no  \n",
       "is_spouse_of_an_employee                     NaN                  NaN  \n",
       "join_channel                                 KHE                  KHE  \n",
       "is_dead                                       no                   no  \n",
       "address_type                             address              address  \n",
       "province_code                            prov_20              prov_10  \n",
       "is_active_customer                            no                   no  \n",
       "household_income                             NaN               113195  \n",
       "customer_segment               college-graduated    college-graduated  \n",
       "ind_ahor_fin_ult1                              0                    0  \n",
       "ind_aval_fin_ult1                              0                    0  \n",
       "ind_cco_fin_ult1                               1                    1  \n",
       "ind_cder_fin_ult1                              0                    0  \n",
       "ind_cno_fin_ult1                               0                    0  \n",
       "ind_ctju_fin_ult1                              0                    0  \n",
       "ind_ctma_fin_ult1                              0                    0  \n",
       "ind_ctop_fin_ult1                              0                    0  \n",
       "ind_ctpp_fin_ult1                              0                    0  \n",
       "ind_deco_fin_ult1                              0                    0  \n",
       "ind_deme_fin_ult1                              0                    0  \n",
       "ind_dela_fin_ult1                              0                    0  \n",
       "ind_ecue_fin_ult1                              0                    0  \n",
       "ind_fond_fin_ult1                              0                    0  \n",
       "ind_hip_fin_ult1                               0                    0  \n",
       "ind_plan_fin_ult1                              0                    0  \n",
       "ind_pres_fin_ult1                              0                    0  \n",
       "ind_reca_fin_ult1                              0                    0  \n",
       "ind_tjcr_fin_ult1                              0                    0  \n",
       "ind_valo_fin_ult1                              0                    0  \n",
       "ind_viv_fin_ult1                               0                    0  \n",
       "ind_nomina_ult1                                0                    0  \n",
       "ind_nom_pens_ult1                              0                    0  \n",
       "ind_recibo_ult1                                0                    0  "
      ]
     },
     "execution_count": 95,
     "metadata": {},
     "output_type": "execute_result"
    }
   ],
   "source": [
    "d.head(10).T"
   ]
  },
  {
   "cell_type": "markdown",
   "metadata": {},
   "source": [
    "## Write the Data to a File"
   ]
  },
  {
   "cell_type": "code",
   "execution_count": 96,
   "metadata": {
    "collapsed": true
   },
   "outputs": [],
   "source": [
    "d.to_csv('tmp/clean.csv', index=False)"
   ]
  }
 ],
 "metadata": {
  "kernelspec": {
   "display_name": "Python 2",
   "language": "python",
   "name": "python2"
  },
  "language_info": {
   "codemirror_mode": {
    "name": "ipython",
    "version": 2
   },
   "file_extension": ".py",
   "mimetype": "text/x-python",
   "name": "python",
   "nbconvert_exporter": "python",
   "pygments_lexer": "ipython2",
   "version": "2.7.11"
  }
 },
 "nbformat": 4,
 "nbformat_minor": 0
}
