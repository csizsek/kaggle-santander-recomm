{
 "cells": [
  {
   "cell_type": "code",
   "execution_count": 1,
   "metadata": {
    "collapsed": false
   },
   "outputs": [
    {
     "name": "stderr",
     "output_type": "stream",
     "text": [
      "/usr/local/lib/python2.7/site-packages/matplotlib/font_manager.py:273: UserWarning: Matplotlib is building the font cache using fc-list. This may take a moment.\n",
      "  warnings.warn('Matplotlib is building the font cache using fc-list. This may take a moment.')\n"
     ]
    }
   ],
   "source": [
    "import base64\n",
    "import datetime\n",
    "import time\n",
    "import json\n",
    "import numpy as np\n",
    "import pandas as pd\n",
    "import matplotlib as mpl\n",
    "import matplotlib.pyplot as plt\n",
    "from pylab import rcParams\n",
    "import seaborn as sns\n",
    "import statsmodels as sm\n",
    "from pylab import rcParams\n",
    "from numpy import median\n",
    "import matplotlib.dates as mdates\n",
    "\n",
    "np.random.seed(1337)\n",
    "%matplotlib inline\n",
    "sns.set(font_scale=1.5)\n",
    "rcParams['figure.figsize'] = 12, 8\n",
    "sns.set_style('whitegrid')\n",
    "sns.set_palette(sns.color_palette('muted'))"
   ]
  },
  {
   "cell_type": "code",
   "execution_count": 2,
   "metadata": {
    "collapsed": false
   },
   "outputs": [
    {
     "name": "stderr",
     "output_type": "stream",
     "text": [
      "/usr/local/lib/python2.7/site-packages/sklearn/cross_validation.py:44: DeprecationWarning: This module was deprecated in version 0.18 in favor of the model_selection module into which all the refactored classes and functions are moved. Also note that the interface of the new CV iterators are different from that of this module. This module will be removed in 0.20.\n",
      "  \"This module will be removed in 0.20.\", DeprecationWarning)\n",
      "/usr/local/lib/python2.7/site-packages/sklearn/grid_search.py:43: DeprecationWarning: This module was deprecated in version 0.18 in favor of the model_selection module into which all the refactored classes and functions are moved. This module will be removed in 0.20.\n",
      "  DeprecationWarning)\n"
     ]
    }
   ],
   "source": [
    "from xgboost import XGBClassifier\n",
    "from sklearn.metrics import confusion_matrix\n",
    "from sklearn.metrics import roc_auc_score\n",
    "from sklearn.ensemble import RandomForestClassifier\n",
    "from sklearn.naive_bayes import MultinomialNB\n",
    "from sklearn.tree import DecisionTreeClassifier\n",
    "from sklearn.grid_search import GridSearchCV\n",
    "from sklearn.svm import SVC\n",
    "from sklearn.neighbors import KNeighborsClassifier"
   ]
  },
  {
   "cell_type": "code",
   "execution_count": 3,
   "metadata": {
    "collapsed": false
   },
   "outputs": [],
   "source": [
    "# d = pd.read_csv('tmp/clean_part_0_classif2_test.csv')\n",
    "# for i in range(1, 10):\n",
    "#     d = pd.concat([d, pd.read_csv('tmp/clean_part_{0}_classif2_test.csv'.format(i))])\n",
    "# d.to_csv('tmp/clean_classif2_test.csv')\n",
    "# del d"
   ]
  },
  {
   "cell_type": "code",
   "execution_count": 4,
   "metadata": {
    "collapsed": false
   },
   "outputs": [],
   "source": [
    "products = '''ind_ahor_fin_ult1\n",
    "ind_aval_fin_ult1\n",
    "ind_cco_fin_ult1\n",
    "ind_cder_fin_ult1\n",
    "ind_cno_fin_ult1\n",
    "ind_ctju_fin_ult1\n",
    "ind_ctma_fin_ult1\n",
    "ind_ctop_fin_ult1\n",
    "ind_ctpp_fin_ult1\n",
    "ind_deco_fin_ult1\n",
    "ind_deme_fin_ult1\n",
    "ind_dela_fin_ult1\n",
    "ind_ecue_fin_ult1\n",
    "ind_fond_fin_ult1\n",
    "ind_hip_fin_ult1\n",
    "ind_plan_fin_ult1\n",
    "ind_pres_fin_ult1\n",
    "ind_reca_fin_ult1\n",
    "ind_tjcr_fin_ult1\n",
    "ind_valo_fin_ult1\n",
    "ind_viv_fin_ult1\n",
    "ind_nomina_ult1\n",
    "ind_nom_pens_ult1\n",
    "ind_recibo_ult1'''.split('\\n')\n",
    "\n",
    "products2 = '''ind_cco_fin_ult1\n",
    "ind_cno_fin_ult1\n",
    "ind_dela_fin_ult1\n",
    "ind_ecue_fin_ult1\n",
    "ind_reca_fin_ult1\n",
    "ind_tjcr_fin_ult1\n",
    "ind_nomina_ult1\n",
    "ind_nom_pens_ult1\n",
    "ind_recibo_ult1'''.split('\\n')"
   ]
  },
  {
   "cell_type": "code",
   "execution_count": 5,
   "metadata": {
    "collapsed": false
   },
   "outputs": [],
   "source": [
    "# d = pd.read_csv('tmp/clean_classif2_test.csv')\n",
    "# del d['Unnamed: 0']\n",
    "# d['target_name'] = 'test'\n",
    "# for product in products:\n",
    "#     print product\n",
    "#     tr = pd.read_csv('tmp/clean_sample_100000_classif2_{0}.csv'.format(product))\n",
    "#     tr['target_name'] = product\n",
    "#     d = pd.concat([d, tr])\n",
    "# cols_to_encode = []\n",
    "# for c in d.columns:\n",
    "#     if (tr[c].dtype == object and\n",
    "#     (c not in ['customer_id', 'target', 'target_name'])):\n",
    "#         cols_to_encode.append(c)\n",
    "# d = pd.get_dummies(d, columns=cols_to_encode)\n",
    "# print 'foo'\n",
    "\n",
    "# d[d.target_name == 'test'].to_csv('tmp/ready_for_prediction_test.csv', index=False)\n",
    "# print 'bar'\n",
    "\n",
    "# for product in products:\n",
    "#     print product\n",
    "#     d[d.target_name == product].to_csv('tmp/ready_for_prediction_train_{0}.csv'.format(product), index=False)\n",
    "\n",
    "# del d"
   ]
  },
  {
   "cell_type": "code",
   "execution_count": 6,
   "metadata": {
    "collapsed": false
   },
   "outputs": [
    {
     "name": "stdout",
     "output_type": "stream",
     "text": [
      "==============================\n",
      "product: ind_cco_fin_ult1\n",
      "value_counts:\n",
      "0.0    95752\n",
      "1.0     4248\n",
      "Name: target, dtype: int64\n",
      "roc_auc_score:\n",
      "0.947390715269\n",
      "confusion matrix:\n",
      "predicted      0     1\n",
      "actual                \n",
      "0          22801  1140\n",
      "1             61   998\n",
      "==============================\n",
      "product: ind_cno_fin_ult1\n",
      "value_counts:\n",
      "0.0    97323\n",
      "1.0     2677\n",
      "Name: target, dtype: int64\n",
      "roc_auc_score:\n",
      "0.854497080342\n",
      "confusion matrix:\n",
      "predicted      0     1\n",
      "actual                \n",
      "0          22463  1861\n",
      "1            145   531\n",
      "==============================\n",
      "product: ind_dela_fin_ult1\n",
      "value_counts:\n",
      "0.0    98938\n",
      "1.0     1062\n",
      "Name: target, dtype: int64\n",
      "roc_auc_score:\n",
      "0.73040509057\n",
      "confusion matrix:\n",
      "predicted      0    1\n",
      "actual               \n",
      "0          24245  478\n",
      "1            144  133\n",
      "==============================\n",
      "product: ind_ecue_fin_ult1\n",
      "value_counts:\n",
      "0.0    97769\n",
      "1.0     2231\n",
      "Name: target, dtype: int64\n",
      "roc_auc_score:\n",
      "0.828203641479\n",
      "confusion matrix:\n",
      "predicted      0    1\n",
      "actual               \n",
      "0          23578  864\n",
      "1            172  386\n",
      "==============================\n",
      "product: ind_reca_fin_ult1\n",
      "value_counts:\n",
      "0.0    99090\n",
      "1.0      910\n",
      "Name: target, dtype: int64\n",
      "roc_auc_score:\n",
      "0.677698591082\n",
      "confusion matrix:\n",
      "predicted      0    1\n",
      "actual               \n",
      "0          24369  394\n",
      "1            149   88\n",
      "==============================\n",
      "product: ind_tjcr_fin_ult1\n",
      "value_counts:\n",
      "0.0    97646\n",
      "1.0     2354\n",
      "Name: target, dtype: int64\n",
      "roc_auc_score:\n",
      "0.842416554186\n",
      "confusion matrix:\n",
      "predicted      0     1\n",
      "actual                \n",
      "0          22593  1840\n",
      "1            136   431\n",
      "==============================\n",
      "product: ind_nomina_ult1\n",
      "value_counts:\n",
      "0.0    96827\n",
      "1.0     3173\n",
      "Name: target, dtype: int64\n",
      "roc_auc_score:\n",
      "0.868007854278\n",
      "confusion matrix:\n",
      "predicted      0     1\n",
      "actual                \n",
      "0          21813  2368\n",
      "1            136   683\n",
      "==============================\n",
      "product: ind_nom_pens_ult1\n",
      "value_counts:\n",
      "0.0    96735\n",
      "1.0     3265\n",
      "Name: target, dtype: int64\n",
      "roc_auc_score:\n",
      "0.87440433092\n",
      "confusion matrix:\n",
      "predicted      0     1\n",
      "actual                \n",
      "0          21784  2422\n",
      "1            120   674\n",
      "==============================\n",
      "product: ind_recibo_ult1\n",
      "value_counts:\n",
      "0.0    93691\n",
      "1.0     6309\n",
      "Name: target, dtype: int64\n",
      "roc_auc_score:\n",
      "0.879460514757\n",
      "confusion matrix:\n",
      "predicted      0     1\n",
      "actual                \n",
      "0          18984  4461\n",
      "1             79  1476\n"
     ]
    }
   ],
   "source": [
    "for p in products2:\n",
    "    print '=' * 30\n",
    "    print 'product:', p\n",
    "    \n",
    "    d = pd.read_csv('tmp/ready_for_prediction_train_{0}.csv'.format(p))\n",
    "    d = d.iloc[np.random.permutation(len(d))]\n",
    "    del d['customer_id']\n",
    "    del d['target_name']\n",
    "    l = d.target.copy()\n",
    "    del d['target']\n",
    "    \n",
    "    cols_to_encode = []\n",
    "    for c in d.columns:\n",
    "        if d[c].dtype == object:\n",
    "            cols_to_encode.append(c)\n",
    "            \n",
    "    d = pd.get_dummies(d, columns=cols_to_encode)\n",
    "    \n",
    "    print 'value_counts:'\n",
    "    print l.value_counts()\n",
    "    \n",
    "    try:\n",
    "        lim_train = 3*len(d)/4\n",
    "        tr = d[:lim_train]\n",
    "        trl = l[:lim_train]\n",
    "        te = d[lim_train:]\n",
    "        tel = l[lim_train:]\n",
    "\n",
    "        m = XGBClassifier(\n",
    "                n_estimators=100,\n",
    "                learning_rate=0.05,\n",
    "                max_depth=5,\n",
    "                gamma=0.01,\n",
    "                scale_pos_weight=15.0)\n",
    "\n",
    "        m.fit(tr, trl)\n",
    "        p = m.predict(te)\n",
    "\n",
    "        print 'roc_auc_score:'\n",
    "        print roc_auc_score(tel, p)\n",
    "\n",
    "        cmx = pd.DataFrame(confusion_matrix(tel, p))\n",
    "        cmx.index.name='actual'\n",
    "        cmx.columns.name='predicted'\n",
    "        print 'confusion matrix:'\n",
    "        print cmx\n",
    "    except:\n",
    "        print ':('"
   ]
  },
  {
   "cell_type": "code",
   "execution_count": 8,
   "metadata": {
    "collapsed": false
   },
   "outputs": [
    {
     "ename": "KeyboardInterrupt",
     "evalue": "",
     "output_type": "error",
     "traceback": [
      "\u001b[0;31m---------------------------------------------------------------------------\u001b[0m",
      "\u001b[0;31mKeyboardInterrupt\u001b[0m                         Traceback (most recent call last)",
      "\u001b[0;32m<ipython-input-8-7b1fe66b506d>\u001b[0m in \u001b[0;36m<module>\u001b[0;34m()\u001b[0m\n\u001b[1;32m     14\u001b[0m                 \u001b[0mgamma\u001b[0m\u001b[0;34m=\u001b[0m\u001b[0;36m0.01\u001b[0m\u001b[0;34m,\u001b[0m\u001b[0;34m\u001b[0m\u001b[0m\n\u001b[1;32m     15\u001b[0m                 scale_pos_weight=15.0)\n\u001b[0;32m---> 16\u001b[0;31m     \u001b[0mm\u001b[0m\u001b[0;34m.\u001b[0m\u001b[0mfit\u001b[0m\u001b[0;34m(\u001b[0m\u001b[0mtr\u001b[0m\u001b[0;34m,\u001b[0m \u001b[0mtrl\u001b[0m\u001b[0;34m)\u001b[0m\u001b[0;34m\u001b[0m\u001b[0m\n\u001b[0m\u001b[1;32m     17\u001b[0m     \u001b[0mmodels\u001b[0m\u001b[0;34m[\u001b[0m\u001b[0mproduct\u001b[0m\u001b[0;34m]\u001b[0m \u001b[0;34m=\u001b[0m \u001b[0mm\u001b[0m\u001b[0;34m\u001b[0m\u001b[0m\n\u001b[1;32m     18\u001b[0m     \u001b[0;32mdel\u001b[0m \u001b[0mtr\u001b[0m\u001b[0;34m\u001b[0m\u001b[0m\n",
      "\u001b[0;32m/Library/Python/2.7/site-packages/xgboost-0.6-py2.7.egg/xgboost/sklearn.pyc\u001b[0m in \u001b[0;36mfit\u001b[0;34m(self, X, y, sample_weight, eval_set, eval_metric, early_stopping_rounds, verbose)\u001b[0m\n\u001b[1;32m    443\u001b[0m                               \u001b[0mearly_stopping_rounds\u001b[0m\u001b[0;34m=\u001b[0m\u001b[0mearly_stopping_rounds\u001b[0m\u001b[0;34m,\u001b[0m\u001b[0;34m\u001b[0m\u001b[0m\n\u001b[1;32m    444\u001b[0m                               \u001b[0mevals_result\u001b[0m\u001b[0;34m=\u001b[0m\u001b[0mevals_result\u001b[0m\u001b[0;34m,\u001b[0m \u001b[0mobj\u001b[0m\u001b[0;34m=\u001b[0m\u001b[0mobj\u001b[0m\u001b[0;34m,\u001b[0m \u001b[0mfeval\u001b[0m\u001b[0;34m=\u001b[0m\u001b[0mfeval\u001b[0m\u001b[0;34m,\u001b[0m\u001b[0;34m\u001b[0m\u001b[0m\n\u001b[0;32m--> 445\u001b[0;31m                               verbose_eval=verbose)\n\u001b[0m\u001b[1;32m    446\u001b[0m \u001b[0;34m\u001b[0m\u001b[0m\n\u001b[1;32m    447\u001b[0m         \u001b[0mself\u001b[0m\u001b[0;34m.\u001b[0m\u001b[0mobjective\u001b[0m \u001b[0;34m=\u001b[0m \u001b[0mxgb_options\u001b[0m\u001b[0;34m[\u001b[0m\u001b[0;34m\"objective\"\u001b[0m\u001b[0;34m]\u001b[0m\u001b[0;34m\u001b[0m\u001b[0m\n",
      "\u001b[0;32m/Library/Python/2.7/site-packages/xgboost-0.6-py2.7.egg/xgboost/training.pyc\u001b[0m in \u001b[0;36mtrain\u001b[0;34m(params, dtrain, num_boost_round, evals, obj, feval, maximize, early_stopping_rounds, evals_result, verbose_eval, learning_rates, xgb_model, callbacks)\u001b[0m\n\u001b[1;32m    201\u001b[0m                            \u001b[0mevals\u001b[0m\u001b[0;34m=\u001b[0m\u001b[0mevals\u001b[0m\u001b[0;34m,\u001b[0m\u001b[0;34m\u001b[0m\u001b[0m\n\u001b[1;32m    202\u001b[0m                            \u001b[0mobj\u001b[0m\u001b[0;34m=\u001b[0m\u001b[0mobj\u001b[0m\u001b[0;34m,\u001b[0m \u001b[0mfeval\u001b[0m\u001b[0;34m=\u001b[0m\u001b[0mfeval\u001b[0m\u001b[0;34m,\u001b[0m\u001b[0;34m\u001b[0m\u001b[0m\n\u001b[0;32m--> 203\u001b[0;31m                            xgb_model=xgb_model, callbacks=callbacks)\n\u001b[0m\u001b[1;32m    204\u001b[0m \u001b[0;34m\u001b[0m\u001b[0m\n\u001b[1;32m    205\u001b[0m \u001b[0;34m\u001b[0m\u001b[0m\n",
      "\u001b[0;32m/Library/Python/2.7/site-packages/xgboost-0.6-py2.7.egg/xgboost/training.pyc\u001b[0m in \u001b[0;36m_train_internal\u001b[0;34m(params, dtrain, num_boost_round, evals, obj, feval, xgb_model, callbacks)\u001b[0m\n\u001b[1;32m     72\u001b[0m         \u001b[0;31m# Skip the first update if it is a recovery step.\u001b[0m\u001b[0;34m\u001b[0m\u001b[0;34m\u001b[0m\u001b[0m\n\u001b[1;32m     73\u001b[0m         \u001b[0;32mif\u001b[0m \u001b[0mversion\u001b[0m \u001b[0;34m%\u001b[0m \u001b[0;36m2\u001b[0m \u001b[0;34m==\u001b[0m \u001b[0;36m0\u001b[0m\u001b[0;34m:\u001b[0m\u001b[0;34m\u001b[0m\u001b[0m\n\u001b[0;32m---> 74\u001b[0;31m             \u001b[0mbst\u001b[0m\u001b[0;34m.\u001b[0m\u001b[0mupdate\u001b[0m\u001b[0;34m(\u001b[0m\u001b[0mdtrain\u001b[0m\u001b[0;34m,\u001b[0m \u001b[0mi\u001b[0m\u001b[0;34m,\u001b[0m \u001b[0mobj\u001b[0m\u001b[0;34m)\u001b[0m\u001b[0;34m\u001b[0m\u001b[0m\n\u001b[0m\u001b[1;32m     75\u001b[0m             \u001b[0mbst\u001b[0m\u001b[0;34m.\u001b[0m\u001b[0msave_rabit_checkpoint\u001b[0m\u001b[0;34m(\u001b[0m\u001b[0;34m)\u001b[0m\u001b[0;34m\u001b[0m\u001b[0m\n\u001b[1;32m     76\u001b[0m             \u001b[0mversion\u001b[0m \u001b[0;34m+=\u001b[0m \u001b[0;36m1\u001b[0m\u001b[0;34m\u001b[0m\u001b[0m\n",
      "\u001b[0;32m/Library/Python/2.7/site-packages/xgboost-0.6-py2.7.egg/xgboost/core.pyc\u001b[0m in \u001b[0;36mupdate\u001b[0;34m(self, dtrain, iteration, fobj)\u001b[0m\n\u001b[1;32m    817\u001b[0m \u001b[0;34m\u001b[0m\u001b[0m\n\u001b[1;32m    818\u001b[0m         \u001b[0;32mif\u001b[0m \u001b[0mfobj\u001b[0m \u001b[0;32mis\u001b[0m \u001b[0mNone\u001b[0m\u001b[0;34m:\u001b[0m\u001b[0;34m\u001b[0m\u001b[0m\n\u001b[0;32m--> 819\u001b[0;31m             \u001b[0m_check_call\u001b[0m\u001b[0;34m(\u001b[0m\u001b[0m_LIB\u001b[0m\u001b[0;34m.\u001b[0m\u001b[0mXGBoosterUpdateOneIter\u001b[0m\u001b[0;34m(\u001b[0m\u001b[0mself\u001b[0m\u001b[0;34m.\u001b[0m\u001b[0mhandle\u001b[0m\u001b[0;34m,\u001b[0m \u001b[0miteration\u001b[0m\u001b[0;34m,\u001b[0m \u001b[0mdtrain\u001b[0m\u001b[0;34m.\u001b[0m\u001b[0mhandle\u001b[0m\u001b[0;34m)\u001b[0m\u001b[0;34m)\u001b[0m\u001b[0;34m\u001b[0m\u001b[0m\n\u001b[0m\u001b[1;32m    820\u001b[0m         \u001b[0;32melse\u001b[0m\u001b[0;34m:\u001b[0m\u001b[0;34m\u001b[0m\u001b[0m\n\u001b[1;32m    821\u001b[0m             \u001b[0mpred\u001b[0m \u001b[0;34m=\u001b[0m \u001b[0mself\u001b[0m\u001b[0;34m.\u001b[0m\u001b[0mpredict\u001b[0m\u001b[0;34m(\u001b[0m\u001b[0mdtrain\u001b[0m\u001b[0;34m)\u001b[0m\u001b[0;34m\u001b[0m\u001b[0m\n",
      "\u001b[0;31mKeyboardInterrupt\u001b[0m: "
     ]
    }
   ],
   "source": [
    "models = {}\n",
    "for product in products:\n",
    "    tr = pd.read_csv('tmp/ready_for_prediction_train_{0}.csv'.format(product))\n",
    "    trl = tr.target.copy()\n",
    "    \n",
    "    del tr['customer_id']\n",
    "    del tr['target']\n",
    "    del tr['target_name']\n",
    "    \n",
    "    m = XGBClassifier(\n",
    "                n_estimators=100,\n",
    "                learning_rate=0.05,\n",
    "                max_depth=5,\n",
    "                gamma=0.01,\n",
    "                scale_pos_weight=15.0)\n",
    "    m.fit(tr, trl)\n",
    "    models[product] = m\n",
    "    del tr\n",
    "    del trl"
   ]
  },
  {
   "cell_type": "code",
   "execution_count": null,
   "metadata": {
    "collapsed": false
   },
   "outputs": [],
   "source": [
    "te = pd.read_csv('tmp/ready_for_prediction_test.csv')\n",
    "del te['target']\n",
    "del te['target_name']\n",
    "sub = pd.DataFrame({'customer_id': te.customer_id.copy()})\n",
    "del te['customer_id']\n",
    "for product in products:\n",
    "    sub[product] = models[product].predict_proba(te)[:, 1]\n",
    "del te"
   ]
  },
  {
   "cell_type": "code",
   "execution_count": null,
   "metadata": {
    "collapsed": false
   },
   "outputs": [],
   "source": [
    "sub.head(20)"
   ]
  },
  {
   "cell_type": "code",
   "execution_count": null,
   "metadata": {
    "collapsed": true
   },
   "outputs": [],
   "source": [
    "sub.to_csv('tmp/sub_prob.csv', index=False)"
   ]
  },
  {
   "cell_type": "code",
   "execution_count": null,
   "metadata": {
    "collapsed": true
   },
   "outputs": [],
   "source": [
    "te = pd.read_csv('tmp/ready_for_prediction_test.csv')\n",
    "del te['target']\n",
    "del te['target_name']\n",
    "sub = pd.DataFrame({'customer_id': te.customer_id.copy()})\n",
    "del te['customer_id']\n",
    "for product in products:\n",
    "    sub[product] = models[product].predict(te)\n",
    "del te"
   ]
  },
  {
   "cell_type": "code",
   "execution_count": null,
   "metadata": {
    "collapsed": false
   },
   "outputs": [],
   "source": [
    "sub.head(20)"
   ]
  },
  {
   "cell_type": "code",
   "execution_count": null,
   "metadata": {
    "collapsed": true
   },
   "outputs": [],
   "source": [
    "sub.to_csv('tmp/sub.csv', index=False)"
   ]
  },
  {
   "cell_type": "code",
   "execution_count": null,
   "metadata": {
    "collapsed": false
   },
   "outputs": [],
   "source": [
    "prod_prio = sub.sum().sort_values(ascending=True).index.tolist()[:-1]"
   ]
  },
  {
   "cell_type": "code",
   "execution_count": null,
   "metadata": {
    "collapsed": false
   },
   "outputs": [],
   "source": [
    "prod_prio"
   ]
  },
  {
   "cell_type": "code",
   "execution_count": null,
   "metadata": {
    "collapsed": false
   },
   "outputs": [],
   "source": [
    "prod_prio[-1]"
   ]
  },
  {
   "cell_type": "code",
   "execution_count": null,
   "metadata": {
    "collapsed": true
   },
   "outputs": [],
   "source": [
    "s = pd.DataFrame({'ncodpers': sub.customer_id.copy()})\n",
    "s['added_products'] = prod_prio[-1]"
   ]
  },
  {
   "cell_type": "code",
   "execution_count": null,
   "metadata": {
    "collapsed": false
   },
   "outputs": [],
   "source": [
    "for p in prod_prio:\n",
    "    s.loc[sub[p] == 1.0, 'added_products'] = p\n",
    "s.head(10)"
   ]
  },
  {
   "cell_type": "code",
   "execution_count": null,
   "metadata": {
    "collapsed": false
   },
   "outputs": [],
   "source": [
    "ss = pd.read_csv('output/sample_submission.csv')\n",
    "del ss['added_products']\n",
    "ss.head(10)"
   ]
  },
  {
   "cell_type": "code",
   "execution_count": null,
   "metadata": {
    "collapsed": false
   },
   "outputs": [],
   "source": [
    "s = pd.merge(ss, s, how='left')\n",
    "s.head(10)"
   ]
  },
  {
   "cell_type": "code",
   "execution_count": null,
   "metadata": {
    "collapsed": true
   },
   "outputs": [],
   "source": [
    "s.to_csv('output/s2.csv', index=False)"
   ]
  }
 ],
 "metadata": {
  "kernelspec": {
   "display_name": "Python 2",
   "language": "python",
   "name": "python2"
  },
  "language_info": {
   "codemirror_mode": {
    "name": "ipython",
    "version": 2
   },
   "file_extension": ".py",
   "mimetype": "text/x-python",
   "name": "python",
   "nbconvert_exporter": "python",
   "pygments_lexer": "ipython2",
   "version": "2.7.11"
  }
 },
 "nbformat": 4,
 "nbformat_minor": 0
}
