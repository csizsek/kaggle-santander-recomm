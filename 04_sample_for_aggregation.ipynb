{
 "cells": [
  {
   "cell_type": "code",
   "execution_count": 1,
   "metadata": {
    "collapsed": false
   },
   "outputs": [
    {
     "name": "stderr",
     "output_type": "stream",
     "text": [
      "/usr/local/lib/python2.7/site-packages/matplotlib/font_manager.py:273: UserWarning: Matplotlib is building the font cache using fc-list. This may take a moment.\n",
      "  warnings.warn('Matplotlib is building the font cache using fc-list. This may take a moment.')\n"
     ]
    }
   ],
   "source": [
    "import base64\n",
    "import datetime\n",
    "import time\n",
    "import json\n",
    "import numpy as np\n",
    "import pandas as pd\n",
    "import matplotlib as mpl\n",
    "import matplotlib.pyplot as plt\n",
    "from pylab import rcParams\n",
    "import seaborn as sns\n",
    "import statsmodels as sm\n",
    "from pylab import rcParams\n",
    "from numpy import median\n",
    "import matplotlib.dates as mdates\n",
    "from random import shuffle\n",
    "\n",
    "np.random.seed(1337)\n",
    "%matplotlib inline\n",
    "sns.set(font_scale=1.5)\n",
    "rcParams['figure.figsize'] = 12, 8\n",
    "sns.set_style('whitegrid')\n",
    "sns.set_palette(sns.color_palette('muted'))"
   ]
  },
  {
   "cell_type": "code",
   "execution_count": 2,
   "metadata": {
    "collapsed": false
   },
   "outputs": [
    {
     "name": "stderr",
     "output_type": "stream",
     "text": [
      "/usr/local/lib/python2.7/site-packages/IPython/core/interactiveshell.py:2705: DtypeWarning: Columns (15) have mixed types. Specify dtype option on import or set low_memory=False.\n",
      "  interactivity=interactivity, compiler=compiler, result=result)\n"
     ]
    },
    {
     "data": {
      "text/plain": [
       "14576924"
      ]
     },
     "execution_count": 2,
     "metadata": {},
     "output_type": "execute_result"
    }
   ],
   "source": [
    "d = pd.read_csv('tmp/clean.csv')\n",
    "len(d)"
   ]
  },
  {
   "cell_type": "code",
   "execution_count": 3,
   "metadata": {
    "collapsed": false
   },
   "outputs": [
    {
     "data": {
      "text/plain": [
       "956645"
      ]
     },
     "execution_count": 3,
     "metadata": {},
     "output_type": "execute_result"
    }
   ],
   "source": [
    "cids = d.customer_id.unique()\n",
    "len(cids)"
   ]
  },
  {
   "cell_type": "code",
   "execution_count": 4,
   "metadata": {
    "collapsed": true
   },
   "outputs": [],
   "source": [
    "shuffle(cids)"
   ]
  },
  {
   "cell_type": "code",
   "execution_count": 5,
   "metadata": {
    "collapsed": true
   },
   "outputs": [],
   "source": [
    "cids_100 = cids[:100]\n",
    "cids_1000 = cids[:1000]\n",
    "cids_10000 = cids[:10000]\n",
    "cids_30000 = cids[:30000]\n",
    "cids_100000 = cids[:100000]\n",
    "cids_300000 = cids[:300000]"
   ]
  },
  {
   "cell_type": "code",
   "execution_count": 6,
   "metadata": {
    "collapsed": false
   },
   "outputs": [],
   "source": [
    "d_100 = d[d.customer_id.isin(cids_100)]\n",
    "d_1000 = d[d.customer_id.isin(cids_1000)]\n",
    "d_10000 = d[d.customer_id.isin(cids_10000)]\n",
    "d_30000 = d[d.customer_id.isin(cids_30000)]\n",
    "d_100000 = d[d.customer_id.isin(cids_100000)]\n",
    "d_300000 = d[d.customer_id.isin(cids_300000)]"
   ]
  },
  {
   "cell_type": "code",
   "execution_count": 7,
   "metadata": {
    "collapsed": true
   },
   "outputs": [],
   "source": [
    "d_100.to_csv('tmp/clean_sample_100.csv', index=False)\n",
    "d_1000.to_csv('tmp/clean_sample_1000.csv', index=False)\n",
    "d_10000.to_csv('tmp/clean_sample_10000.csv', index=False)\n",
    "d_30000.to_csv('tmp/clean_sample_30000.csv', index=False)\n",
    "d_100000.to_csv('tmp/clean_sample_100000.csv', index=False)\n",
    "d_300000.to_csv('tmp/clean_sample_300000.csv', index=False)"
   ]
  },
  {
   "cell_type": "code",
   "execution_count": 8,
   "metadata": {
    "collapsed": false
   },
   "outputs": [
    {
     "name": "stdout",
     "output_type": "stream",
     "text": [
      "ind_ahor_fin_ult1\n",
      "ind_aval_fin_ult1\n",
      "ind_cco_fin_ult1\n",
      "ind_cder_fin_ult1\n",
      "ind_cno_fin_ult1\n",
      "ind_ctju_fin_ult1\n",
      "ind_ctma_fin_ult1\n",
      "ind_ctop_fin_ult1\n",
      "ind_ctpp_fin_ult1\n",
      "ind_deco_fin_ult1\n",
      "ind_deme_fin_ult1\n",
      "ind_dela_fin_ult1\n",
      "ind_ecue_fin_ult1\n",
      "ind_fond_fin_ult1\n",
      "ind_hip_fin_ult1\n",
      "ind_plan_fin_ult1\n",
      "ind_pres_fin_ult1\n",
      "ind_reca_fin_ult1\n",
      "ind_tjcr_fin_ult1\n",
      "ind_valo_fin_ult1\n",
      "ind_viv_fin_ult1\n",
      "ind_nomina_ult1\n",
      "ind_nom_pens_ult1\n",
      "ind_recibo_ult1\n"
     ]
    }
   ],
   "source": [
    "print '\\n'.join(d.columns[23:].tolist())"
   ]
  },
  {
   "cell_type": "code",
   "execution_count": 9,
   "metadata": {
    "collapsed": true
   },
   "outputs": [],
   "source": [
    "for i in range(10):\n",
    "    cids_i = cids[(i*100000):((i+1)*100000)]\n",
    "    d_i = d[d.customer_id.isin(cids_i)]\n",
    "    d_i.to_csv('tmp/clean_part_{0}.csv'.format(i), index=False)"
   ]
  }
 ],
 "metadata": {
  "kernelspec": {
   "display_name": "Python 2",
   "language": "python",
   "name": "python2"
  },
  "language_info": {
   "codemirror_mode": {
    "name": "ipython",
    "version": 2
   },
   "file_extension": ".py",
   "mimetype": "text/x-python",
   "name": "python",
   "nbconvert_exporter": "python",
   "pygments_lexer": "ipython2",
   "version": "2.7.11"
  }
 },
 "nbformat": 4,
 "nbformat_minor": 0
}
