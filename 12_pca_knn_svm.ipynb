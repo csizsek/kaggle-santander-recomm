{
 "cells": [
  {
   "cell_type": "code",
   "execution_count": 1,
   "metadata": {
    "collapsed": false
   },
   "outputs": [
    {
     "name": "stderr",
     "output_type": "stream",
     "text": [
      "/usr/local/lib/python2.7/site-packages/matplotlib/font_manager.py:273: UserWarning: Matplotlib is building the font cache using fc-list. This may take a moment.\n",
      "  warnings.warn('Matplotlib is building the font cache using fc-list. This may take a moment.')\n"
     ]
    }
   ],
   "source": [
    "import base64\n",
    "import datetime\n",
    "import gc\n",
    "import json\n",
    "import pickle\n",
    "import random\n",
    "import time\n",
    "\n",
    "import numpy as np\n",
    "import pandas as pd\n",
    "import sklearn\n",
    "import sklearn.decomposition\n",
    "import xgboost\n",
    "import matplotlib as mpl\n",
    "import matplotlib.pyplot as plt\n",
    "from pylab import rcParams\n",
    "import seaborn as sns\n",
    "import statsmodels as sm\n",
    "from pylab import rcParams\n",
    "\n",
    "np.random.seed(1337)\n",
    "\n",
    "%matplotlib inline\n",
    "sns.set(font_scale=1.5)\n",
    "rcParams['figure.figsize'] = 12, 8\n",
    "sns.set_style('whitegrid')\n",
    "sns.set_palette(sns.color_palette('muted'))"
   ]
  },
  {
   "cell_type": "code",
   "execution_count": 48,
   "metadata": {
    "collapsed": false
   },
   "outputs": [
    {
     "name": "stdout",
     "output_type": "stream",
     "text": [
      "test labels:\n",
      "0.0    83612\n",
      "1.0    16388\n",
      "Name: target, dtype: int64\n",
      "ROC AUC score:\n",
      "0.802633827969\n",
      "confusion matrix:\n",
      "predicted      0      1\n",
      "actual                 \n",
      "0          80730   2882\n",
      "1           5904  10484\n"
     ]
    }
   ],
   "source": [
    "d = pd.read_csv('tmp/dmy_ho_train_ind_recibo_ult1.csv', nrows=200000)\n",
    "l = d.target.copy()\n",
    "del d['customer_id']\n",
    "del d['target']\n",
    "del d['target_name']\n",
    "\n",
    "lim_train = len(d)/2\n",
    "tr = d[:lim_train].copy()\n",
    "trl = l[:lim_train].copy()\n",
    "te = d[lim_train:].copy()\n",
    "tel = l[lim_train:].copy()\n",
    "\n",
    "m = XGBClassifier(\n",
    "        n_estimators=100,\n",
    "        learning_rate=0.01,\n",
    "        max_depth=9,\n",
    "        gamma=0,\n",
    "        min_child_weight=1,\n",
    "        scale_pos_weight=1.0,\n",
    "        nthread=3)\n",
    "m.fit(tr, trl)\n",
    "\n",
    "p = m.predict(te)\n",
    "\n",
    "print 'test labels:'\n",
    "print tel.value_counts()\n",
    "\n",
    "print 'ROC AUC score:'\n",
    "print roc_auc_score(tel, p)\n",
    "\n",
    "cmx = pd.DataFrame(confusion_matrix(tel, p))\n",
    "cmx.index.name='actual'\n",
    "cmx.columns.name='predicted'\n",
    "print 'confusion matrix:'\n",
    "print cmx"
   ]
  },
  {
   "cell_type": "code",
   "execution_count": 12,
   "metadata": {
    "collapsed": false
   },
   "outputs": [],
   "source": [
    "components = 5\n",
    "\n",
    "d = pd.read_csv('tmp/dmy_ho_train_ind_recibo_ult1.csv', nrows=200000)\n",
    "cids = d.customer_id.copy()\n",
    "l = d.target.copy()\n",
    "target_names = d.target_name.copy()\n",
    "del d['customer_id']\n",
    "del d['target']\n",
    "del d['target_name']\n",
    "\n",
    "for c in d.columns.tolist():\n",
    "    if c.endswith('_no'):\n",
    "        del d[c]\n",
    "\n",
    "d.fillna(0, inplace=True)\n",
    "d = sklearn.preprocessing.normalize(d)\n",
    "pca = sklearn.decomposition.PCA(n_components=components)\n",
    "d = pca.fit_transform(d)\n",
    "pca.explained_variance_ratio_\n",
    "\n",
    "d = pd.DataFrame(d)\n",
    "d.columns = ['pc_{0}'.format(i) for i in range(components)]"
   ]
  },
  {
   "cell_type": "code",
   "execution_count": 51,
   "metadata": {
    "collapsed": false
   },
   "outputs": [
    {
     "name": "stdout",
     "output_type": "stream",
     "text": [
      "test labels:\n",
      "0.0    83612\n",
      "1.0    16388\n",
      "Name: target, dtype: int64\n",
      "ROC AUC score:\n",
      "0.58911254025\n",
      "confusion matrix:\n",
      "predicted      0     1\n",
      "actual                \n",
      "0          77723  5889\n",
      "1          12313  4075\n"
     ]
    }
   ],
   "source": [
    "lim_train = len(d)/2\n",
    "tr = d[:lim_train].copy()\n",
    "trl = l[:lim_train].copy()\n",
    "te = d[lim_train:].copy()\n",
    "tel = l[lim_train:].copy()\n",
    "\n",
    "m = sklearn.neighbors.KNeighborsClassifier(n_neighbors=3, n_jobs=3)\n",
    "m.fit(tr, trl)\n",
    "\n",
    "p = m.predict(te)\n",
    "\n",
    "print 'test labels:'\n",
    "print tel.value_counts()\n",
    "\n",
    "print 'ROC AUC score:'\n",
    "print roc_auc_score(tel, p)\n",
    "\n",
    "cmx = pd.DataFrame(confusion_matrix(tel, p))\n",
    "cmx.index.name='actual'\n",
    "cmx.columns.name='predicted'\n",
    "print 'confusion matrix:'\n",
    "print cmx"
   ]
  },
  {
   "cell_type": "code",
   "execution_count": 14,
   "metadata": {
    "collapsed": false
   },
   "outputs": [
    {
     "name": "stdout",
     "output_type": "stream",
     "text": [
      "test labels:\n",
      "0.0    83612\n",
      "1.0    16388\n",
      "Name: target, dtype: int64\n",
      "ROC AUC score:\n",
      "0.544803052889\n",
      "confusion matrix:\n",
      "predicted      0     1\n",
      "actual                \n",
      "0          78145  5467\n",
      "1          13848  2540\n"
     ]
    }
   ],
   "source": [
    "lim_train = len(d)/2\n",
    "tr = d[:lim_train].copy()\n",
    "trl = l[:lim_train].copy()\n",
    "te = d[lim_train:].copy()\n",
    "tel = l[lim_train:].copy()\n",
    "\n",
    "m = sklearn.svm.SVC(kernel='linear', class_weight='balanced')\n",
    "m.fit(tr, trl)\n",
    "\n",
    "p = m.predict(te)\n",
    "\n",
    "print 'test labels:'\n",
    "print tel.value_counts()\n",
    "\n",
    "print 'ROC AUC score:'\n",
    "print sklearn.metrics.roc_auc_score(tel, p)\n",
    "\n",
    "cmx = pd.DataFrame(sklearn.metrics.confusion_matrix(tel, p))\n",
    "cmx.index.name='actual'\n",
    "cmx.columns.name='predicted'\n",
    "print 'confusion matrix:'\n",
    "print cmx"
   ]
  },
  {
   "cell_type": "code",
   "execution_count": null,
   "metadata": {
    "collapsed": true
   },
   "outputs": [],
   "source": []
  }
 ],
 "metadata": {
  "kernelspec": {
   "display_name": "Python 2",
   "language": "python",
   "name": "python2"
  },
  "language_info": {
   "codemirror_mode": {
    "name": "ipython",
    "version": 2
   },
   "file_extension": ".py",
   "mimetype": "text/x-python",
   "name": "python",
   "nbconvert_exporter": "python",
   "pygments_lexer": "ipython2",
   "version": "2.7.11"
  }
 },
 "nbformat": 4,
 "nbformat_minor": 0
}
