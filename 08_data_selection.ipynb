{
 "cells": [
  {
   "cell_type": "code",
   "execution_count": 1,
   "metadata": {
    "collapsed": false
   },
   "outputs": [
    {
     "name": "stderr",
     "output_type": "stream",
     "text": [
      "/usr/local/lib/python2.7/site-packages/matplotlib/font_manager.py:273: UserWarning: Matplotlib is building the font cache using fc-list. This may take a moment.\n",
      "  warnings.warn('Matplotlib is building the font cache using fc-list. This may take a moment.')\n"
     ]
    }
   ],
   "source": [
    "import base64\n",
    "import datetime\n",
    "import time\n",
    "import json\n",
    "import numpy as np\n",
    "import pandas as pd\n",
    "import matplotlib as mpl\n",
    "import matplotlib.pyplot as plt\n",
    "from pylab import rcParams\n",
    "import seaborn as sns\n",
    "import statsmodels as sm\n",
    "from pylab import rcParams\n",
    "from numpy import median\n",
    "import matplotlib.dates as mdates\n",
    "\n",
    "np.random.seed(1337)\n",
    "%matplotlib inline\n",
    "sns.set(font_scale=1.5)\n",
    "rcParams['figure.figsize'] = 12, 8\n",
    "sns.set_style('whitegrid')\n",
    "sns.set_palette(sns.color_palette('muted'))"
   ]
  },
  {
   "cell_type": "code",
   "execution_count": 2,
   "metadata": {
    "collapsed": true
   },
   "outputs": [],
   "source": [
    "import gc"
   ]
  },
  {
   "cell_type": "code",
   "execution_count": null,
   "metadata": {
    "collapsed": false
   },
   "outputs": [],
   "source": [
    "products = pd.read_csv('tmp/raw.csv', nrows=1).columns.tolist()[23:]\n",
    "for p in products:\n",
    "    print p"
   ]
  },
  {
   "cell_type": "code",
   "execution_count": null,
   "metadata": {
    "collapsed": false
   },
   "outputs": [],
   "source": [
    "d_ho = pd.read_csv('tmp/raw.csv', usecols=['measurement_date', 'customer_id'] + products)\n",
    "d_ho = d_ho[d_ho.measurement_date != '2016-06-28']\n",
    "len(d_ho)"
   ]
  },
  {
   "cell_type": "code",
   "execution_count": null,
   "metadata": {
    "collapsed": false
   },
   "outputs": [],
   "source": [
    "dg = d_ho.groupby(['customer_id'])\n",
    "del d_ho\n",
    "gc.collect()"
   ]
  },
  {
   "cell_type": "code",
   "execution_count": null,
   "metadata": {
    "collapsed": false
   },
   "outputs": [],
   "source": [
    "ids = {}\n",
    "for p in products:\n",
    "    ids[p + \"_pos\"] = []\n",
    "    ids[p + \"_neg\"] = []\n",
    "\n",
    "i = 0\n",
    "for k, g in dg:\n",
    "    i += 1\n",
    "    if i % 1000 == 0:\n",
    "        break\n",
    "    if i % 10000 == 0:\n",
    "        print i / 10000\n",
    "        sc.collect()\n",
    "    gs = g.sort_values(by='measurement_date')\n",
    "    for p in products:\n",
    "        if len(gs[p].dropna().value_counts()) > 1 and gs[p].dropna().tolist()[0] == 0.0:\n",
    "            ids[p + \"_pos\"].append(k)\n",
    "        else:\n",
    "            ids[p + \"_neg\"].append(k)\n",
    "\n",
    "for p in products:\n",
    "    print p + '_pos: ', len(ids[p + \"_pos\"])\n",
    "    print p + '_neg: ', len(ids[p + \"_neg\"])\n",
    "\n",
    "for p in products:\n",
    "    pd.DataFrame({'customer_id': ids[p + '_pos']}).to_csv('tmp/pos_ids_' + p + '.csv', index=False)\n",
    "    pd.DataFrame({'customer_id': ids[p + '_neg']}).to_csv('tmp/neg_ids_' + p + '.csv', index=False)"
   ]
  },
  {
   "cell_type": "code",
   "execution_count": null,
   "metadata": {
    "collapsed": true
   },
   "outputs": [],
   "source": [
    "18:17"
   ]
  },
  {
   "cell_type": "code",
   "execution_count": null,
   "metadata": {
    "collapsed": false
   },
   "outputs": [],
   "source": [
    "del dg"
   ]
  },
  {
   "cell_type": "code",
   "execution_count": null,
   "metadata": {
    "collapsed": false
   },
   "outputs": [],
   "source": [
    "dg = pd.read_csv('tmp/clean_ho.csv').groupby(['customer_id'])\n",
    "len(dg)"
   ]
  },
  {
   "cell_type": "code",
   "execution_count": null,
   "metadata": {
    "collapsed": false
   },
   "outputs": [],
   "source": [
    "ids = {}\n",
    "for p in products:\n",
    "    ids[p + \"_pos\"] = []\n",
    "    ids[p + \"_neg\"] = []\n",
    "gc.collect()\n",
    "i = 0\n",
    "for k, g in dg:\n",
    "    i += 1\n",
    "    if i % 10000 == 0:\n",
    "        print i / 10000\n",
    "    gs = g.sort_values(by='measurement_date')\n",
    "    for p in products:\n",
    "        if len(gs[p].dropna().value_counts()) > 1 and gs[p].dropna().tolist()[0] == 0.0:\n",
    "            ids[p + \"_pos\"].append(k)\n",
    "        else:\n",
    "            ids[p + \"_neg\"].append(k)\n",
    "for p in products:\n",
    "    print p + '_pos: ', len(ids[p + \"_pos\"])\n",
    "    print p + '_neg: ', len(ids[p + \"_neg\"])\n",
    "for p in products:\n",
    "    pd.DataFrame({'customer_id': ids[p + '_pos']}).to_csv('tmp/clean_ho_' + p + '_ids_pos.csv', index=False)\n",
    "    pd.DataFrame({'customer_id': ids[p + '_neg']}).to_csv('tmp/clean_ho_' + p + '_ids_neg.csv', index=False)"
   ]
  },
  {
   "cell_type": "code",
   "execution_count": null,
   "metadata": {
    "collapsed": false
   },
   "outputs": [],
   "source": [
    "del dg\n",
    "gc.collect()"
   ]
  },
  {
   "cell_type": "code",
   "execution_count": null,
   "metadata": {
    "collapsed": false
   },
   "outputs": [],
   "source": [
    "d = pd.read_csv('tmp/clean_ho.csv')"
   ]
  },
  {
   "cell_type": "code",
   "execution_count": null,
   "metadata": {
    "collapsed": false
   },
   "outputs": [],
   "source": [
    "d.head()"
   ]
  },
  {
   "cell_type": "code",
   "execution_count": null,
   "metadata": {
    "collapsed": false
   },
   "outputs": [],
   "source": [
    "for p in products:\n",
    "    d.loc[d.measurement_date == '2016-05-28', p] = np.nan"
   ]
  },
  {
   "cell_type": "code",
   "execution_count": null,
   "metadata": {
    "collapsed": true
   },
   "outputs": [],
   "source": [
    "d.to_csv('tmp/clean_ho.csv', index=False)"
   ]
  },
  {
   "cell_type": "code",
   "execution_count": null,
   "metadata": {
    "collapsed": true
   },
   "outputs": [],
   "source": [
    "import sklearn.utils"
   ]
  },
  {
   "cell_type": "code",
   "execution_count": 3,
   "metadata": {
    "collapsed": false
   },
   "outputs": [],
   "source": [
    "products1 = '''ind_recibo_ult1\n",
    "ind_cco_fin_ult1\n",
    "ind_nom_pens_ult1\n",
    "ind_nomina_ult1\n",
    "ind_cno_fin_ult1\n",
    "ind_tjcr_fin_ult1\n",
    "ind_ecue_fin_ult1\n",
    "ind_dela_fin_ult1'''.split('\\n')\n",
    "products2 = '''ind_reca_fin_ult1\n",
    "ind_ctma_fin_ult1\n",
    "ind_valo_fin_ult1\n",
    "ind_fond_fin_ult1\n",
    "ind_deco_fin_ult1\n",
    "ind_ctop_fin_ult1\n",
    "ind_ctpp_fin_ult1\n",
    "ind_plan_fin_ult1'''.split('\\n')\n",
    "products3 = '''ind_ctju_fin_ult1\n",
    "ind_deme_fin_ult1\n",
    "ind_cder_fin_ult1\n",
    "ind_pres_fin_ult1\n",
    "ind_hip_fin_ult1\n",
    "ind_viv_fin_ult1\n",
    "ind_aval_fin_ult1\n",
    "ind_ahor_fin_ult1'''.split('\\n')\n",
    "\n"
   ]
  },
  {
   "cell_type": "code",
   "execution_count": 4,
   "metadata": {
    "collapsed": false
   },
   "outputs": [
    {
     "name": "stderr",
     "output_type": "stream",
     "text": [
      "/usr/local/lib/python2.7/site-packages/IPython/core/interactiveshell.py:2705: DtypeWarning: Columns (1,5,8,11,12,15,16,21,22,23,24,25,26,27,28,29,30,31,32,33,34,35,36,37,38,39,40,41,42,43,44,45,46) have mixed types. Specify dtype option on import or set low_memory=False.\n",
      "  interactivity=interactivity, compiler=compiler, result=result)\n"
     ]
    }
   ],
   "source": [
    "d = pd.read_csv('tmp/raw.csv')"
   ]
  },
  {
   "cell_type": "code",
   "execution_count": 7,
   "metadata": {
    "collapsed": false
   },
   "outputs": [
    {
     "name": "stdout",
     "output_type": "stream",
     "text": [
      "ind_ctju_fin_ult1 361218\n",
      "ind_deme_fin_ult1 360783\n",
      "ind_cder_fin_ult1 360375\n",
      "ind_pres_fin_ult1 360370\n",
      "ind_hip_fin_ult1 360259\n",
      "ind_viv_fin_ult1 360119\n",
      "ind_aval_fin_ult1 360017\n",
      "ind_ahor_fin_ult1 360004\n"
     ]
    }
   ],
   "source": [
    "for p in products3:\n",
    "    ids = pd.read_csv('tmp/train_ids_{0}.csv'.format(p))\n",
    "    print p, len(ids)\n",
    "    e = pd.merge(ids, d, on='customer_id', how='inner')\n",
    "    e.to_csv('tmp/raw_train_{0}.csv'.format(p), index=False)\n",
    "    del e\n",
    "    del ids"
   ]
  },
  {
   "cell_type": "code",
   "execution_count": null,
   "metadata": {
    "collapsed": false
   },
   "outputs": [],
   "source": [
    "d = pd.read_csv('tmp/raw.csv')\n",
    "cids = d.customer_id.unique()\n",
    "len(cids)"
   ]
  },
  {
   "cell_type": "code",
   "execution_count": null,
   "metadata": {
    "collapsed": true
   },
   "outputs": [],
   "source": [
    "for i in range(10):\n",
    "    cids_i = cids[(i*100000):((i+1)*100000)]\n",
    "    d_i = d[d.customer_id.isin(cids_i)]\n",
    "    d_i.to_csv('tmp/raw_part{0}.csv'.format(i), index=False)"
   ]
  },
  {
   "cell_type": "code",
   "execution_count": null,
   "metadata": {
    "collapsed": false
   },
   "outputs": [],
   "source": [
    "d = pd.read_csv('tmp/raw_ho.csv')\n",
    "cids = d.customer_id.unique()\n",
    "len(cids)"
   ]
  },
  {
   "cell_type": "code",
   "execution_count": null,
   "metadata": {
    "collapsed": true
   },
   "outputs": [],
   "source": [
    "for i in range(10):\n",
    "    cids_i = cids[(i*100000):((i+1)*100000)]\n",
    "    d_i = d[d.customer_id.isin(cids_i)]\n",
    "    d_i.to_csv('tmp/raw_ho_part{0}.csv'.format(i), index=False)"
   ]
  },
  {
   "cell_type": "code",
   "execution_count": null,
   "metadata": {
    "collapsed": true
   },
   "outputs": [],
   "source": [
    "products = '''ind_ahor_fin_ult1\n",
    "ind_aval_fin_ult1\n",
    "ind_cco_fin_ult1\n",
    "ind_cder_fin_ult1\n",
    "ind_cno_fin_ult1\n",
    "ind_ctju_fin_ult1\n",
    "ind_ctma_fin_ult1\n",
    "ind_ctop_fin_ult1\n",
    "ind_ctpp_fin_ult1\n",
    "ind_deco_fin_ult1\n",
    "ind_deme_fin_ult1\n",
    "ind_dela_fin_ult1\n",
    "ind_ecue_fin_ult1\n",
    "ind_fond_fin_ult1\n",
    "ind_hip_fin_ult1\n",
    "ind_plan_fin_ult1\n",
    "ind_pres_fin_ult1\n",
    "ind_reca_fin_ult1\n",
    "ind_tjcr_fin_ult1\n",
    "ind_valo_fin_ult1\n",
    "ind_viv_fin_ult1\n",
    "ind_nomina_ult1\n",
    "ind_nom_pens_ult1\n",
    "ind_recibo_ult1'''.split('\\n')"
   ]
  },
  {
   "cell_type": "code",
   "execution_count": null,
   "metadata": {
    "collapsed": false
   },
   "outputs": [],
   "source": [
    "d = pd.read_csv('tmp/ho_test_labels.csv').sort_values(['customer_id', 'measurement_date'])\n",
    "d[:20]"
   ]
  },
  {
   "cell_type": "code",
   "execution_count": null,
   "metadata": {
    "collapsed": false
   },
   "outputs": [],
   "source": [
    "len(d)"
   ]
  },
  {
   "cell_type": "code",
   "execution_count": null,
   "metadata": {
    "collapsed": false
   },
   "outputs": [],
   "source": [
    "dg = pd.read_csv('tmp/ho_test_labels.csv').groupby(['customer_id'])\n",
    "len(dg)"
   ]
  },
  {
   "cell_type": "code",
   "execution_count": null,
   "metadata": {
    "collapsed": false
   },
   "outputs": [],
   "source": [
    "d = []\n",
    "i = 0\n",
    "print len(dg)\n",
    "for k, g in dg:\n",
    "    i += 1\n",
    "    if i % 10000 == 0:\n",
    "        print i / 10000\n",
    "    g = g.sort_values('measurement_date')\n",
    "    if len(g) != 2:\n",
    "        continue\n",
    "    e = {}\n",
    "    e['customer_id'] = k\n",
    "    e['target'] = ''\n",
    "    for p in products:\n",
    "        if g[p].tolist() == [0.0, 1.0]:\n",
    "            e['target'] = e['target'] + ' ' + p\n",
    "            e[p] = 1\n",
    "        else:\n",
    "            e[p] = 0\n",
    "    e['target'] = e['target'].strip()\n",
    "    d.append(e)\n",
    "print i\n",
    "d = pd.DataFrame(d)"
   ]
  },
  {
   "cell_type": "code",
   "execution_count": null,
   "metadata": {
    "collapsed": false
   },
   "outputs": [],
   "source": [
    "d.head(10)"
   ]
  },
  {
   "cell_type": "code",
   "execution_count": null,
   "metadata": {
    "collapsed": false
   },
   "outputs": [],
   "source": [
    "d[d.target != ''].head(10)"
   ]
  },
  {
   "cell_type": "code",
   "execution_count": null,
   "metadata": {
    "collapsed": false
   },
   "outputs": [],
   "source": [
    "len(d[d.target != ''])"
   ]
  },
  {
   "cell_type": "code",
   "execution_count": null,
   "metadata": {
    "collapsed": true
   },
   "outputs": [],
   "source": [
    "d.to_csv('ho_targets.csv', index=False)"
   ]
  }
 ],
 "metadata": {
  "kernelspec": {
   "display_name": "Python 2",
   "language": "python",
   "name": "python2"
  },
  "language_info": {
   "codemirror_mode": {
    "name": "ipython",
    "version": 2
   },
   "file_extension": ".py",
   "mimetype": "text/x-python",
   "name": "python",
   "nbconvert_exporter": "python",
   "pygments_lexer": "ipython2",
   "version": "2.7.11"
  }
 },
 "nbformat": 4,
 "nbformat_minor": 0
}
