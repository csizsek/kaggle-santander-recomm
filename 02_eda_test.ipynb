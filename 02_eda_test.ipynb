{
 "cells": [
  {
   "cell_type": "code",
   "execution_count": 1,
   "metadata": {
    "collapsed": true
   },
   "outputs": [],
   "source": [
    "import base64\n",
    "import datetime\n",
    "import time\n",
    "import json\n",
    "import numpy as np\n",
    "import pandas as pd\n",
    "import matplotlib as mpl\n",
    "import matplotlib.pyplot as plt\n",
    "from pylab import rcParams\n",
    "import seaborn as sns\n",
    "import statsmodels as sm\n",
    "from pylab import rcParams\n",
    "from numpy import median\n",
    "import matplotlib.dates as mdates\n",
    "\n",
    "np.random.seed(1337)\n",
    "%matplotlib inline\n",
    "sns.set(font_scale=1.5)\n",
    "rcParams['figure.figsize'] = 12, 8\n",
    "sns.set_style('whitegrid')\n",
    "sns.set_palette(sns.color_palette('muted'))"
   ]
  },
  {
   "cell_type": "markdown",
   "metadata": {},
   "source": [
    "# Load the Data"
   ]
  },
  {
   "cell_type": "code",
   "execution_count": 2,
   "metadata": {
    "collapsed": false
   },
   "outputs": [
    {
     "data": {
      "text/plain": [
       "929615"
      ]
     },
     "execution_count": 2,
     "metadata": {},
     "output_type": "execute_result"
    }
   ],
   "source": [
    "d = pd.read_csv('input/test_ver2.csv', dtype={\n",
    "        'age': np.str,\n",
    "        'antiguedad': np.str,\n",
    "        'indrel_1mes': np.str,\n",
    "        'conyuemp': np.str})\n",
    "len(d)"
   ]
  },
  {
   "cell_type": "code",
   "execution_count": 3,
   "metadata": {
    "collapsed": false
   },
   "outputs": [
    {
     "data": {
      "text/html": [
       "<div>\n",
       "<table border=\"1\" class=\"dataframe\">\n",
       "  <thead>\n",
       "    <tr style=\"text-align: right;\">\n",
       "      <th></th>\n",
       "      <th>0</th>\n",
       "      <th>1</th>\n",
       "      <th>2</th>\n",
       "      <th>3</th>\n",
       "      <th>4</th>\n",
       "    </tr>\n",
       "  </thead>\n",
       "  <tbody>\n",
       "    <tr>\n",
       "      <th>fecha_dato</th>\n",
       "      <td>2016-06-28</td>\n",
       "      <td>2016-06-28</td>\n",
       "      <td>2016-06-28</td>\n",
       "      <td>2016-06-28</td>\n",
       "      <td>2016-06-28</td>\n",
       "    </tr>\n",
       "    <tr>\n",
       "      <th>ncodpers</th>\n",
       "      <td>15889</td>\n",
       "      <td>1170544</td>\n",
       "      <td>1170545</td>\n",
       "      <td>1170547</td>\n",
       "      <td>1170548</td>\n",
       "    </tr>\n",
       "    <tr>\n",
       "      <th>ind_empleado</th>\n",
       "      <td>F</td>\n",
       "      <td>N</td>\n",
       "      <td>N</td>\n",
       "      <td>N</td>\n",
       "      <td>N</td>\n",
       "    </tr>\n",
       "    <tr>\n",
       "      <th>pais_residencia</th>\n",
       "      <td>ES</td>\n",
       "      <td>ES</td>\n",
       "      <td>ES</td>\n",
       "      <td>ES</td>\n",
       "      <td>ES</td>\n",
       "    </tr>\n",
       "    <tr>\n",
       "      <th>sexo</th>\n",
       "      <td>V</td>\n",
       "      <td>H</td>\n",
       "      <td>V</td>\n",
       "      <td>H</td>\n",
       "      <td>H</td>\n",
       "    </tr>\n",
       "    <tr>\n",
       "      <th>age</th>\n",
       "      <td>56</td>\n",
       "      <td>36</td>\n",
       "      <td>22</td>\n",
       "      <td>22</td>\n",
       "      <td>22</td>\n",
       "    </tr>\n",
       "    <tr>\n",
       "      <th>fecha_alta</th>\n",
       "      <td>1995-01-16</td>\n",
       "      <td>2013-08-28</td>\n",
       "      <td>2013-08-28</td>\n",
       "      <td>2013-08-28</td>\n",
       "      <td>2013-08-28</td>\n",
       "    </tr>\n",
       "    <tr>\n",
       "      <th>ind_nuevo</th>\n",
       "      <td>0</td>\n",
       "      <td>0</td>\n",
       "      <td>0</td>\n",
       "      <td>0</td>\n",
       "      <td>0</td>\n",
       "    </tr>\n",
       "    <tr>\n",
       "      <th>antiguedad</th>\n",
       "      <td>256</td>\n",
       "      <td>34</td>\n",
       "      <td>34</td>\n",
       "      <td>34</td>\n",
       "      <td>34</td>\n",
       "    </tr>\n",
       "    <tr>\n",
       "      <th>indrel</th>\n",
       "      <td>1</td>\n",
       "      <td>1</td>\n",
       "      <td>1</td>\n",
       "      <td>1</td>\n",
       "      <td>1</td>\n",
       "    </tr>\n",
       "    <tr>\n",
       "      <th>ult_fec_cli_1t</th>\n",
       "      <td>NaN</td>\n",
       "      <td>NaN</td>\n",
       "      <td>NaN</td>\n",
       "      <td>NaN</td>\n",
       "      <td>NaN</td>\n",
       "    </tr>\n",
       "    <tr>\n",
       "      <th>indrel_1mes</th>\n",
       "      <td>1</td>\n",
       "      <td>1</td>\n",
       "      <td>1</td>\n",
       "      <td>1</td>\n",
       "      <td>1</td>\n",
       "    </tr>\n",
       "    <tr>\n",
       "      <th>tiprel_1mes</th>\n",
       "      <td>A</td>\n",
       "      <td>I</td>\n",
       "      <td>A</td>\n",
       "      <td>I</td>\n",
       "      <td>I</td>\n",
       "    </tr>\n",
       "    <tr>\n",
       "      <th>indresi</th>\n",
       "      <td>S</td>\n",
       "      <td>S</td>\n",
       "      <td>S</td>\n",
       "      <td>S</td>\n",
       "      <td>S</td>\n",
       "    </tr>\n",
       "    <tr>\n",
       "      <th>indext</th>\n",
       "      <td>N</td>\n",
       "      <td>N</td>\n",
       "      <td>N</td>\n",
       "      <td>N</td>\n",
       "      <td>N</td>\n",
       "    </tr>\n",
       "    <tr>\n",
       "      <th>conyuemp</th>\n",
       "      <td>N</td>\n",
       "      <td>NaN</td>\n",
       "      <td>NaN</td>\n",
       "      <td>NaN</td>\n",
       "      <td>NaN</td>\n",
       "    </tr>\n",
       "    <tr>\n",
       "      <th>canal_entrada</th>\n",
       "      <td>KAT</td>\n",
       "      <td>KAT</td>\n",
       "      <td>KHE</td>\n",
       "      <td>KHE</td>\n",
       "      <td>KHE</td>\n",
       "    </tr>\n",
       "    <tr>\n",
       "      <th>indfall</th>\n",
       "      <td>N</td>\n",
       "      <td>N</td>\n",
       "      <td>N</td>\n",
       "      <td>N</td>\n",
       "      <td>N</td>\n",
       "    </tr>\n",
       "    <tr>\n",
       "      <th>tipodom</th>\n",
       "      <td>1</td>\n",
       "      <td>1</td>\n",
       "      <td>1</td>\n",
       "      <td>1</td>\n",
       "      <td>1</td>\n",
       "    </tr>\n",
       "    <tr>\n",
       "      <th>cod_prov</th>\n",
       "      <td>28</td>\n",
       "      <td>3</td>\n",
       "      <td>15</td>\n",
       "      <td>8</td>\n",
       "      <td>7</td>\n",
       "    </tr>\n",
       "    <tr>\n",
       "      <th>nomprov</th>\n",
       "      <td>MADRID</td>\n",
       "      <td>ALICANTE</td>\n",
       "      <td>CORUÑA, A</td>\n",
       "      <td>BARCELONA</td>\n",
       "      <td>BALEARS, ILLES</td>\n",
       "    </tr>\n",
       "    <tr>\n",
       "      <th>ind_actividad_cliente</th>\n",
       "      <td>1</td>\n",
       "      <td>0</td>\n",
       "      <td>1</td>\n",
       "      <td>0</td>\n",
       "      <td>0</td>\n",
       "    </tr>\n",
       "    <tr>\n",
       "      <th>renta</th>\n",
       "      <td>326124.90</td>\n",
       "      <td>NA</td>\n",
       "      <td>NA</td>\n",
       "      <td>148402.98</td>\n",
       "      <td>106885.80</td>\n",
       "    </tr>\n",
       "    <tr>\n",
       "      <th>segmento</th>\n",
       "      <td>01 - TOP</td>\n",
       "      <td>02 - PARTICULARES</td>\n",
       "      <td>03 - UNIVERSITARIO</td>\n",
       "      <td>03 - UNIVERSITARIO</td>\n",
       "      <td>03 - UNIVERSITARIO</td>\n",
       "    </tr>\n",
       "  </tbody>\n",
       "</table>\n",
       "</div>"
      ],
      "text/plain": [
       "                                 0                  1                   2  \\\n",
       "fecha_dato              2016-06-28         2016-06-28          2016-06-28   \n",
       "ncodpers                     15889            1170544             1170545   \n",
       "ind_empleado                     F                  N                   N   \n",
       "pais_residencia                 ES                 ES                  ES   \n",
       "sexo                             V                  H                   V   \n",
       "age                             56                 36                  22   \n",
       "fecha_alta              1995-01-16         2013-08-28          2013-08-28   \n",
       "ind_nuevo                        0                  0                   0   \n",
       "antiguedad                     256                 34                  34   \n",
       "indrel                           1                  1                   1   \n",
       "ult_fec_cli_1t                 NaN                NaN                 NaN   \n",
       "indrel_1mes                      1                  1                   1   \n",
       "tiprel_1mes                      A                  I                   A   \n",
       "indresi                          S                  S                   S   \n",
       "indext                           N                  N                   N   \n",
       "conyuemp                         N                NaN                 NaN   \n",
       "canal_entrada                  KAT                KAT                 KHE   \n",
       "indfall                          N                  N                   N   \n",
       "tipodom                          1                  1                   1   \n",
       "cod_prov                        28                  3                  15   \n",
       "nomprov                     MADRID           ALICANTE           CORUÑA, A   \n",
       "ind_actividad_cliente            1                  0                   1   \n",
       "renta                    326124.90                 NA                  NA   \n",
       "segmento                  01 - TOP  02 - PARTICULARES  03 - UNIVERSITARIO   \n",
       "\n",
       "                                        3                   4  \n",
       "fecha_dato                     2016-06-28          2016-06-28  \n",
       "ncodpers                          1170547             1170548  \n",
       "ind_empleado                            N                   N  \n",
       "pais_residencia                        ES                  ES  \n",
       "sexo                                    H                   H  \n",
       "age                                    22                  22  \n",
       "fecha_alta                     2013-08-28          2013-08-28  \n",
       "ind_nuevo                               0                   0  \n",
       "antiguedad                             34                  34  \n",
       "indrel                                  1                   1  \n",
       "ult_fec_cli_1t                        NaN                 NaN  \n",
       "indrel_1mes                             1                   1  \n",
       "tiprel_1mes                             I                   I  \n",
       "indresi                                 S                   S  \n",
       "indext                                  N                   N  \n",
       "conyuemp                              NaN                 NaN  \n",
       "canal_entrada                         KHE                 KHE  \n",
       "indfall                                 N                   N  \n",
       "tipodom                                 1                   1  \n",
       "cod_prov                                8                   7  \n",
       "nomprov                         BARCELONA      BALEARS, ILLES  \n",
       "ind_actividad_cliente                   0                   0  \n",
       "renta                           148402.98           106885.80  \n",
       "segmento               03 - UNIVERSITARIO  03 - UNIVERSITARIO  "
      ]
     },
     "execution_count": 3,
     "metadata": {},
     "output_type": "execute_result"
    }
   ],
   "source": [
    "d.head().T"
   ]
  },
  {
   "cell_type": "code",
   "execution_count": 4,
   "metadata": {
    "collapsed": false
   },
   "outputs": [
    {
     "data": {
      "text/plain": [
       "fecha_dato                object\n",
       "ncodpers                   int64\n",
       "ind_empleado              object\n",
       "pais_residencia           object\n",
       "sexo                      object\n",
       "age                       object\n",
       "fecha_alta                object\n",
       "ind_nuevo                  int64\n",
       "antiguedad                object\n",
       "indrel                     int64\n",
       "ult_fec_cli_1t            object\n",
       "indrel_1mes               object\n",
       "tiprel_1mes               object\n",
       "indresi                   object\n",
       "indext                    object\n",
       "conyuemp                  object\n",
       "canal_entrada             object\n",
       "indfall                   object\n",
       "tipodom                    int64\n",
       "cod_prov                 float64\n",
       "nomprov                   object\n",
       "ind_actividad_cliente      int64\n",
       "renta                     object\n",
       "segmento                  object\n",
       "dtype: object"
      ]
     },
     "execution_count": 4,
     "metadata": {},
     "output_type": "execute_result"
    }
   ],
   "source": [
    "d.dtypes"
   ]
  },
  {
   "cell_type": "markdown",
   "metadata": {},
   "source": [
    "# Examine Each Feature"
   ]
  },
  {
   "cell_type": "markdown",
   "metadata": {},
   "source": [
    "## fecha_dato (measurement date)"
   ]
  },
  {
   "cell_type": "code",
   "execution_count": 5,
   "metadata": {
    "collapsed": false
   },
   "outputs": [
    {
     "name": "stdout",
     "output_type": "stream",
     "text": [
      "------------------------------ \n",
      "dtype:            object\n",
      "------------------------------ \n",
      "np.na count:      0\n",
      "------------------------------ \n",
      "np.na ratio:      0.0\n",
      "------------------------------ \n",
      "distinct values:  1\n",
      "------------------------------ \n",
      "top 10 values:\n",
      "2016-06-28    929615\n",
      "Name: fecha_dato, dtype: int64\n",
      "------------------------------ \n",
      "bottom 10 values:\n",
      "2016-06-28    929615\n",
      "Name: fecha_dato, dtype: int64\n",
      "------------------------------\n"
     ]
    }
   ],
   "source": [
    "col_name = 'fecha_dato'\n",
    "\n",
    "print '-' * 30, '\\n', 'dtype:           ', d[col_name].dtype\n",
    "print '-' * 30, '\\n', 'np.na count:     ', d[col_name].isnull().sum()\n",
    "print '-' * 30, '\\n', 'np.na ratio:     ', 1.0 * d[col_name].isnull().sum() / len(d)\n",
    "print '-' * 30, '\\n', 'distinct values: ', len(d[col_name].value_counts())\n",
    "print '-' * 30, '\\n', 'top 10 values:'\n",
    "print d[col_name].value_counts().head(10)\n",
    "print '-' * 30, '\\n', 'bottom 10 values:'\n",
    "print d[col_name].value_counts().tail(10)\n",
    "print '-' * 30"
   ]
  },
  {
   "cell_type": "markdown",
   "metadata": {},
   "source": [
    "## ncodpers (customer code)"
   ]
  },
  {
   "cell_type": "code",
   "execution_count": 6,
   "metadata": {
    "collapsed": false
   },
   "outputs": [
    {
     "name": "stdout",
     "output_type": "stream",
     "text": [
      "------------------------------ \n",
      "dtype:            int64\n",
      "------------------------------ \n",
      "np.na count:      0\n",
      "------------------------------ \n",
      "np.na ratio:      0.0\n",
      "------------------------------ \n",
      "distinct values:  929615\n",
      "------------------------------ \n",
      "top 10 values:\n",
      "18423      1\n",
      "1382391    1\n",
      "733232     1\n",
      "772143     1\n",
      "780331     1\n",
      "778282     1\n",
      "763939     1\n",
      "768033     1\n",
      "765984     1\n",
      "673823     1\n",
      "Name: ncodpers, dtype: int64\n",
      "------------------------------ \n",
      "bottom 10 values:\n",
      "1016666    1\n",
      "1022809    1\n",
      "1020760    1\n",
      "1043287    1\n",
      "1041238    1\n",
      "1045332    1\n",
      "1035091    1\n",
      "1037136    1\n",
      "994127     1\n",
      "26637      1\n",
      "Name: ncodpers, dtype: int64\n",
      "------------------------------\n"
     ]
    }
   ],
   "source": [
    "col_name = 'ncodpers'\n",
    "\n",
    "print '-' * 30, '\\n', 'dtype:           ', d[col_name].dtype\n",
    "print '-' * 30, '\\n', 'np.na count:     ', d[col_name].isnull().sum()\n",
    "print '-' * 30, '\\n', 'np.na ratio:     ', 1.0 * d[col_name].isnull().sum() / len(d)\n",
    "print '-' * 30, '\\n', 'distinct values: ', len(d[col_name].value_counts())\n",
    "print '-' * 30, '\\n', 'top 10 values:'\n",
    "print d[col_name].value_counts().head(10)\n",
    "print '-' * 30, '\\n', 'bottom 10 values:'\n",
    "print d[col_name].value_counts().tail(10)\n",
    "print '-' * 30"
   ]
  },
  {
   "cell_type": "markdown",
   "metadata": {},
   "source": [
    "## ind_empleado (employment index)"
   ]
  },
  {
   "cell_type": "code",
   "execution_count": 8,
   "metadata": {
    "collapsed": false
   },
   "outputs": [
    {
     "name": "stdout",
     "output_type": "stream",
     "text": [
      "------------------------------ \n",
      "dtype:            object\n",
      "------------------------------ \n",
      "np.na count:      0\n",
      "------------------------------ \n",
      "np.na ratio:      0.0\n",
      "------------------------------ \n",
      "distinct values:  5\n",
      "------------------------------ \n",
      "top 10 values:\n",
      "N    929096\n",
      "B       218\n",
      "F       152\n",
      "A       148\n",
      "S         1\n",
      "Name: ind_empleado, dtype: int64\n",
      "------------------------------ \n",
      "bottom 10 values:\n",
      "N    929096\n",
      "B       218\n",
      "F       152\n",
      "A       148\n",
      "S         1\n",
      "Name: ind_empleado, dtype: int64\n",
      "------------------------------\n"
     ]
    }
   ],
   "source": [
    "col_name = 'ind_empleado'\n",
    "\n",
    "print '-' * 30, '\\n', 'dtype:           ', d[col_name].dtype\n",
    "print '-' * 30, '\\n', 'np.na count:     ', d[col_name].isnull().sum()\n",
    "print '-' * 30, '\\n', 'np.na ratio:     ', 1.0 * d[col_name].isnull().sum() / len(d)\n",
    "print '-' * 30, '\\n', 'distinct values: ', len(d[col_name].value_counts())\n",
    "print '-' * 30, '\\n', 'top 10 values:'\n",
    "print d[col_name].value_counts().head(10)\n",
    "print '-' * 30, '\\n', 'bottom 10 values:'\n",
    "print d[col_name].value_counts().tail(10)\n",
    "print '-' * 30"
   ]
  },
  {
   "cell_type": "markdown",
   "metadata": {},
   "source": [
    "A : active\n",
    "\n",
    "B : ex employed\n",
    "\n",
    "F : filial\n",
    "\n",
    "N : not employee\n",
    "\n",
    "P : pasive"
   ]
  },
  {
   "cell_type": "markdown",
   "metadata": {},
   "source": [
    "## pais_residencia (country of residence)"
   ]
  },
  {
   "cell_type": "code",
   "execution_count": 9,
   "metadata": {
    "collapsed": false
   },
   "outputs": [
    {
     "name": "stdout",
     "output_type": "stream",
     "text": [
      "------------------------------ \n",
      "dtype:            object\n",
      "------------------------------ \n",
      "np.na count:      0\n",
      "------------------------------ \n",
      "np.na ratio:      0.0\n",
      "------------------------------ \n",
      "distinct values:  118\n",
      "------------------------------ \n",
      "top 10 values:\n",
      "ES    925619\n",
      "FR       311\n",
      "AR       288\n",
      "GB       286\n",
      "DE       281\n",
      "US       231\n",
      "CO       211\n",
      "IT       179\n",
      "RO       175\n",
      "MX       156\n",
      "Name: pais_residencia, dtype: int64\n",
      "------------------------------ \n",
      "bottom 10 values:\n",
      "DJ    1\n",
      "CD    1\n",
      "CF    1\n",
      "BZ    1\n",
      "BM    1\n",
      "KW    1\n",
      "AL    1\n",
      "ZW    1\n",
      "TG    1\n",
      "LB    1\n",
      "Name: pais_residencia, dtype: int64\n",
      "------------------------------\n"
     ]
    }
   ],
   "source": [
    "col_name = 'pais_residencia'\n",
    "\n",
    "print '-' * 30, '\\n', 'dtype:           ', d[col_name].dtype\n",
    "print '-' * 30, '\\n', 'np.na count:     ', d[col_name].isnull().sum()\n",
    "print '-' * 30, '\\n', 'np.na ratio:     ', 1.0 * d[col_name].isnull().sum() / len(d)\n",
    "print '-' * 30, '\\n', 'distinct values: ', len(d[col_name].value_counts())\n",
    "print '-' * 30, '\\n', 'top 10 values:'\n",
    "print d[col_name].value_counts().head(10)\n",
    "print '-' * 30, '\\n', 'bottom 10 values:'\n",
    "print d[col_name].value_counts().tail(10)\n",
    "print '-' * 30"
   ]
  },
  {
   "cell_type": "markdown",
   "metadata": {},
   "source": [
    "## sexo (gender)"
   ]
  },
  {
   "cell_type": "code",
   "execution_count": 10,
   "metadata": {
    "collapsed": false
   },
   "outputs": [
    {
     "name": "stdout",
     "output_type": "stream",
     "text": [
      "------------------------------ \n",
      "dtype:            object\n",
      "------------------------------ \n",
      "np.na count:      5\n",
      "------------------------------ \n",
      "np.na ratio:      5.37857069862e-06\n",
      "------------------------------ \n",
      "distinct values:  2\n",
      "------------------------------ \n",
      "top 10 values:\n",
      "V    504515\n",
      "H    425095\n",
      "Name: sexo, dtype: int64\n",
      "------------------------------ \n",
      "bottom 10 values:\n",
      "V    504515\n",
      "H    425095\n",
      "Name: sexo, dtype: int64\n",
      "------------------------------\n"
     ]
    }
   ],
   "source": [
    "col_name = 'sexo'\n",
    "\n",
    "print '-' * 30, '\\n', 'dtype:           ', d[col_name].dtype\n",
    "print '-' * 30, '\\n', 'np.na count:     ', d[col_name].isnull().sum()\n",
    "print '-' * 30, '\\n', 'np.na ratio:     ', 1.0 * d[col_name].isnull().sum() / len(d)\n",
    "print '-' * 30, '\\n', 'distinct values: ', len(d[col_name].value_counts())\n",
    "print '-' * 30, '\\n', 'top 10 values:'\n",
    "print d[col_name].value_counts().head(10)\n",
    "print '-' * 30, '\\n', 'bottom 10 values:'\n",
    "print d[col_name].value_counts().tail(10)\n",
    "print '-' * 30"
   ]
  },
  {
   "cell_type": "markdown",
   "metadata": {},
   "source": [
    "## age"
   ]
  },
  {
   "cell_type": "code",
   "execution_count": 11,
   "metadata": {
    "collapsed": false
   },
   "outputs": [
    {
     "name": "stdout",
     "output_type": "stream",
     "text": [
      "------------------------------ \n",
      "dtype:            object\n",
      "------------------------------ \n",
      "np.na count:      0\n",
      "------------------------------ \n",
      "np.na ratio:      0.0\n",
      "------------------------------ \n",
      "distinct values:  118\n",
      "------------------------------ \n",
      "top 10 values:\n",
      " 24    50706\n",
      " 23    49604\n",
      " 22    47674\n",
      " 21    46322\n",
      " 25    41429\n",
      " 26    26672\n",
      " 43    21592\n",
      " 20    21509\n",
      " 44    21242\n",
      " 45    21132\n",
      "Name: age, dtype: int64\n",
      "------------------------------ \n",
      "bottom 10 values:\n",
      "110    20\n",
      "111    17\n",
      "112    16\n",
      "113    10\n",
      "116     7\n",
      "114     6\n",
      "127     1\n",
      "164     1\n",
      "117     1\n",
      "118     1\n",
      "Name: age, dtype: int64\n",
      "------------------------------\n"
     ]
    }
   ],
   "source": [
    "col_name = 'age'\n",
    "\n",
    "print '-' * 30, '\\n', 'dtype:           ', d[col_name].dtype\n",
    "print '-' * 30, '\\n', 'np.na count:     ', d[col_name].isnull().sum()\n",
    "print '-' * 30, '\\n', 'np.na ratio:     ', 1.0 * d[col_name].isnull().sum() / len(d)\n",
    "print '-' * 30, '\\n', 'distinct values: ', len(d[col_name].value_counts())\n",
    "print '-' * 30, '\\n', 'top 10 values:'\n",
    "print d[col_name].value_counts().head(10)\n",
    "print '-' * 30, '\\n', 'bottom 10 values:'\n",
    "print d[col_name].value_counts().tail(10)\n",
    "print '-' * 30"
   ]
  },
  {
   "cell_type": "code",
   "execution_count": 12,
   "metadata": {
    "collapsed": true
   },
   "outputs": [],
   "source": [
    "def fix_number(x):\n",
    "    try:\n",
    "        return int(x)\n",
    "    except:\n",
    "        return np.nan"
   ]
  },
  {
   "cell_type": "code",
   "execution_count": 13,
   "metadata": {
    "collapsed": false
   },
   "outputs": [],
   "source": [
    "d.age = d.age.apply(fix_number)"
   ]
  },
  {
   "cell_type": "code",
   "execution_count": 14,
   "metadata": {
    "collapsed": false
   },
   "outputs": [
    {
     "name": "stdout",
     "output_type": "stream",
     "text": [
      "------------------------------ \n",
      "dtype:            int64\n",
      "------------------------------ \n",
      "np.na count:      0\n",
      "------------------------------ \n",
      "np.na ratio:      0.0\n",
      "------------------------------ \n",
      "distinct values:  118\n",
      "------------------------------ \n",
      "top 10 values:\n",
      "24    50706\n",
      "23    49604\n",
      "22    47674\n",
      "21    46322\n",
      "25    41429\n",
      "26    26672\n",
      "43    21592\n",
      "20    21509\n",
      "44    21242\n",
      "45    21132\n",
      "Name: age, dtype: int64\n",
      "------------------------------ \n",
      "bottom 10 values:\n",
      "110    20\n",
      "111    17\n",
      "112    16\n",
      "113    10\n",
      "116     7\n",
      "114     6\n",
      "127     1\n",
      "117     1\n",
      "118     1\n",
      "164     1\n",
      "Name: age, dtype: int64\n",
      "------------------------------\n"
     ]
    }
   ],
   "source": [
    "col_name = 'age'\n",
    "\n",
    "print '-' * 30, '\\n', 'dtype:           ', d[col_name].dtype\n",
    "print '-' * 30, '\\n', 'np.na count:     ', d[col_name].isnull().sum()\n",
    "print '-' * 30, '\\n', 'np.na ratio:     ', 1.0 * d[col_name].isnull().sum() / len(d)\n",
    "print '-' * 30, '\\n', 'distinct values: ', len(d[col_name].value_counts())\n",
    "print '-' * 30, '\\n', 'top 10 values:'\n",
    "print d[col_name].value_counts().head(10)\n",
    "print '-' * 30, '\\n', 'bottom 10 values:'\n",
    "print d[col_name].value_counts().tail(10)\n",
    "print '-' * 30"
   ]
  },
  {
   "cell_type": "code",
   "execution_count": 15,
   "metadata": {
    "collapsed": false
   },
   "outputs": [
    {
     "data": {
      "text/plain": [
       "count    929615.000000\n",
       "mean         40.249821\n",
       "std          17.185119\n",
       "min           2.000000\n",
       "25%          25.000000\n",
       "50%          39.000000\n",
       "75%          51.000000\n",
       "max         164.000000\n",
       "Name: age, dtype: float64"
      ]
     },
     "execution_count": 15,
     "metadata": {},
     "output_type": "execute_result"
    }
   ],
   "source": [
    "d.age.dropna().describe()"
   ]
  },
  {
   "cell_type": "code",
   "execution_count": 16,
   "metadata": {
    "collapsed": false
   },
   "outputs": [
    {
     "data": {
      "image/png": "[encoded data removed]",
      "text/plain": [
       "<matplotlib.figure.Figure at 0x106109790>"
      ]
     },
     "metadata": {},
     "output_type": "display_data"
    }
   ],
   "source": [
    "_ = plt.figure(figsize=(12,6))\n",
    "_ = plt.hist(d.groupby('ncodpers').first().age.dropna(), bins=60)\n",
    "_ = plt.xlim((0, 120))"
   ]
  },
  {
   "cell_type": "markdown",
   "metadata": {},
   "source": [
    "## fecha_alta (date of becoming a customer)"
   ]
  },
  {
   "cell_type": "code",
   "execution_count": 17,
   "metadata": {
    "collapsed": false
   },
   "outputs": [
    {
     "name": "stdout",
     "output_type": "stream",
     "text": [
      "------------------------------ \n",
      "dtype:            object\n",
      "------------------------------ \n",
      "np.na count:      0\n",
      "------------------------------ \n",
      "np.na ratio:      0.0\n",
      "------------------------------ \n",
      "distinct values:  6750\n",
      "------------------------------ \n",
      "top 10 values:\n",
      "2014-07-28    3421\n",
      "2014-10-03    3355\n",
      "2014-08-04    2787\n",
      "2013-10-14    2633\n",
      "2013-08-03    2013\n",
      "2015-08-01    1826\n",
      "2015-07-25    1773\n",
      "2015-10-10    1728\n",
      "2012-08-06    1594\n",
      "2014-07-21    1577\n",
      "Name: fecha_alta, dtype: int64\n",
      "------------------------------ \n",
      "bottom 10 values:\n",
      "1995-03-22    1\n",
      "1995-03-23    1\n",
      "2013-11-23    1\n",
      "1995-03-27    1\n",
      "1995-04-30    1\n",
      "2004-08-15    1\n",
      "2014-07-12    1\n",
      "2010-12-05    1\n",
      "2010-12-08    1\n",
      "2013-08-24    1\n",
      "Name: fecha_alta, dtype: int64\n",
      "------------------------------\n"
     ]
    }
   ],
   "source": [
    "col_name = 'fecha_alta'\n",
    "\n",
    "print '-' * 30, '\\n', 'dtype:           ', d[col_name].dtype\n",
    "print '-' * 30, '\\n', 'np.na count:     ', d[col_name].isnull().sum()\n",
    "print '-' * 30, '\\n', 'np.na ratio:     ', 1.0 * d[col_name].isnull().sum() / len(d)\n",
    "print '-' * 30, '\\n', 'distinct values: ', len(d[col_name].value_counts())\n",
    "print '-' * 30, '\\n', 'top 10 values:'\n",
    "print d[col_name].value_counts().head(10)\n",
    "print '-' * 30, '\\n', 'bottom 10 values:'\n",
    "print d[col_name].value_counts().tail(10)\n",
    "print '-' * 30"
   ]
  },
  {
   "cell_type": "markdown",
   "metadata": {},
   "source": [
    "## ind_nuevo (new customer indicator)"
   ]
  },
  {
   "cell_type": "code",
   "execution_count": 18,
   "metadata": {
    "collapsed": false
   },
   "outputs": [
    {
     "name": "stdout",
     "output_type": "stream",
     "text": [
      "------------------------------ \n",
      "dtype:            int64\n",
      "------------------------------ \n",
      "np.na count:      0\n",
      "------------------------------ \n",
      "np.na ratio:      0.0\n",
      "------------------------------ \n",
      "distinct values:  2\n",
      "------------------------------ \n",
      "top 10 values:\n",
      "0    903726\n",
      "1     25889\n",
      "Name: ind_nuevo, dtype: int64\n",
      "------------------------------ \n",
      "bottom 10 values:\n",
      "0    903726\n",
      "1     25889\n",
      "Name: ind_nuevo, dtype: int64\n",
      "------------------------------\n"
     ]
    }
   ],
   "source": [
    "col_name = 'ind_nuevo'\n",
    "\n",
    "print '-' * 30, '\\n', 'dtype:           ', d[col_name].dtype\n",
    "print '-' * 30, '\\n', 'np.na count:     ', d[col_name].isnull().sum()\n",
    "print '-' * 30, '\\n', 'np.na ratio:     ', 1.0 * d[col_name].isnull().sum() / len(d)\n",
    "print '-' * 30, '\\n', 'distinct values: ', len(d[col_name].value_counts())\n",
    "print '-' * 30, '\\n', 'top 10 values:'\n",
    "print d[col_name].value_counts().head(10)\n",
    "print '-' * 30, '\\n', 'bottom 10 values:'\n",
    "print d[col_name].value_counts().tail(10)\n",
    "print '-' * 30"
   ]
  },
  {
   "cell_type": "markdown",
   "metadata": {},
   "source": [
    "## antiguedad (customer seniority in months)"
   ]
  },
  {
   "cell_type": "code",
   "execution_count": 19,
   "metadata": {
    "collapsed": false
   },
   "outputs": [
    {
     "name": "stdout",
     "output_type": "stream",
     "text": [
      "------------------------------ \n",
      "dtype:            object\n",
      "------------------------------ \n",
      "np.na count:      0\n",
      "------------------------------ \n",
      "np.na ratio:      0.0\n",
      "------------------------------ \n",
      "distinct values:  259\n",
      "------------------------------ \n",
      "top 10 values:\n",
      "      8    26335\n",
      "     32    23415\n",
      "      9    22972\n",
      "     20    21108\n",
      "     11    20420\n",
      "     44    18531\n",
      "     21    17923\n",
      "     56    16238\n",
      "     23    15940\n",
      "     34    15559\n",
      "Name: antiguedad, dtype: int64\n",
      "------------------------------ \n",
      "bottom 10 values:\n",
      "    251    419\n",
      "    238    325\n",
      "    253    244\n",
      "    250    191\n",
      "    254    152\n",
      "      0    129\n",
      "    257    102\n",
      "    255     84\n",
      "    256     77\n",
      "-999999      3\n",
      "Name: antiguedad, dtype: int64\n",
      "------------------------------\n"
     ]
    }
   ],
   "source": [
    "col_name = 'antiguedad'\n",
    "\n",
    "print '-' * 30, '\\n', 'dtype:           ', d[col_name].dtype\n",
    "print '-' * 30, '\\n', 'np.na count:     ', d[col_name].isnull().sum()\n",
    "print '-' * 30, '\\n', 'np.na ratio:     ', 1.0 * d[col_name].isnull().sum() / len(d)\n",
    "print '-' * 30, '\\n', 'distinct values: ', len(d[col_name].value_counts())\n",
    "print '-' * 30, '\\n', 'top 10 values:'\n",
    "print d[col_name].value_counts().head(10)\n",
    "print '-' * 30, '\\n', 'bottom 10 values:'\n",
    "print d[col_name].value_counts().tail(10)\n",
    "print '-' * 30"
   ]
  },
  {
   "cell_type": "code",
   "execution_count": 20,
   "metadata": {
    "collapsed": true
   },
   "outputs": [],
   "source": [
    "d.antiguedad = d.antiguedad.apply(fix_number)\n",
    "d.loc[d.antiguedad < 0, 'antiguedad'] = np.nan"
   ]
  },
  {
   "cell_type": "code",
   "execution_count": 21,
   "metadata": {
    "collapsed": false
   },
   "outputs": [
    {
     "name": "stdout",
     "output_type": "stream",
     "text": [
      "------------------------------ \n",
      "dtype:            float64\n",
      "------------------------------ \n",
      "np.na count:      3\n",
      "------------------------------ \n",
      "np.na ratio:      3.22714241917e-06\n",
      "------------------------------ \n",
      "distinct values:  258\n",
      "------------------------------ \n",
      "top 10 values:\n",
      "8.0     26335\n",
      "32.0    23415\n",
      "9.0     22972\n",
      "20.0    21108\n",
      "11.0    20420\n",
      "44.0    18531\n",
      "21.0    17923\n",
      "56.0    16238\n",
      "23.0    15940\n",
      "34.0    15559\n",
      "Name: antiguedad, dtype: int64\n",
      "------------------------------ \n",
      "bottom 10 values:\n",
      "252.0    443\n",
      "251.0    419\n",
      "238.0    325\n",
      "253.0    244\n",
      "250.0    191\n",
      "254.0    152\n",
      "0.0      129\n",
      "257.0    102\n",
      "255.0     84\n",
      "256.0     77\n",
      "Name: antiguedad, dtype: int64\n",
      "------------------------------\n"
     ]
    }
   ],
   "source": [
    "col_name = 'antiguedad'\n",
    "\n",
    "print '-' * 30, '\\n', 'dtype:           ', d[col_name].dtype\n",
    "print '-' * 30, '\\n', 'np.na count:     ', d[col_name].isnull().sum()\n",
    "print '-' * 30, '\\n', 'np.na ratio:     ', 1.0 * d[col_name].isnull().sum() / len(d)\n",
    "print '-' * 30, '\\n', 'distinct values: ', len(d[col_name].value_counts())\n",
    "print '-' * 30, '\\n', 'top 10 values:'\n",
    "print d[col_name].value_counts().head(10)\n",
    "print '-' * 30, '\\n', 'bottom 10 values:'\n",
    "print d[col_name].value_counts().tail(10)\n",
    "print '-' * 30"
   ]
  },
  {
   "cell_type": "code",
   "execution_count": 22,
   "metadata": {
    "collapsed": false
   },
   "outputs": [
    {
     "data": {
      "text/plain": [
       "count    929612.000000\n",
       "mean         80.955814\n",
       "std          67.241802\n",
       "min           0.000000\n",
       "25%          23.000000\n",
       "50%          55.000000\n",
       "75%         136.000000\n",
       "max         257.000000\n",
       "Name: antiguedad, dtype: float64"
      ]
     },
     "execution_count": 22,
     "metadata": {},
     "output_type": "execute_result"
    }
   ],
   "source": [
    "d.antiguedad.dropna().describe()"
   ]
  },
  {
   "cell_type": "code",
   "execution_count": 23,
   "metadata": {
    "collapsed": false
   },
   "outputs": [
    {
     "data": {
      "image/png": "[encoded data removed]",
      "text/plain": [
       "<matplotlib.figure.Figure at 0x10ccfafd0>"
      ]
     },
     "metadata": {},
     "output_type": "display_data"
    }
   ],
   "source": [
    "_ = plt.figure(figsize=(12,6))\n",
    "_ = plt.hist(d.groupby('ncodpers').first().antiguedad.dropna(), bins=60)"
   ]
  },
  {
   "cell_type": "markdown",
   "metadata": {},
   "source": [
    "## indrel (primary customer indicator)"
   ]
  },
  {
   "cell_type": "code",
   "execution_count": 24,
   "metadata": {
    "collapsed": false
   },
   "outputs": [
    {
     "name": "stdout",
     "output_type": "stream",
     "text": [
      "------------------------------ \n",
      "dtype:            int64\n",
      "------------------------------ \n",
      "np.na count:      0\n",
      "------------------------------ \n",
      "np.na ratio:      0.0\n",
      "------------------------------ \n",
      "distinct values:  2\n",
      "------------------------------ \n",
      "top 10 values:\n",
      "1     927932\n",
      "99      1683\n",
      "Name: indrel, dtype: int64\n",
      "------------------------------ \n",
      "bottom 10 values:\n",
      "1     927932\n",
      "99      1683\n",
      "Name: indrel, dtype: int64\n",
      "------------------------------\n"
     ]
    }
   ],
   "source": [
    "col_name = 'indrel'\n",
    "\n",
    "print '-' * 30, '\\n', 'dtype:           ', d[col_name].dtype\n",
    "print '-' * 30, '\\n', 'np.na count:     ', d[col_name].isnull().sum()\n",
    "print '-' * 30, '\\n', 'np.na ratio:     ', 1.0 * d[col_name].isnull().sum() / len(d)\n",
    "print '-' * 30, '\\n', 'distinct values: ', len(d[col_name].value_counts())\n",
    "print '-' * 30, '\\n', 'top 10 values:'\n",
    "print d[col_name].value_counts().head(10)\n",
    "print '-' * 30, '\\n', 'bottom 10 values:'\n",
    "print d[col_name].value_counts().tail(10)\n",
    "print '-' * 30"
   ]
  },
  {
   "cell_type": "markdown",
   "metadata": {},
   "source": [
    "1  : primary customer\n",
    "\n",
    "99 : primary customer during the month but not at the end of the month"
   ]
  },
  {
   "cell_type": "markdown",
   "metadata": {},
   "source": [
    "## ult_fec_cli_1t (last date as primary customer if he isn't at the end of the month)"
   ]
  },
  {
   "cell_type": "code",
   "execution_count": 25,
   "metadata": {
    "collapsed": false
   },
   "outputs": [
    {
     "name": "stdout",
     "output_type": "stream",
     "text": [
      "------------------------------ \n",
      "dtype:            object\n",
      "------------------------------ \n",
      "np.na count:      927932\n",
      "------------------------------ \n",
      "np.na ratio:      0.998189573103\n",
      "------------------------------ \n",
      "distinct values:  21\n",
      "------------------------------ \n",
      "top 10 values:\n",
      "2016-06-01    138\n",
      "2016-06-10    133\n",
      "2016-06-03    110\n",
      "2016-06-07    102\n",
      "2016-06-06    101\n",
      "2016-06-20     84\n",
      "2016-06-13     84\n",
      "2016-06-17     78\n",
      "2016-06-23     78\n",
      "2016-06-15     78\n",
      "Name: ult_fec_cli_1t, dtype: int64\n",
      "------------------------------ \n",
      "bottom 10 values:\n",
      "2016-06-02    75\n",
      "2016-06-09    75\n",
      "2016-06-22    72\n",
      "2016-06-21    70\n",
      "2016-06-24    64\n",
      "2016-06-16    62\n",
      "2016-06-08    60\n",
      "2016-06-27    58\n",
      "2016-06-28    49\n",
      "2016-06-29    36\n",
      "Name: ult_fec_cli_1t, dtype: int64\n",
      "------------------------------\n"
     ]
    }
   ],
   "source": [
    "col_name = 'ult_fec_cli_1t'\n",
    "\n",
    "print '-' * 30, '\\n', 'dtype:           ', d[col_name].dtype\n",
    "print '-' * 30, '\\n', 'np.na count:     ', d[col_name].isnull().sum()\n",
    "print '-' * 30, '\\n', 'np.na ratio:     ', 1.0 * d[col_name].isnull().sum() / len(d)\n",
    "print '-' * 30, '\\n', 'distinct values: ', len(d[col_name].value_counts())\n",
    "print '-' * 30, '\\n', 'top 10 values:'\n",
    "print d[col_name].value_counts().head(10)\n",
    "print '-' * 30, '\\n', 'bottom 10 values:'\n",
    "print d[col_name].value_counts().tail(10)\n",
    "print '-' * 30"
   ]
  },
  {
   "cell_type": "markdown",
   "metadata": {},
   "source": [
    "## indrel_1mes (customer type at the beginning of the month)"
   ]
  },
  {
   "cell_type": "code",
   "execution_count": 26,
   "metadata": {
    "collapsed": false
   },
   "outputs": [
    {
     "name": "stdout",
     "output_type": "stream",
     "text": [
      "------------------------------ \n",
      "dtype:            object\n",
      "------------------------------ \n",
      "np.na count:      23\n",
      "------------------------------ \n",
      "np.na ratio:      2.47414252137e-05\n",
      "------------------------------ \n",
      "distinct values:  4\n",
      "------------------------------ \n",
      "top 10 values:\n",
      "1.0    611755\n",
      "1      317810\n",
      "3          15\n",
      "3.0        12\n",
      "Name: indrel_1mes, dtype: int64\n",
      "------------------------------ \n",
      "bottom 10 values:\n",
      "1.0    611755\n",
      "1      317810\n",
      "3          15\n",
      "3.0        12\n",
      "Name: indrel_1mes, dtype: int64\n",
      "------------------------------\n"
     ]
    }
   ],
   "source": [
    "col_name = 'indrel_1mes'\n",
    "\n",
    "print '-' * 30, '\\n', 'dtype:           ', d[col_name].dtype\n",
    "print '-' * 30, '\\n', 'np.na count:     ', d[col_name].isnull().sum()\n",
    "print '-' * 30, '\\n', 'np.na ratio:     ', 1.0 * d[col_name].isnull().sum() / len(d)\n",
    "print '-' * 30, '\\n', 'distinct values: ', len(d[col_name].value_counts())\n",
    "print '-' * 30, '\\n', 'top 10 values:'\n",
    "print d[col_name].value_counts().head(10)\n",
    "print '-' * 30, '\\n', 'bottom 10 values:'\n",
    "print d[col_name].value_counts().tail(10)\n",
    "print '-' * 30"
   ]
  },
  {
   "cell_type": "code",
   "execution_count": 27,
   "metadata": {
    "collapsed": true
   },
   "outputs": [],
   "source": [
    "def fix_customer_type(x):\n",
    "    if x == 'P':\n",
    "        return 'P'\n",
    "    else:\n",
    "        try:\n",
    "            return str(int(x))\n",
    "        except:\n",
    "            return np.nan"
   ]
  },
  {
   "cell_type": "code",
   "execution_count": 28,
   "metadata": {
    "collapsed": true
   },
   "outputs": [],
   "source": [
    "d.indrel_1mes = d.indrel_1mes.apply(fix_customer_type)"
   ]
  },
  {
   "cell_type": "code",
   "execution_count": 29,
   "metadata": {
    "collapsed": false
   },
   "outputs": [
    {
     "name": "stdout",
     "output_type": "stream",
     "text": [
      "------------------------------ \n",
      "dtype:            object\n",
      "------------------------------ \n",
      "np.na count:      611790\n",
      "------------------------------ \n",
      "np.na ratio:      0.658111153542\n",
      "------------------------------ \n",
      "distinct values:  2\n",
      "------------------------------ \n",
      "top 10 values:\n",
      "1    317810\n",
      "3        15\n",
      "Name: indrel_1mes, dtype: int64\n",
      "------------------------------ \n",
      "bottom 10 values:\n",
      "1    317810\n",
      "3        15\n",
      "Name: indrel_1mes, dtype: int64\n",
      "------------------------------\n"
     ]
    }
   ],
   "source": [
    "col_name = 'indrel_1mes'\n",
    "\n",
    "print '-' * 30, '\\n', 'dtype:           ', d[col_name].dtype\n",
    "print '-' * 30, '\\n', 'np.na count:     ', d[col_name].isnull().sum()\n",
    "print '-' * 30, '\\n', 'np.na ratio:     ', 1.0 * d[col_name].isnull().sum() / len(d)\n",
    "print '-' * 30, '\\n', 'distinct values: ', len(d[col_name].value_counts())\n",
    "print '-' * 30, '\\n', 'top 10 values:'\n",
    "print d[col_name].value_counts().head(10)\n",
    "print '-' * 30, '\\n', 'bottom 10 values:'\n",
    "print d[col_name].value_counts().tail(10)\n",
    "print '-' * 30"
   ]
  },
  {
   "cell_type": "markdown",
   "metadata": {},
   "source": [
    "1 : primary customer\n",
    "\n",
    "2 : co-owner\n",
    "\n",
    "3 : former primary\n",
    "\n",
    "4 : former co-owner\n",
    "\n",
    "P : potential"
   ]
  },
  {
   "cell_type": "markdown",
   "metadata": {},
   "source": [
    "## tiprel_1mes (customer relation type at the beginning of the month)"
   ]
  },
  {
   "cell_type": "code",
   "execution_count": 30,
   "metadata": {
    "collapsed": false
   },
   "outputs": [
    {
     "name": "stdout",
     "output_type": "stream",
     "text": [
      "------------------------------ \n",
      "dtype:            object\n",
      "------------------------------ \n",
      "np.na count:      23\n",
      "------------------------------ \n",
      "np.na ratio:      2.47414252137e-05\n",
      "------------------------------ \n",
      "distinct values:  3\n",
      "------------------------------ \n",
      "top 10 values:\n",
      "I    535943\n",
      "A    393622\n",
      "P        27\n",
      "Name: tiprel_1mes, dtype: int64\n",
      "------------------------------ \n",
      "bottom 10 values:\n",
      "I    535943\n",
      "A    393622\n",
      "P        27\n",
      "Name: tiprel_1mes, dtype: int64\n",
      "------------------------------\n"
     ]
    }
   ],
   "source": [
    "col_name = 'tiprel_1mes'\n",
    "\n",
    "print '-' * 30, '\\n', 'dtype:           ', d[col_name].dtype\n",
    "print '-' * 30, '\\n', 'np.na count:     ', d[col_name].isnull().sum()\n",
    "print '-' * 30, '\\n', 'np.na ratio:     ', 1.0 * d[col_name].isnull().sum() / len(d)\n",
    "print '-' * 30, '\\n', 'distinct values: ', len(d[col_name].value_counts())\n",
    "print '-' * 30, '\\n', 'top 10 values:'\n",
    "print d[col_name].value_counts().head(10)\n",
    "print '-' * 30, '\\n', 'bottom 10 values:'\n",
    "print d[col_name].value_counts().tail(10)\n",
    "print '-' * 30"
   ]
  },
  {
   "cell_type": "markdown",
   "metadata": {},
   "source": [
    "A : active\n",
    "\n",
    "I : inactive\n",
    "\n",
    "P : former customer\n",
    "\n",
    "R : potential"
   ]
  },
  {
   "cell_type": "markdown",
   "metadata": {},
   "source": [
    "## indresi (indicator of the residence and the bank being in the same country)"
   ]
  },
  {
   "cell_type": "code",
   "execution_count": 31,
   "metadata": {
    "collapsed": false
   },
   "outputs": [
    {
     "name": "stdout",
     "output_type": "stream",
     "text": [
      "------------------------------ \n",
      "dtype:            object\n",
      "------------------------------ \n",
      "np.na count:      0\n",
      "------------------------------ \n",
      "np.na ratio:      0.0\n",
      "------------------------------ \n",
      "distinct values:  2\n",
      "------------------------------ \n",
      "top 10 values:\n",
      "S    925620\n",
      "N      3995\n",
      "Name: indresi, dtype: int64\n",
      "------------------------------ \n",
      "bottom 10 values:\n",
      "S    925620\n",
      "N      3995\n",
      "Name: indresi, dtype: int64\n",
      "------------------------------\n"
     ]
    }
   ],
   "source": [
    "col_name = 'indresi'\n",
    "\n",
    "print '-' * 30, '\\n', 'dtype:           ', d[col_name].dtype\n",
    "print '-' * 30, '\\n', 'np.na count:     ', d[col_name].isnull().sum()\n",
    "print '-' * 30, '\\n', 'np.na ratio:     ', 1.0 * d[col_name].isnull().sum() / len(d)\n",
    "print '-' * 30, '\\n', 'distinct values: ', len(d[col_name].value_counts())\n",
    "print '-' * 30, '\\n', 'top 10 values:'\n",
    "print d[col_name].value_counts().head(10)\n",
    "print '-' * 30, '\\n', 'bottom 10 values:'\n",
    "print d[col_name].value_counts().tail(10)\n",
    "print '-' * 30"
   ]
  },
  {
   "cell_type": "markdown",
   "metadata": {},
   "source": [
    "S : same\n",
    "\n",
    "N : different"
   ]
  },
  {
   "cell_type": "markdown",
   "metadata": {},
   "source": [
    "## indext (indicator if the birth country is different from bank country)"
   ]
  },
  {
   "cell_type": "code",
   "execution_count": 32,
   "metadata": {
    "collapsed": false
   },
   "outputs": [
    {
     "name": "stdout",
     "output_type": "stream",
     "text": [
      "------------------------------ \n",
      "dtype:            object\n",
      "------------------------------ \n",
      "np.na count:      0\n",
      "------------------------------ \n",
      "np.na ratio:      0.0\n",
      "------------------------------ \n",
      "distinct values:  2\n",
      "------------------------------ \n",
      "top 10 values:\n",
      "N    883548\n",
      "S     46067\n",
      "Name: indext, dtype: int64\n",
      "------------------------------ \n",
      "bottom 10 values:\n",
      "N    883548\n",
      "S     46067\n",
      "Name: indext, dtype: int64\n",
      "------------------------------\n"
     ]
    }
   ],
   "source": [
    "col_name = 'indext'\n",
    "\n",
    "print '-' * 30, '\\n', 'dtype:           ', d[col_name].dtype\n",
    "print '-' * 30, '\\n', 'np.na count:     ', d[col_name].isnull().sum()\n",
    "print '-' * 30, '\\n', 'np.na ratio:     ', 1.0 * d[col_name].isnull().sum() / len(d)\n",
    "print '-' * 30, '\\n', 'distinct values: ', len(d[col_name].value_counts())\n",
    "print '-' * 30, '\\n', 'top 10 values:'\n",
    "print d[col_name].value_counts().head(10)\n",
    "print '-' * 30, '\\n', 'bottom 10 values:'\n",
    "print d[col_name].value_counts().tail(10)\n",
    "print '-' * 30"
   ]
  },
  {
   "cell_type": "markdown",
   "metadata": {},
   "source": [
    "S : different\n",
    "\n",
    "N : same"
   ]
  },
  {
   "cell_type": "markdown",
   "metadata": {},
   "source": [
    "## conyuemp (indicator if the customer is the spouse of an employee)"
   ]
  },
  {
   "cell_type": "code",
   "execution_count": 33,
   "metadata": {
    "collapsed": false
   },
   "outputs": [
    {
     "name": "stdout",
     "output_type": "stream",
     "text": [
      "------------------------------ \n",
      "dtype:            object\n",
      "------------------------------ \n",
      "np.na count:      929511\n",
      "------------------------------ \n",
      "np.na ratio:      0.999888125729\n",
      "------------------------------ \n",
      "distinct values:  2\n",
      "------------------------------ \n",
      "top 10 values:\n",
      "N    103\n",
      "S      1\n",
      "Name: conyuemp, dtype: int64\n",
      "------------------------------ \n",
      "bottom 10 values:\n",
      "N    103\n",
      "S      1\n",
      "Name: conyuemp, dtype: int64\n",
      "------------------------------\n"
     ]
    }
   ],
   "source": [
    "col_name = 'conyuemp'\n",
    "\n",
    "print '-' * 30, '\\n', 'dtype:           ', d[col_name].dtype\n",
    "print '-' * 30, '\\n', 'np.na count:     ', d[col_name].isnull().sum()\n",
    "print '-' * 30, '\\n', 'np.na ratio:     ', 1.0 * d[col_name].isnull().sum() / len(d)\n",
    "print '-' * 30, '\\n', 'distinct values: ', len(d[col_name].value_counts())\n",
    "print '-' * 30, '\\n', 'top 10 values:'\n",
    "print d[col_name].value_counts().head(10)\n",
    "print '-' * 30, '\\n', 'bottom 10 values:'\n",
    "print d[col_name].value_counts().tail(10)\n",
    "print '-' * 30"
   ]
  },
  {
   "cell_type": "markdown",
   "metadata": {},
   "source": [
    "## canal_entrada (channel used by the customer to join)"
   ]
  },
  {
   "cell_type": "code",
   "execution_count": 34,
   "metadata": {
    "collapsed": false
   },
   "outputs": [
    {
     "name": "stdout",
     "output_type": "stream",
     "text": [
      "------------------------------ \n",
      "dtype:            object\n",
      "------------------------------ \n",
      "np.na count:      2081\n",
      "------------------------------ \n",
      "np.na ratio:      0.00223856112477\n",
      "------------------------------ \n",
      "distinct values:  162\n",
      "------------------------------ \n",
      "top 10 values:\n",
      "KHE    251665\n",
      "KAT    205833\n",
      "KFC    200697\n",
      "KHQ     74969\n",
      "KHM     33384\n",
      "KFA     25653\n",
      "KHN     18131\n",
      "KHK     16918\n",
      "KHD      7390\n",
      "RED      6328\n",
      "Name: canal_entrada, dtype: int64\n",
      "------------------------------ \n",
      "bottom 10 values:\n",
      "KEM    4\n",
      "KHA    3\n",
      "KGU    2\n",
      "KGC    2\n",
      "KDB    1\n",
      "KDL    1\n",
      "025    1\n",
      "KHR    1\n",
      "KDI    1\n",
      "KGN    1\n",
      "Name: canal_entrada, dtype: int64\n",
      "------------------------------\n"
     ]
    }
   ],
   "source": [
    "col_name = 'canal_entrada'\n",
    "\n",
    "print '-' * 30, '\\n', 'dtype:           ', d[col_name].dtype\n",
    "print '-' * 30, '\\n', 'np.na count:     ', d[col_name].isnull().sum()\n",
    "print '-' * 30, '\\n', 'np.na ratio:     ', 1.0 * d[col_name].isnull().sum() / len(d)\n",
    "print '-' * 30, '\\n', 'distinct values: ', len(d[col_name].value_counts())\n",
    "print '-' * 30, '\\n', 'top 10 values:'\n",
    "print d[col_name].value_counts().head(10)\n",
    "print '-' * 30, '\\n', 'bottom 10 values:'\n",
    "print d[col_name].value_counts().tail(10)\n",
    "print '-' * 30"
   ]
  },
  {
   "cell_type": "markdown",
   "metadata": {},
   "source": [
    "## indfall (dead indicator)"
   ]
  },
  {
   "cell_type": "code",
   "execution_count": 35,
   "metadata": {
    "collapsed": false
   },
   "outputs": [
    {
     "name": "stdout",
     "output_type": "stream",
     "text": [
      "------------------------------ \n",
      "dtype:            object\n",
      "------------------------------ \n",
      "np.na count:      0\n",
      "------------------------------ \n",
      "np.na ratio:      0.0\n",
      "------------------------------ \n",
      "distinct values:  2\n",
      "------------------------------ \n",
      "top 10 values:\n",
      "N    927215\n",
      "S      2400\n",
      "Name: indfall, dtype: int64\n",
      "------------------------------ \n",
      "bottom 10 values:\n",
      "N    927215\n",
      "S      2400\n",
      "Name: indfall, dtype: int64\n",
      "------------------------------\n"
     ]
    }
   ],
   "source": [
    "col_name = 'indfall'\n",
    "\n",
    "print '-' * 30, '\\n', 'dtype:           ', d[col_name].dtype\n",
    "print '-' * 30, '\\n', 'np.na count:     ', d[col_name].isnull().sum()\n",
    "print '-' * 30, '\\n', 'np.na ratio:     ', 1.0 * d[col_name].isnull().sum() / len(d)\n",
    "print '-' * 30, '\\n', 'distinct values: ', len(d[col_name].value_counts())\n",
    "print '-' * 30, '\\n', 'top 10 values:'\n",
    "print d[col_name].value_counts().head(10)\n",
    "print '-' * 30, '\\n', 'bottom 10 values:'\n",
    "print d[col_name].value_counts().tail(10)\n",
    "print '-' * 30"
   ]
  },
  {
   "cell_type": "markdown",
   "metadata": {},
   "source": [
    "## tipodom (address type)"
   ]
  },
  {
   "cell_type": "code",
   "execution_count": 36,
   "metadata": {
    "collapsed": false
   },
   "outputs": [
    {
     "name": "stdout",
     "output_type": "stream",
     "text": [
      "------------------------------ \n",
      "dtype:            int64\n",
      "------------------------------ \n",
      "np.na count:      0\n",
      "------------------------------ \n",
      "np.na ratio:      0.0\n",
      "------------------------------ \n",
      "distinct values:  1\n",
      "------------------------------ \n",
      "top 10 values:\n",
      "1    929615\n",
      "Name: tipodom, dtype: int64\n",
      "------------------------------ \n",
      "bottom 10 values:\n",
      "1    929615\n",
      "Name: tipodom, dtype: int64\n",
      "------------------------------\n"
     ]
    }
   ],
   "source": [
    "col_name = 'tipodom'\n",
    "\n",
    "print '-' * 30, '\\n', 'dtype:           ', d[col_name].dtype\n",
    "print '-' * 30, '\\n', 'np.na count:     ', d[col_name].isnull().sum()\n",
    "print '-' * 30, '\\n', 'np.na ratio:     ', 1.0 * d[col_name].isnull().sum() / len(d)\n",
    "print '-' * 30, '\\n', 'distinct values: ', len(d[col_name].value_counts())\n",
    "print '-' * 30, '\\n', 'top 10 values:'\n",
    "print d[col_name].value_counts().head(10)\n",
    "print '-' * 30, '\\n', 'bottom 10 values:'\n",
    "print d[col_name].value_counts().tail(10)\n",
    "print '-' * 30"
   ]
  },
  {
   "cell_type": "markdown",
   "metadata": {},
   "source": [
    "## cod_prov (address code)"
   ]
  },
  {
   "cell_type": "code",
   "execution_count": 37,
   "metadata": {
    "collapsed": false
   },
   "outputs": [
    {
     "name": "stdout",
     "output_type": "stream",
     "text": [
      "------------------------------ \n",
      "dtype:            float64\n",
      "------------------------------ \n",
      "np.na count:      3996\n",
      "------------------------------ \n",
      "np.na ratio:      0.00429855370234\n",
      "------------------------------ \n",
      "distinct values:  52\n",
      "------------------------------ \n",
      "top 10 values:\n",
      "28.0    298250\n",
      "8.0      88579\n",
      "46.0     47996\n",
      "41.0     40492\n",
      "15.0     28715\n",
      "30.0     27752\n",
      "29.0     24546\n",
      "50.0     23160\n",
      "3.0      22147\n",
      "11.0     19795\n",
      "Name: cod_prov, dtype: int64\n",
      "------------------------------ \n",
      "bottom 10 values:\n",
      "49.0    3430\n",
      "34.0    3311\n",
      "40.0    2881\n",
      "22.0    2789\n",
      "5.0     2628\n",
      "1.0     2591\n",
      "44.0    1538\n",
      "42.0    1261\n",
      "52.0     643\n",
      "51.0     513\n",
      "Name: cod_prov, dtype: int64\n",
      "------------------------------\n"
     ]
    }
   ],
   "source": [
    "col_name = 'cod_prov'\n",
    "\n",
    "print '-' * 30, '\\n', 'dtype:           ', d[col_name].dtype\n",
    "print '-' * 30, '\\n', 'np.na count:     ', d[col_name].isnull().sum()\n",
    "print '-' * 30, '\\n', 'np.na ratio:     ', 1.0 * d[col_name].isnull().sum() / len(d)\n",
    "print '-' * 30, '\\n', 'distinct values: ', len(d[col_name].value_counts())\n",
    "print '-' * 30, '\\n', 'top 10 values:'\n",
    "print d[col_name].value_counts().head(10)\n",
    "print '-' * 30, '\\n', 'bottom 10 values:'\n",
    "print d[col_name].value_counts().tail(10)\n",
    "print '-' * 30"
   ]
  },
  {
   "cell_type": "markdown",
   "metadata": {},
   "source": [
    "## nomprov (address name)"
   ]
  },
  {
   "cell_type": "code",
   "execution_count": 38,
   "metadata": {
    "collapsed": false
   },
   "outputs": [
    {
     "name": "stdout",
     "output_type": "stream",
     "text": [
      "------------------------------ \n",
      "dtype:            object\n",
      "------------------------------ \n",
      "np.na count:      3996\n",
      "------------------------------ \n",
      "np.na ratio:      0.00429855370234\n",
      "------------------------------ \n",
      "distinct values:  52\n",
      "------------------------------ \n",
      "top 10 values:\n",
      "MADRID       298250\n",
      "BARCELONA     88579\n",
      "VALENCIA      47996\n",
      "SEVILLA       40492\n",
      "CORUÑA, A     28715\n",
      "MURCIA        27752\n",
      "MALAGA        24546\n",
      "ZARAGOZA      23160\n",
      "ALICANTE      22147\n",
      "CADIZ         19795\n",
      "Name: nomprov, dtype: int64\n",
      "------------------------------ \n",
      "bottom 10 values:\n",
      "ZAMORA      3430\n",
      "PALENCIA    3311\n",
      "SEGOVIA     2881\n",
      "HUESCA      2789\n",
      "AVILA       2628\n",
      "ALAVA       2591\n",
      "TERUEL      1538\n",
      "SORIA       1261\n",
      "MELILLA      643\n",
      "CEUTA        513\n",
      "Name: nomprov, dtype: int64\n",
      "------------------------------\n"
     ]
    }
   ],
   "source": [
    "col_name = 'nomprov'\n",
    "\n",
    "print '-' * 30, '\\n', 'dtype:           ', d[col_name].dtype\n",
    "print '-' * 30, '\\n', 'np.na count:     ', d[col_name].isnull().sum()\n",
    "print '-' * 30, '\\n', 'np.na ratio:     ', 1.0 * d[col_name].isnull().sum() / len(d)\n",
    "print '-' * 30, '\\n', 'distinct values: ', len(d[col_name].value_counts())\n",
    "print '-' * 30, '\\n', 'top 10 values:'\n",
    "print d[col_name].value_counts().head(10)\n",
    "print '-' * 30, '\\n', 'bottom 10 values:'\n",
    "print d[col_name].value_counts().tail(10)\n",
    "print '-' * 30"
   ]
  },
  {
   "cell_type": "markdown",
   "metadata": {},
   "source": [
    "## ind_actividad_cliente (activity indicator)"
   ]
  },
  {
   "cell_type": "code",
   "execution_count": 39,
   "metadata": {
    "collapsed": false
   },
   "outputs": [
    {
     "name": "stdout",
     "output_type": "stream",
     "text": [
      "------------------------------ \n",
      "dtype:            int64\n",
      "------------------------------ \n",
      "np.na count:      0\n",
      "------------------------------ \n",
      "np.na ratio:      0.0\n",
      "------------------------------ \n",
      "distinct values:  2\n",
      "------------------------------ \n",
      "top 10 values:\n",
      "0    534276\n",
      "1    395339\n",
      "Name: ind_actividad_cliente, dtype: int64\n",
      "------------------------------ \n",
      "bottom 10 values:\n",
      "0    534276\n",
      "1    395339\n",
      "Name: ind_actividad_cliente, dtype: int64\n",
      "------------------------------\n"
     ]
    }
   ],
   "source": [
    "col_name = 'ind_actividad_cliente'\n",
    "\n",
    "print '-' * 30, '\\n', 'dtype:           ', d[col_name].dtype\n",
    "print '-' * 30, '\\n', 'np.na count:     ', d[col_name].isnull().sum()\n",
    "print '-' * 30, '\\n', 'np.na ratio:     ', 1.0 * d[col_name].isnull().sum() / len(d)\n",
    "print '-' * 30, '\\n', 'distinct values: ', len(d[col_name].value_counts())\n",
    "print '-' * 30, '\\n', 'top 10 values:'\n",
    "print d[col_name].value_counts().head(10)\n",
    "print '-' * 30, '\\n', 'bottom 10 values:'\n",
    "print d[col_name].value_counts().tail(10)\n",
    "print '-' * 30"
   ]
  },
  {
   "cell_type": "markdown",
   "metadata": {},
   "source": [
    "1 : active\n",
    "\n",
    "0 : inactive"
   ]
  },
  {
   "cell_type": "markdown",
   "metadata": {},
   "source": [
    "## renta (gross income of the household)"
   ]
  },
  {
   "cell_type": "code",
   "execution_count": 40,
   "metadata": {
    "collapsed": false
   },
   "outputs": [
    {
     "name": "stdout",
     "output_type": "stream",
     "text": [
      "------------------------------ \n",
      "dtype:            object\n",
      "------------------------------ \n",
      "np.na count:      0\n",
      "------------------------------ \n",
      "np.na ratio:      0.0\n",
      "------------------------------ \n",
      "distinct values:  516403\n",
      "------------------------------ \n",
      "top 10 values:\n",
      "         NA    227965\n",
      "  451931.22       354\n",
      "  463625.16       111\n",
      "  128318.52        91\n",
      "  181042.20        91\n",
      "  105260.88        90\n",
      "  488798.49        84\n",
      "  127141.50        73\n",
      "  283325.67        70\n",
      "  132335.73        67\n",
      "Name: renta, dtype: int64\n",
      "------------------------------ \n",
      "bottom 10 values:\n",
      "   63758.94    1\n",
      "   63758.91    1\n",
      "  107575.86    1\n",
      "   56520.63    1\n",
      "  122707.26    1\n",
      "   83673.30    1\n",
      "   47599.47    1\n",
      "  113420.31    1\n",
      "   50551.44    1\n",
      "  114483.54    1\n",
      "Name: renta, dtype: int64\n",
      "------------------------------\n"
     ]
    }
   ],
   "source": [
    "col_name = 'renta'\n",
    "\n",
    "print '-' * 30, '\\n', 'dtype:           ', d[col_name].dtype\n",
    "print '-' * 30, '\\n', 'np.na count:     ', d[col_name].isnull().sum()\n",
    "print '-' * 30, '\\n', 'np.na ratio:     ', 1.0 * d[col_name].isnull().sum() / len(d)\n",
    "print '-' * 30, '\\n', 'distinct values: ', len(d[col_name].value_counts())\n",
    "print '-' * 30, '\\n', 'top 10 values:'\n",
    "print d[col_name].value_counts().head(10)\n",
    "print '-' * 30, '\\n', 'bottom 10 values:'\n",
    "print d[col_name].value_counts().tail(10)\n",
    "print '-' * 30"
   ]
  },
  {
   "cell_type": "code",
   "execution_count": 41,
   "metadata": {
    "collapsed": false
   },
   "outputs": [],
   "source": [
    "d.loc[d.renta == '         NA', 'renta'] = np.nan\n",
    "d.renta = d.renta.astype(float)"
   ]
  },
  {
   "cell_type": "code",
   "execution_count": 42,
   "metadata": {
    "collapsed": false
   },
   "outputs": [
    {
     "name": "stdout",
     "output_type": "stream",
     "text": [
      "------------------------------ \n",
      "dtype:            float64\n",
      "------------------------------ \n",
      "np.na count:      227965\n",
      "------------------------------ \n",
      "np.na ratio:      0.245225173862\n",
      "------------------------------ \n",
      "distinct values:  516402\n",
      "------------------------------ \n",
      "top 10 values:\n",
      "451931.22    354\n",
      "463625.16    111\n",
      "181042.20     91\n",
      "128318.52     91\n",
      "105260.88     90\n",
      "488798.49     84\n",
      "127141.50     73\n",
      "283325.67     70\n",
      "132335.73     67\n",
      "236690.34     67\n",
      "Name: renta, dtype: int64\n",
      "------------------------------ \n",
      "bottom 10 values:\n",
      "57714.39     1\n",
      "54004.59     1\n",
      "119457.39    1\n",
      "86670.87     1\n",
      "319321.71    1\n",
      "193227.72    1\n",
      "110094.21    1\n",
      "141067.95    1\n",
      "58387.86     1\n",
      "27832.50     1\n",
      "Name: renta, dtype: int64\n",
      "------------------------------\n"
     ]
    }
   ],
   "source": [
    "col_name = 'renta'\n",
    "\n",
    "print '-' * 30, '\\n', 'dtype:           ', d[col_name].dtype\n",
    "print '-' * 30, '\\n', 'np.na count:     ', d[col_name].isnull().sum()\n",
    "print '-' * 30, '\\n', 'np.na ratio:     ', 1.0 * d[col_name].isnull().sum() / len(d)\n",
    "print '-' * 30, '\\n', 'distinct values: ', len(d[col_name].value_counts())\n",
    "print '-' * 30, '\\n', 'top 10 values:'\n",
    "print d[col_name].value_counts().head(10)\n",
    "print '-' * 30, '\\n', 'bottom 10 values:'\n",
    "print d[col_name].value_counts().tail(10)\n",
    "print '-' * 30"
   ]
  },
  {
   "cell_type": "code",
   "execution_count": 43,
   "metadata": {
    "collapsed": false
   },
   "outputs": [
    {
     "data": {
      "text/plain": [
       "count    7.016500e+05\n",
       "mean     1.340879e+05\n",
       "std      2.323120e+05\n",
       "min      1.202730e+03\n",
       "25%      6.849114e+04\n",
       "50%      1.014905e+05\n",
       "75%      1.555408e+05\n",
       "max      2.889440e+07\n",
       "Name: renta, dtype: float64"
      ]
     },
     "execution_count": 43,
     "metadata": {},
     "output_type": "execute_result"
    }
   ],
   "source": [
    "d.renta.dropna().describe()"
   ]
  },
  {
   "cell_type": "code",
   "execution_count": 44,
   "metadata": {
    "collapsed": false
   },
   "outputs": [
    {
     "data": {
      "text/plain": [
       "310008.39000000001"
      ]
     },
     "execution_count": 44,
     "metadata": {},
     "output_type": "execute_result"
    }
   ],
   "source": [
    "d.renta.dropna().quantile(0.95)"
   ]
  },
  {
   "cell_type": "code",
   "execution_count": 45,
   "metadata": {
    "collapsed": false
   },
   "outputs": [
    {
     "data": {
      "image/png": "[encoded data removed]",
      "text/plain": [
       "<matplotlib.figure.Figure at 0x10d6c9850>"
      ]
     },
     "metadata": {},
     "output_type": "display_data"
    }
   ],
   "source": [
    "_ = plt.figure(figsize=(12,6))\n",
    "_ = plt.hist(d[d.renta <= 350000].groupby('ncodpers').first().renta.dropna(), bins=60)"
   ]
  },
  {
   "cell_type": "markdown",
   "metadata": {},
   "source": [
    "## segmento (customer segment)"
   ]
  },
  {
   "cell_type": "code",
   "execution_count": 46,
   "metadata": {
    "collapsed": false
   },
   "outputs": [
    {
     "name": "stdout",
     "output_type": "stream",
     "text": [
      "------------------------------ \n",
      "dtype:            object\n",
      "------------------------------ \n",
      "np.na count:      2248\n",
      "------------------------------ \n",
      "np.na ratio:      0.0024182053861\n",
      "------------------------------ \n",
      "distinct values:  3\n",
      "------------------------------ \n",
      "top 10 values:\n",
      "02 - PARTICULARES     545378\n",
      "03 - UNIVERSITARIO    346028\n",
      "01 - TOP               35961\n",
      "Name: segmento, dtype: int64\n",
      "------------------------------ \n",
      "bottom 10 values:\n",
      "02 - PARTICULARES     545378\n",
      "03 - UNIVERSITARIO    346028\n",
      "01 - TOP               35961\n",
      "Name: segmento, dtype: int64\n",
      "------------------------------\n"
     ]
    }
   ],
   "source": [
    "col_name = 'segmento'\n",
    "\n",
    "print '-' * 30, '\\n', 'dtype:           ', d[col_name].dtype\n",
    "print '-' * 30, '\\n', 'np.na count:     ', d[col_name].isnull().sum()\n",
    "print '-' * 30, '\\n', 'np.na ratio:     ', 1.0 * d[col_name].isnull().sum() / len(d)\n",
    "print '-' * 30, '\\n', 'distinct values: ', len(d[col_name].value_counts())\n",
    "print '-' * 30, '\\n', 'top 10 values:'\n",
    "print d[col_name].value_counts().head(10)\n",
    "print '-' * 30, '\\n', 'bottom 10 values:'\n",
    "print d[col_name].value_counts().tail(10)\n",
    "print '-' * 30"
   ]
  },
  {
   "cell_type": "markdown",
   "metadata": {},
   "source": [
    "1 : VIP\n",
    "\n",
    "2 : individual\n",
    "\n",
    "3 : college graduated"
   ]
  }
 ],
 "metadata": {
  "kernelspec": {
   "display_name": "Python 2",
   "language": "python",
   "name": "python2"
  },
  "language_info": {
   "codemirror_mode": {
    "name": "ipython",
    "version": 2
   },
   "file_extension": ".py",
   "mimetype": "text/x-python",
   "name": "python",
   "nbconvert_exporter": "python",
   "pygments_lexer": "ipython2",
   "version": "2.7.11"
  }
 },
 "nbformat": 4,
 "nbformat_minor": 0
}
