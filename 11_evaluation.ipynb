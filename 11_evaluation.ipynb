{
 "cells": [
  {
   "cell_type": "code",
   "execution_count": 4,
   "metadata": {
    "collapsed": false
   },
   "outputs": [],
   "source": [
    "import base64\n",
    "import datetime\n",
    "import gc\n",
    "import json\n",
    "import pickle\n",
    "import random\n",
    "import time\n",
    "import numpy as np\n",
    "import pandas as pd\n",
    "import matplotlib as mpl\n",
    "import matplotlib.pyplot as plt\n",
    "from pylab import rcParams\n",
    "import seaborn as sns\n",
    "import statsmodels as sm\n",
    "from pylab import rcParams\n",
    "from numpy import median\n",
    "import matplotlib.dates as mdates\n",
    "\n",
    "from xgboost import XGBClassifier\n",
    "import sklearn\n",
    "from sklearn.metrics import confusion_matrix\n",
    "from sklearn.metrics import roc_auc_score\n",
    "from sklearn.ensemble import RandomForestClassifier\n",
    "from sklearn.naive_bayes import MultinomialNB\n",
    "from sklearn.tree import DecisionTreeClassifier\n",
    "from sklearn.grid_search import GridSearchCV\n",
    "from sklearn.svm import SVC\n",
    "from sklearn.neighbors import KNeighborsClassifier\n",
    "\n",
    "np.random.seed(1337)\n",
    "%matplotlib inline\n",
    "sns.set(font_scale=1.5)\n",
    "rcParams['figure.figsize'] = 12, 8\n",
    "sns.set_style('whitegrid')\n",
    "sns.set_palette(sns.color_palette('muted'))"
   ]
  },
  {
   "cell_type": "code",
   "execution_count": 5,
   "metadata": {
    "collapsed": false
   },
   "outputs": [],
   "source": [
    "def pk(true, pred, k):\n",
    "    pred = pred[:k]\n",
    "    if k <= len(pred) and pred[k-1] in true:\n",
    "        return 1.0 * len(set(true) & set(pred)) / len(pred)\n",
    "    else:\n",
    "        return 0.0\n",
    "def apk(true, pred, k):\n",
    "    if true == '' or pred == '':\n",
    "        return 0.0\n",
    "    true = true.split(' ')\n",
    "    pred = pred.split(' ')\n",
    "    m = len(true)\n",
    "    n = len(pred)\n",
    "    s = 0.0\n",
    "    for i in range(1, 8):\n",
    "        s += pk(true, pred, i)\n",
    "    return 1.0 * s / min(m, 7)"
   ]
  },
  {
   "cell_type": "code",
   "execution_count": 6,
   "metadata": {
    "collapsed": true
   },
   "outputs": [],
   "source": [
    "def rank(s):\n",
    "    return ' '.join(s.sort_values(ascending=False).index[:7])"
   ]
  },
  {
   "cell_type": "code",
   "execution_count": 7,
   "metadata": {
    "collapsed": true
   },
   "outputs": [],
   "source": [
    "products = '''ind_recibo_ult1\n",
    "ind_cco_fin_ult1\n",
    "ind_nom_pens_ult1\n",
    "ind_nomina_ult1\n",
    "ind_cno_fin_ult1\n",
    "ind_tjcr_fin_ult1\n",
    "ind_ecue_fin_ult1\n",
    "ind_dela_fin_ult1\n",
    "ind_reca_fin_ult1\n",
    "ind_ctma_fin_ult1\n",
    "ind_valo_fin_ult1\n",
    "ind_fond_fin_ult1\n",
    "ind_deco_fin_ult1\n",
    "ind_ctop_fin_ult1\n",
    "ind_ctpp_fin_ult1\n",
    "ind_plan_fin_ult1\n",
    "ind_ctju_fin_ult1\n",
    "ind_deme_fin_ult1\n",
    "ind_cder_fin_ult1\n",
    "ind_pres_fin_ult1\n",
    "ind_hip_fin_ult1\n",
    "ind_viv_fin_ult1\n",
    "ind_aval_fin_ult1\n",
    "ind_ahor_fin_ult1'''.split('\\n')"
   ]
  },
  {
   "cell_type": "code",
   "execution_count": null,
   "metadata": {
    "collapsed": false
   },
   "outputs": [],
   "source": [
    "models = {}\n",
    "for p in products:\n",
    "    print p\n",
    "    d = pd.read_csv('tmp/dmy_ho_train_{0}.csv'.format(p))\n",
    "    del d['customer_id']\n",
    "    del d['target_name']\n",
    "    l = d.target.copy()\n",
    "    del d['target']\n",
    "    m = XGBClassifier(\n",
    "                n_estimators=50,\n",
    "                learning_rate=0.01,\n",
    "                max_depth=9,\n",
    "                gamma=0,\n",
    "                min_child_weight=1,\n",
    "                scale_pos_weight=5.0,\n",
    "                nthread=2)\n",
    "    m.fit(d, l)\n",
    "    del d\n",
    "    del l\n",
    "    gc.collect()\n",
    "    models[p] = m"
   ]
  },
  {
   "cell_type": "code",
   "execution_count": null,
   "metadata": {
    "collapsed": false
   },
   "outputs": [],
   "source": [
    "pickle.dump(models, open('tmp/models_xgb_ne50_spw5.pickle', 'w'))"
   ]
  },
  {
   "cell_type": "code",
   "execution_count": 8,
   "metadata": {
    "collapsed": true
   },
   "outputs": [],
   "source": [
    "models = pickle.load(open('tmp/models_xgb_ne50_spw5.pickle', 'r'))"
   ]
  },
  {
   "cell_type": "code",
   "execution_count": 9,
   "metadata": {
    "collapsed": false
   },
   "outputs": [
    {
     "data": {
      "text/plain": [
       "target               ind_tjcr_fin_ult1ind_recibo_ult1ind_recibo_ult...\n",
       "ind_recibo_ult1                                                  10163\n",
       "ind_nom_pens_ult1                                                 5513\n",
       "ind_nomina_ult1                                                   5488\n",
       "ind_tjcr_fin_ult1                                                 4248\n",
       "ind_cco_fin_ult1                                                  3854\n",
       "ind_ecue_fin_ult1                                                 2709\n",
       "ind_cno_fin_ult1                                                  2346\n",
       "ind_ctma_fin_ult1                                                  512\n",
       "ind_reca_fin_ult1                                                  279\n",
       "ind_ctop_fin_ult1                                                  226\n",
       "ind_valo_fin_ult1                                                  183\n",
       "ind_ctpp_fin_ult1                                                  131\n",
       "ind_fond_fin_ult1                                                   60\n",
       "ind_dela_fin_ult1                                                   46\n",
       "ind_ctju_fin_ult1                                                   40\n",
       "ind_plan_fin_ult1                                                   22\n",
       "ind_pres_fin_ult1                                                    7\n",
       "ind_viv_fin_ult1                                                     7\n",
       "ind_cder_fin_ult1                                                    5\n",
       "ind_hip_fin_ult1                                                     3\n",
       "ind_ahor_fin_ult1                                                    1\n",
       "ind_deco_fin_ult1                                                    0\n",
       "ind_deme_fin_ult1                                                    0\n",
       "ind_aval_fin_ult1                                                    0\n",
       "dtype: object"
      ]
     },
     "execution_count": 9,
     "metadata": {},
     "output_type": "execute_result"
    }
   ],
   "source": [
    "t = pd.read_csv('tmp/ho_targets.csv')\n",
    "t.target.fillna('', inplace=True)\n",
    "t_ids = t[['customer_id']].copy()\n",
    "del t['customer_id']\n",
    "t.sum().sort_values(ascending=False)"
   ]
  },
  {
   "cell_type": "code",
   "execution_count": 10,
   "metadata": {
    "collapsed": true
   },
   "outputs": [],
   "source": [
    "d = pd.read_csv('tmp/dmy_ho_test.csv')\n",
    "d = pd.merge(t_ids, d, how='left', on='customer_id')\n",
    "del d['customer_id']\n",
    "del d['target_name']\n",
    "del d['target']"
   ]
  },
  {
   "cell_type": "code",
   "execution_count": 11,
   "metadata": {
    "collapsed": false
   },
   "outputs": [
    {
     "data": {
      "text/plain": [
       "ind_recibo_ult1      352932.28125\n",
       "ind_nom_pens_ult1    337908.62500\n",
       "ind_nomina_ult1      336830.21875\n",
       "ind_cno_fin_ult1     333024.71875\n",
       "ind_tjcr_fin_ult1    332657.09375\n",
       "ind_reca_fin_ult1    332515.40625\n",
       "ind_ecue_fin_ult1    332304.21875\n",
       "ind_valo_fin_ult1    311302.87500\n",
       "ind_cco_fin_ult1     307550.31250\n",
       "ind_dela_fin_ult1    302531.31250\n",
       "ind_fond_fin_ult1    300502.46875\n",
       "ind_ctop_fin_ult1    293278.21875\n",
       "ind_plan_fin_ult1    292401.71875\n",
       "ind_ctma_fin_ult1    289326.12500\n",
       "ind_ctpp_fin_ult1    286296.40625\n",
       "ind_pres_fin_ult1    285408.40625\n",
       "ind_deco_fin_ult1    283988.28125\n",
       "ind_cder_fin_ult1    282589.18750\n",
       "ind_deme_fin_ult1    280603.87500\n",
       "ind_hip_fin_ult1     280430.18750\n",
       "ind_ctju_fin_ult1    279380.87500\n",
       "ind_viv_fin_ult1     279135.75000\n",
       "ind_aval_fin_ult1    279106.21875\n",
       "ind_ahor_fin_ult1    279106.15625\n",
       "dtype: float32"
      ]
     },
     "execution_count": 11,
     "metadata": {},
     "output_type": "execute_result"
    }
   ],
   "source": [
    "s = pd.DataFrame()\n",
    "for p in products:\n",
    "    s[p] = models[p].predict_proba(d)[:,1]\n",
    "del d\n",
    "s.sum().sort_values(ascending=False)"
   ]
  },
  {
   "cell_type": "code",
   "execution_count": 12,
   "metadata": {
    "collapsed": true
   },
   "outputs": [],
   "source": [
    "s.to_csv('tmp/s_xgb_ne50_spw5.csv', index=False)"
   ]
  },
  {
   "cell_type": "code",
   "execution_count": 18,
   "metadata": {
    "collapsed": false
   },
   "outputs": [
    {
     "name": "stdout",
     "output_type": "stream",
     "text": [
      "0.0247937729507\n"
     ]
    }
   ],
   "source": [
    "s = pd.read_csv('tmp/s_xgb_ne50_spw5.csv')\n",
    "s['target'] = s.apply(lambda r: rank(r), axis=1)\n",
    "true = t.target.tolist()\n",
    "pred = s.target.tolist()\n",
    "x = 0\n",
    "for i in range(len(true)):\n",
    "    x += apk(true[i], pred[i], 7)\n",
    "print x / len(true)"
   ]
  },
  {
   "cell_type": "code",
   "execution_count": null,
   "metadata": {
    "collapsed": false
   },
   "outputs": [],
   "source": [
    "for p in products[:3]:\n",
    "    cmx = pd.DataFrame(confusion_matrix(t[p], s[p].apply(lambda x: 1 if x > 0.6 else 0)))\n",
    "    cmx.index.name='actual'\n",
    "    cmx.columns.name='predicted'\n",
    "    print p\n",
    "    print 'confusion matrix:'\n",
    "    print cmx\n",
    "    print '=' * 20    "
   ]
  },
  {
   "cell_type": "code",
   "execution_count": null,
   "metadata": {
    "collapsed": false
   },
   "outputs": [],
   "source": [
    "t[t.target != ''].target.head(20)"
   ]
  },
  {
   "cell_type": "code",
   "execution_count": null,
   "metadata": {
    "collapsed": false
   },
   "outputs": [],
   "source": [
    "s[t.target != ''].target.head(20)"
   ]
  },
  {
   "cell_type": "code",
   "execution_count": null,
   "metadata": {
    "collapsed": false
   },
   "outputs": [],
   "source": [
    "true = t.target.tolist()\n",
    "pred = ['ind_recibo_ult1 ind_nom_pens_ult1 ind_nomina_ult1 ind_tjcr_fin_ult1 ind_cco_fin_ult1 ind_ecue_fin_ult1 ind_cno_fin_ult1'] * len(true)\n",
    "x = 0\n",
    "for i in range(len(true)):\n",
    "    x += apk(true[i], pred[i], 7)\n",
    "print x / len(true)"
   ]
  }
 ],
 "metadata": {
  "kernelspec": {
   "display_name": "Python 2",
   "language": "python",
   "name": "python2"
  },
  "language_info": {
   "codemirror_mode": {
    "name": "ipython",
    "version": 2
   },
   "file_extension": ".py",
   "mimetype": "text/x-python",
   "name": "python",
   "nbconvert_exporter": "python",
   "pygments_lexer": "ipython2",
   "version": "2.7.11"
  }
 },
 "nbformat": 4,
 "nbformat_minor": 0
}
