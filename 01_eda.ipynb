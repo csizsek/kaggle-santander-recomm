{
 "cells": [
  {
   "cell_type": "code",
   "execution_count": 1,
   "metadata": {
    "collapsed": true
   },
   "outputs": [],
   "source": [
    "import base64\n",
    "import datetime\n",
    "import time\n",
    "import json\n",
    "import numpy as np\n",
    "import pandas as pd\n",
    "import matplotlib as mpl\n",
    "import matplotlib.pyplot as plt\n",
    "from pylab import rcParams\n",
    "import seaborn as sns\n",
    "import statsmodels as sm\n",
    "from pylab import rcParams\n",
    "from numpy import median\n",
    "import matplotlib.dates as mdates\n",
    "\n",
    "np.random.seed(1337)\n",
    "%matplotlib inline\n",
    "sns.set(font_scale=1.5)\n",
    "rcParams['figure.figsize'] = 12, 8\n",
    "sns.set_style('whitegrid')\n",
    "sns.set_palette(sns.color_palette('muted'))"
   ]
  },
  {
   "cell_type": "markdown",
   "metadata": {},
   "source": [
    "# Load the Data"
   ]
  },
  {
   "cell_type": "code",
   "execution_count": 2,
   "metadata": {
    "collapsed": false
   },
   "outputs": [
    {
     "data": {
      "text/plain": [
       "13647309"
      ]
     },
     "execution_count": 2,
     "metadata": {},
     "output_type": "execute_result"
    }
   ],
   "source": [
    "tr = pd.read_csv('input/train_ver2.csv', dtype={\n",
    "        'age': np.str,\n",
    "        'antiguedad': np.str,\n",
    "        'indrel_1mes': np.str,\n",
    "        'conyuemp': np.str})\n",
    "len(tr)"
   ]
  },
  {
   "cell_type": "code",
   "execution_count": 3,
   "metadata": {
    "collapsed": false
   },
   "outputs": [
    {
     "data": {
      "text/html": [
       "<div>\n",
       "<table border=\"1\" class=\"dataframe\">\n",
       "  <thead>\n",
       "    <tr style=\"text-align: right;\">\n",
       "      <th></th>\n",
       "      <th>0</th>\n",
       "      <th>1</th>\n",
       "      <th>2</th>\n",
       "      <th>3</th>\n",
       "      <th>4</th>\n",
       "    </tr>\n",
       "  </thead>\n",
       "  <tbody>\n",
       "    <tr>\n",
       "      <th>fecha_dato</th>\n",
       "      <td>2015-01-28</td>\n",
       "      <td>2015-01-28</td>\n",
       "      <td>2015-01-28</td>\n",
       "      <td>2015-01-28</td>\n",
       "      <td>2015-01-28</td>\n",
       "    </tr>\n",
       "    <tr>\n",
       "      <th>ncodpers</th>\n",
       "      <td>1375586</td>\n",
       "      <td>1050611</td>\n",
       "      <td>1050612</td>\n",
       "      <td>1050613</td>\n",
       "      <td>1050614</td>\n",
       "    </tr>\n",
       "    <tr>\n",
       "      <th>ind_empleado</th>\n",
       "      <td>N</td>\n",
       "      <td>N</td>\n",
       "      <td>N</td>\n",
       "      <td>N</td>\n",
       "      <td>N</td>\n",
       "    </tr>\n",
       "    <tr>\n",
       "      <th>pais_residencia</th>\n",
       "      <td>ES</td>\n",
       "      <td>ES</td>\n",
       "      <td>ES</td>\n",
       "      <td>ES</td>\n",
       "      <td>ES</td>\n",
       "    </tr>\n",
       "    <tr>\n",
       "      <th>sexo</th>\n",
       "      <td>H</td>\n",
       "      <td>V</td>\n",
       "      <td>V</td>\n",
       "      <td>H</td>\n",
       "      <td>V</td>\n",
       "    </tr>\n",
       "    <tr>\n",
       "      <th>age</th>\n",
       "      <td>35</td>\n",
       "      <td>23</td>\n",
       "      <td>23</td>\n",
       "      <td>22</td>\n",
       "      <td>23</td>\n",
       "    </tr>\n",
       "    <tr>\n",
       "      <th>fecha_alta</th>\n",
       "      <td>2015-01-12</td>\n",
       "      <td>2012-08-10</td>\n",
       "      <td>2012-08-10</td>\n",
       "      <td>2012-08-10</td>\n",
       "      <td>2012-08-10</td>\n",
       "    </tr>\n",
       "    <tr>\n",
       "      <th>ind_nuevo</th>\n",
       "      <td>0</td>\n",
       "      <td>0</td>\n",
       "      <td>0</td>\n",
       "      <td>0</td>\n",
       "      <td>0</td>\n",
       "    </tr>\n",
       "    <tr>\n",
       "      <th>antiguedad</th>\n",
       "      <td>6</td>\n",
       "      <td>35</td>\n",
       "      <td>35</td>\n",
       "      <td>35</td>\n",
       "      <td>35</td>\n",
       "    </tr>\n",
       "    <tr>\n",
       "      <th>indrel</th>\n",
       "      <td>1</td>\n",
       "      <td>1</td>\n",
       "      <td>1</td>\n",
       "      <td>1</td>\n",
       "      <td>1</td>\n",
       "    </tr>\n",
       "    <tr>\n",
       "      <th>ult_fec_cli_1t</th>\n",
       "      <td>NaN</td>\n",
       "      <td>NaN</td>\n",
       "      <td>NaN</td>\n",
       "      <td>NaN</td>\n",
       "      <td>NaN</td>\n",
       "    </tr>\n",
       "    <tr>\n",
       "      <th>indrel_1mes</th>\n",
       "      <td>1.0</td>\n",
       "      <td>1</td>\n",
       "      <td>1</td>\n",
       "      <td>1</td>\n",
       "      <td>1</td>\n",
       "    </tr>\n",
       "    <tr>\n",
       "      <th>tiprel_1mes</th>\n",
       "      <td>A</td>\n",
       "      <td>I</td>\n",
       "      <td>I</td>\n",
       "      <td>I</td>\n",
       "      <td>A</td>\n",
       "    </tr>\n",
       "    <tr>\n",
       "      <th>indresi</th>\n",
       "      <td>S</td>\n",
       "      <td>S</td>\n",
       "      <td>S</td>\n",
       "      <td>S</td>\n",
       "      <td>S</td>\n",
       "    </tr>\n",
       "    <tr>\n",
       "      <th>indext</th>\n",
       "      <td>N</td>\n",
       "      <td>S</td>\n",
       "      <td>N</td>\n",
       "      <td>N</td>\n",
       "      <td>N</td>\n",
       "    </tr>\n",
       "    <tr>\n",
       "      <th>conyuemp</th>\n",
       "      <td>NaN</td>\n",
       "      <td>NaN</td>\n",
       "      <td>NaN</td>\n",
       "      <td>NaN</td>\n",
       "      <td>NaN</td>\n",
       "    </tr>\n",
       "    <tr>\n",
       "      <th>canal_entrada</th>\n",
       "      <td>KHL</td>\n",
       "      <td>KHE</td>\n",
       "      <td>KHE</td>\n",
       "      <td>KHD</td>\n",
       "      <td>KHE</td>\n",
       "    </tr>\n",
       "    <tr>\n",
       "      <th>indfall</th>\n",
       "      <td>N</td>\n",
       "      <td>N</td>\n",
       "      <td>N</td>\n",
       "      <td>N</td>\n",
       "      <td>N</td>\n",
       "    </tr>\n",
       "    <tr>\n",
       "      <th>tipodom</th>\n",
       "      <td>1</td>\n",
       "      <td>1</td>\n",
       "      <td>1</td>\n",
       "      <td>1</td>\n",
       "      <td>1</td>\n",
       "    </tr>\n",
       "    <tr>\n",
       "      <th>cod_prov</th>\n",
       "      <td>29</td>\n",
       "      <td>13</td>\n",
       "      <td>13</td>\n",
       "      <td>50</td>\n",
       "      <td>50</td>\n",
       "    </tr>\n",
       "    <tr>\n",
       "      <th>nomprov</th>\n",
       "      <td>MALAGA</td>\n",
       "      <td>CIUDAD REAL</td>\n",
       "      <td>CIUDAD REAL</td>\n",
       "      <td>ZARAGOZA</td>\n",
       "      <td>ZARAGOZA</td>\n",
       "    </tr>\n",
       "    <tr>\n",
       "      <th>ind_actividad_cliente</th>\n",
       "      <td>1</td>\n",
       "      <td>0</td>\n",
       "      <td>0</td>\n",
       "      <td>0</td>\n",
       "      <td>1</td>\n",
       "    </tr>\n",
       "    <tr>\n",
       "      <th>renta</th>\n",
       "      <td>87218.1</td>\n",
       "      <td>35548.7</td>\n",
       "      <td>122179</td>\n",
       "      <td>119776</td>\n",
       "      <td>NaN</td>\n",
       "    </tr>\n",
       "    <tr>\n",
       "      <th>segmento</th>\n",
       "      <td>02 - PARTICULARES</td>\n",
       "      <td>03 - UNIVERSITARIO</td>\n",
       "      <td>03 - UNIVERSITARIO</td>\n",
       "      <td>03 - UNIVERSITARIO</td>\n",
       "      <td>03 - UNIVERSITARIO</td>\n",
       "    </tr>\n",
       "    <tr>\n",
       "      <th>ind_ahor_fin_ult1</th>\n",
       "      <td>0</td>\n",
       "      <td>0</td>\n",
       "      <td>0</td>\n",
       "      <td>0</td>\n",
       "      <td>0</td>\n",
       "    </tr>\n",
       "    <tr>\n",
       "      <th>ind_aval_fin_ult1</th>\n",
       "      <td>0</td>\n",
       "      <td>0</td>\n",
       "      <td>0</td>\n",
       "      <td>0</td>\n",
       "      <td>0</td>\n",
       "    </tr>\n",
       "    <tr>\n",
       "      <th>ind_cco_fin_ult1</th>\n",
       "      <td>1</td>\n",
       "      <td>1</td>\n",
       "      <td>1</td>\n",
       "      <td>0</td>\n",
       "      <td>1</td>\n",
       "    </tr>\n",
       "    <tr>\n",
       "      <th>ind_cder_fin_ult1</th>\n",
       "      <td>0</td>\n",
       "      <td>0</td>\n",
       "      <td>0</td>\n",
       "      <td>0</td>\n",
       "      <td>0</td>\n",
       "    </tr>\n",
       "    <tr>\n",
       "      <th>ind_cno_fin_ult1</th>\n",
       "      <td>0</td>\n",
       "      <td>0</td>\n",
       "      <td>0</td>\n",
       "      <td>0</td>\n",
       "      <td>0</td>\n",
       "    </tr>\n",
       "    <tr>\n",
       "      <th>ind_ctju_fin_ult1</th>\n",
       "      <td>0</td>\n",
       "      <td>0</td>\n",
       "      <td>0</td>\n",
       "      <td>0</td>\n",
       "      <td>0</td>\n",
       "    </tr>\n",
       "    <tr>\n",
       "      <th>ind_ctma_fin_ult1</th>\n",
       "      <td>0</td>\n",
       "      <td>0</td>\n",
       "      <td>0</td>\n",
       "      <td>0</td>\n",
       "      <td>0</td>\n",
       "    </tr>\n",
       "    <tr>\n",
       "      <th>ind_ctop_fin_ult1</th>\n",
       "      <td>0</td>\n",
       "      <td>0</td>\n",
       "      <td>0</td>\n",
       "      <td>0</td>\n",
       "      <td>0</td>\n",
       "    </tr>\n",
       "    <tr>\n",
       "      <th>ind_ctpp_fin_ult1</th>\n",
       "      <td>0</td>\n",
       "      <td>0</td>\n",
       "      <td>0</td>\n",
       "      <td>0</td>\n",
       "      <td>0</td>\n",
       "    </tr>\n",
       "    <tr>\n",
       "      <th>ind_deco_fin_ult1</th>\n",
       "      <td>0</td>\n",
       "      <td>0</td>\n",
       "      <td>0</td>\n",
       "      <td>1</td>\n",
       "      <td>0</td>\n",
       "    </tr>\n",
       "    <tr>\n",
       "      <th>ind_deme_fin_ult1</th>\n",
       "      <td>0</td>\n",
       "      <td>0</td>\n",
       "      <td>0</td>\n",
       "      <td>0</td>\n",
       "      <td>0</td>\n",
       "    </tr>\n",
       "    <tr>\n",
       "      <th>ind_dela_fin_ult1</th>\n",
       "      <td>0</td>\n",
       "      <td>0</td>\n",
       "      <td>0</td>\n",
       "      <td>0</td>\n",
       "      <td>0</td>\n",
       "    </tr>\n",
       "    <tr>\n",
       "      <th>ind_ecue_fin_ult1</th>\n",
       "      <td>0</td>\n",
       "      <td>0</td>\n",
       "      <td>0</td>\n",
       "      <td>0</td>\n",
       "      <td>0</td>\n",
       "    </tr>\n",
       "    <tr>\n",
       "      <th>ind_fond_fin_ult1</th>\n",
       "      <td>0</td>\n",
       "      <td>0</td>\n",
       "      <td>0</td>\n",
       "      <td>0</td>\n",
       "      <td>0</td>\n",
       "    </tr>\n",
       "    <tr>\n",
       "      <th>ind_hip_fin_ult1</th>\n",
       "      <td>0</td>\n",
       "      <td>0</td>\n",
       "      <td>0</td>\n",
       "      <td>0</td>\n",
       "      <td>0</td>\n",
       "    </tr>\n",
       "    <tr>\n",
       "      <th>ind_plan_fin_ult1</th>\n",
       "      <td>0</td>\n",
       "      <td>0</td>\n",
       "      <td>0</td>\n",
       "      <td>0</td>\n",
       "      <td>0</td>\n",
       "    </tr>\n",
       "    <tr>\n",
       "      <th>ind_pres_fin_ult1</th>\n",
       "      <td>0</td>\n",
       "      <td>0</td>\n",
       "      <td>0</td>\n",
       "      <td>0</td>\n",
       "      <td>0</td>\n",
       "    </tr>\n",
       "    <tr>\n",
       "      <th>ind_reca_fin_ult1</th>\n",
       "      <td>0</td>\n",
       "      <td>0</td>\n",
       "      <td>0</td>\n",
       "      <td>0</td>\n",
       "      <td>0</td>\n",
       "    </tr>\n",
       "    <tr>\n",
       "      <th>ind_tjcr_fin_ult1</th>\n",
       "      <td>0</td>\n",
       "      <td>0</td>\n",
       "      <td>0</td>\n",
       "      <td>0</td>\n",
       "      <td>0</td>\n",
       "    </tr>\n",
       "    <tr>\n",
       "      <th>ind_valo_fin_ult1</th>\n",
       "      <td>0</td>\n",
       "      <td>0</td>\n",
       "      <td>0</td>\n",
       "      <td>0</td>\n",
       "      <td>0</td>\n",
       "    </tr>\n",
       "    <tr>\n",
       "      <th>ind_viv_fin_ult1</th>\n",
       "      <td>0</td>\n",
       "      <td>0</td>\n",
       "      <td>0</td>\n",
       "      <td>0</td>\n",
       "      <td>0</td>\n",
       "    </tr>\n",
       "    <tr>\n",
       "      <th>ind_nomina_ult1</th>\n",
       "      <td>0</td>\n",
       "      <td>0</td>\n",
       "      <td>0</td>\n",
       "      <td>0</td>\n",
       "      <td>0</td>\n",
       "    </tr>\n",
       "    <tr>\n",
       "      <th>ind_nom_pens_ult1</th>\n",
       "      <td>0</td>\n",
       "      <td>0</td>\n",
       "      <td>0</td>\n",
       "      <td>0</td>\n",
       "      <td>0</td>\n",
       "    </tr>\n",
       "    <tr>\n",
       "      <th>ind_recibo_ult1</th>\n",
       "      <td>0</td>\n",
       "      <td>0</td>\n",
       "      <td>0</td>\n",
       "      <td>0</td>\n",
       "      <td>0</td>\n",
       "    </tr>\n",
       "  </tbody>\n",
       "</table>\n",
       "</div>"
      ],
      "text/plain": [
       "                                       0                   1  \\\n",
       "fecha_dato                    2015-01-28          2015-01-28   \n",
       "ncodpers                         1375586             1050611   \n",
       "ind_empleado                           N                   N   \n",
       "pais_residencia                       ES                  ES   \n",
       "sexo                                   H                   V   \n",
       "age                                   35                  23   \n",
       "fecha_alta                    2015-01-12          2012-08-10   \n",
       "ind_nuevo                              0                   0   \n",
       "antiguedad                             6                  35   \n",
       "indrel                                 1                   1   \n",
       "ult_fec_cli_1t                       NaN                 NaN   \n",
       "indrel_1mes                          1.0                   1   \n",
       "tiprel_1mes                            A                   I   \n",
       "indresi                                S                   S   \n",
       "indext                                 N                   S   \n",
       "conyuemp                             NaN                 NaN   \n",
       "canal_entrada                        KHL                 KHE   \n",
       "indfall                                N                   N   \n",
       "tipodom                                1                   1   \n",
       "cod_prov                              29                  13   \n",
       "nomprov                           MALAGA         CIUDAD REAL   \n",
       "ind_actividad_cliente                  1                   0   \n",
       "renta                            87218.1             35548.7   \n",
       "segmento               02 - PARTICULARES  03 - UNIVERSITARIO   \n",
       "ind_ahor_fin_ult1                      0                   0   \n",
       "ind_aval_fin_ult1                      0                   0   \n",
       "ind_cco_fin_ult1                       1                   1   \n",
       "ind_cder_fin_ult1                      0                   0   \n",
       "ind_cno_fin_ult1                       0                   0   \n",
       "ind_ctju_fin_ult1                      0                   0   \n",
       "ind_ctma_fin_ult1                      0                   0   \n",
       "ind_ctop_fin_ult1                      0                   0   \n",
       "ind_ctpp_fin_ult1                      0                   0   \n",
       "ind_deco_fin_ult1                      0                   0   \n",
       "ind_deme_fin_ult1                      0                   0   \n",
       "ind_dela_fin_ult1                      0                   0   \n",
       "ind_ecue_fin_ult1                      0                   0   \n",
       "ind_fond_fin_ult1                      0                   0   \n",
       "ind_hip_fin_ult1                       0                   0   \n",
       "ind_plan_fin_ult1                      0                   0   \n",
       "ind_pres_fin_ult1                      0                   0   \n",
       "ind_reca_fin_ult1                      0                   0   \n",
       "ind_tjcr_fin_ult1                      0                   0   \n",
       "ind_valo_fin_ult1                      0                   0   \n",
       "ind_viv_fin_ult1                       0                   0   \n",
       "ind_nomina_ult1                        0                   0   \n",
       "ind_nom_pens_ult1                      0                   0   \n",
       "ind_recibo_ult1                        0                   0   \n",
       "\n",
       "                                        2                   3  \\\n",
       "fecha_dato                     2015-01-28          2015-01-28   \n",
       "ncodpers                          1050612             1050613   \n",
       "ind_empleado                            N                   N   \n",
       "pais_residencia                        ES                  ES   \n",
       "sexo                                    V                   H   \n",
       "age                                    23                  22   \n",
       "fecha_alta                     2012-08-10          2012-08-10   \n",
       "ind_nuevo                               0                   0   \n",
       "antiguedad                             35                  35   \n",
       "indrel                                  1                   1   \n",
       "ult_fec_cli_1t                        NaN                 NaN   \n",
       "indrel_1mes                             1                   1   \n",
       "tiprel_1mes                             I                   I   \n",
       "indresi                                 S                   S   \n",
       "indext                                  N                   N   \n",
       "conyuemp                              NaN                 NaN   \n",
       "canal_entrada                         KHE                 KHD   \n",
       "indfall                                 N                   N   \n",
       "tipodom                                 1                   1   \n",
       "cod_prov                               13                  50   \n",
       "nomprov                       CIUDAD REAL            ZARAGOZA   \n",
       "ind_actividad_cliente                   0                   0   \n",
       "renta                              122179              119776   \n",
       "segmento               03 - UNIVERSITARIO  03 - UNIVERSITARIO   \n",
       "ind_ahor_fin_ult1                       0                   0   \n",
       "ind_aval_fin_ult1                       0                   0   \n",
       "ind_cco_fin_ult1                        1                   0   \n",
       "ind_cder_fin_ult1                       0                   0   \n",
       "ind_cno_fin_ult1                        0                   0   \n",
       "ind_ctju_fin_ult1                       0                   0   \n",
       "ind_ctma_fin_ult1                       0                   0   \n",
       "ind_ctop_fin_ult1                       0                   0   \n",
       "ind_ctpp_fin_ult1                       0                   0   \n",
       "ind_deco_fin_ult1                       0                   1   \n",
       "ind_deme_fin_ult1                       0                   0   \n",
       "ind_dela_fin_ult1                       0                   0   \n",
       "ind_ecue_fin_ult1                       0                   0   \n",
       "ind_fond_fin_ult1                       0                   0   \n",
       "ind_hip_fin_ult1                        0                   0   \n",
       "ind_plan_fin_ult1                       0                   0   \n",
       "ind_pres_fin_ult1                       0                   0   \n",
       "ind_reca_fin_ult1                       0                   0   \n",
       "ind_tjcr_fin_ult1                       0                   0   \n",
       "ind_valo_fin_ult1                       0                   0   \n",
       "ind_viv_fin_ult1                        0                   0   \n",
       "ind_nomina_ult1                         0                   0   \n",
       "ind_nom_pens_ult1                       0                   0   \n",
       "ind_recibo_ult1                         0                   0   \n",
       "\n",
       "                                        4  \n",
       "fecha_dato                     2015-01-28  \n",
       "ncodpers                          1050614  \n",
       "ind_empleado                            N  \n",
       "pais_residencia                        ES  \n",
       "sexo                                    V  \n",
       "age                                    23  \n",
       "fecha_alta                     2012-08-10  \n",
       "ind_nuevo                               0  \n",
       "antiguedad                             35  \n",
       "indrel                                  1  \n",
       "ult_fec_cli_1t                        NaN  \n",
       "indrel_1mes                             1  \n",
       "tiprel_1mes                             A  \n",
       "indresi                                 S  \n",
       "indext                                  N  \n",
       "conyuemp                              NaN  \n",
       "canal_entrada                         KHE  \n",
       "indfall                                 N  \n",
       "tipodom                                 1  \n",
       "cod_prov                               50  \n",
       "nomprov                          ZARAGOZA  \n",
       "ind_actividad_cliente                   1  \n",
       "renta                                 NaN  \n",
       "segmento               03 - UNIVERSITARIO  \n",
       "ind_ahor_fin_ult1                       0  \n",
       "ind_aval_fin_ult1                       0  \n",
       "ind_cco_fin_ult1                        1  \n",
       "ind_cder_fin_ult1                       0  \n",
       "ind_cno_fin_ult1                        0  \n",
       "ind_ctju_fin_ult1                       0  \n",
       "ind_ctma_fin_ult1                       0  \n",
       "ind_ctop_fin_ult1                       0  \n",
       "ind_ctpp_fin_ult1                       0  \n",
       "ind_deco_fin_ult1                       0  \n",
       "ind_deme_fin_ult1                       0  \n",
       "ind_dela_fin_ult1                       0  \n",
       "ind_ecue_fin_ult1                       0  \n",
       "ind_fond_fin_ult1                       0  \n",
       "ind_hip_fin_ult1                        0  \n",
       "ind_plan_fin_ult1                       0  \n",
       "ind_pres_fin_ult1                       0  \n",
       "ind_reca_fin_ult1                       0  \n",
       "ind_tjcr_fin_ult1                       0  \n",
       "ind_valo_fin_ult1                       0  \n",
       "ind_viv_fin_ult1                        0  \n",
       "ind_nomina_ult1                         0  \n",
       "ind_nom_pens_ult1                       0  \n",
       "ind_recibo_ult1                         0  "
      ]
     },
     "execution_count": 3,
     "metadata": {},
     "output_type": "execute_result"
    }
   ],
   "source": [
    "tr.head().T"
   ]
  },
  {
   "cell_type": "code",
   "execution_count": 4,
   "metadata": {
    "collapsed": false
   },
   "outputs": [
    {
     "data": {
      "text/plain": [
       "fecha_dato                object\n",
       "ncodpers                   int64\n",
       "ind_empleado              object\n",
       "pais_residencia           object\n",
       "sexo                      object\n",
       "age                       object\n",
       "fecha_alta                object\n",
       "ind_nuevo                float64\n",
       "antiguedad                object\n",
       "indrel                   float64\n",
       "ult_fec_cli_1t            object\n",
       "indrel_1mes               object\n",
       "tiprel_1mes               object\n",
       "indresi                   object\n",
       "indext                    object\n",
       "conyuemp                  object\n",
       "canal_entrada             object\n",
       "indfall                   object\n",
       "tipodom                  float64\n",
       "cod_prov                 float64\n",
       "nomprov                   object\n",
       "ind_actividad_cliente    float64\n",
       "renta                    float64\n",
       "segmento                  object\n",
       "ind_ahor_fin_ult1          int64\n",
       "ind_aval_fin_ult1          int64\n",
       "ind_cco_fin_ult1           int64\n",
       "ind_cder_fin_ult1          int64\n",
       "ind_cno_fin_ult1           int64\n",
       "ind_ctju_fin_ult1          int64\n",
       "ind_ctma_fin_ult1          int64\n",
       "ind_ctop_fin_ult1          int64\n",
       "ind_ctpp_fin_ult1          int64\n",
       "ind_deco_fin_ult1          int64\n",
       "ind_deme_fin_ult1          int64\n",
       "ind_dela_fin_ult1          int64\n",
       "ind_ecue_fin_ult1          int64\n",
       "ind_fond_fin_ult1          int64\n",
       "ind_hip_fin_ult1           int64\n",
       "ind_plan_fin_ult1          int64\n",
       "ind_pres_fin_ult1          int64\n",
       "ind_reca_fin_ult1          int64\n",
       "ind_tjcr_fin_ult1          int64\n",
       "ind_valo_fin_ult1          int64\n",
       "ind_viv_fin_ult1           int64\n",
       "ind_nomina_ult1          float64\n",
       "ind_nom_pens_ult1        float64\n",
       "ind_recibo_ult1            int64\n",
       "dtype: object"
      ]
     },
     "execution_count": 4,
     "metadata": {},
     "output_type": "execute_result"
    }
   ],
   "source": [
    "tr.dtypes"
   ]
  },
  {
   "cell_type": "markdown",
   "metadata": {},
   "source": [
    "# Examine Each Feature"
   ]
  },
  {
   "cell_type": "markdown",
   "metadata": {},
   "source": [
    "## fecha_dato (measurement date)"
   ]
  },
  {
   "cell_type": "code",
   "execution_count": 5,
   "metadata": {
    "collapsed": false
   },
   "outputs": [
    {
     "name": "stdout",
     "output_type": "stream",
     "text": [
      "------------------------------ \n",
      "dtype:            object\n",
      "------------------------------ \n",
      "np.na count:      0\n",
      "------------------------------ \n",
      "np.na ratio:      0.0\n",
      "------------------------------ \n",
      "distinct values:  17\n",
      "------------------------------ \n",
      "top 10 values:\n",
      "2016-05-28    931453\n",
      "2016-04-28    928274\n",
      "2016-03-28    925076\n",
      "2016-02-28    920904\n",
      "2016-01-28    916269\n",
      "2015-12-28    912021\n",
      "2015-11-28    906109\n",
      "2015-10-28    892251\n",
      "2015-09-28    865440\n",
      "2015-08-28    843201\n",
      "Name: fecha_dato, dtype: int64\n",
      "------------------------------ \n",
      "bottom 10 values:\n",
      "2015-10-28    892251\n",
      "2015-09-28    865440\n",
      "2015-08-28    843201\n",
      "2015-07-28    829817\n",
      "2015-06-28    632110\n",
      "2015-05-28    631957\n",
      "2015-04-28    630367\n",
      "2015-03-28    629209\n",
      "2015-02-28    627394\n",
      "2015-01-28    625457\n",
      "Name: fecha_dato, dtype: int64\n",
      "------------------------------\n"
     ]
    }
   ],
   "source": [
    "col_name = 'fecha_dato'\n",
    "\n",
    "print '-' * 30, '\\n', 'dtype:           ', tr[col_name].dtype\n",
    "print '-' * 30, '\\n', 'np.na count:     ', tr[col_name].isnull().sum()\n",
    "print '-' * 30, '\\n', 'np.na ratio:     ', 1.0 * tr[col_name].isnull().sum() / len(tr)\n",
    "print '-' * 30, '\\n', 'distinct values: ', len(tr[col_name].value_counts())\n",
    "print '-' * 30, '\\n', 'top 10 values:'\n",
    "print tr[col_name].value_counts().head(10)\n",
    "print '-' * 30, '\\n', 'bottom 10 values:'\n",
    "print tr[col_name].value_counts().tail(10)\n",
    "print '-' * 30"
   ]
  },
  {
   "cell_type": "code",
   "execution_count": 6,
   "metadata": {
    "collapsed": false
   },
   "outputs": [
    {
     "data": {
      "image/png": "[encoded data removed]",
      "text/plain": [
       "<matplotlib.figure.Figure at 0x11d64f350>"
      ]
     },
     "metadata": {},
     "output_type": "display_data"
    }
   ],
   "source": [
    "_ = plt.figure(figsize=(12,6))\n",
    "tr.fecha_dato.value_counts().iloc[::-1].plot()\n",
    "_ = plt.ylim((0, 1000000))"
   ]
  },
  {
   "cell_type": "markdown",
   "metadata": {},
   "source": [
    "## ncodpers (customer code)"
   ]
  },
  {
   "cell_type": "code",
   "execution_count": 7,
   "metadata": {
    "collapsed": false
   },
   "outputs": [
    {
     "name": "stdout",
     "output_type": "stream",
     "text": [
      "------------------------------ \n",
      "dtype:            int64\n",
      "------------------------------ \n",
      "np.na count:      0\n",
      "------------------------------ \n",
      "np.na ratio:      0.0\n",
      "------------------------------ \n",
      "distinct values:  956645\n",
      "------------------------------ \n",
      "top 10 values:\n",
      "32752      17\n",
      "1273696    17\n",
      "1224536    17\n",
      "1199940    17\n",
      "1208128    17\n",
      "1150780    17\n",
      "1158968    17\n",
      "1117996    17\n",
      "1126184    17\n",
      "1134372    17\n",
      "Name: ncodpers, dtype: int64\n",
      "------------------------------ \n",
      "bottom 10 values:\n",
      "1550404    1\n",
      "1550297    1\n",
      "1468385    1\n",
      "1437091    1\n",
      "1534863    1\n",
      "1549150    1\n",
      "1543059    1\n",
      "1535935    1\n",
      "1551255    1\n",
      "1489485    1\n",
      "Name: ncodpers, dtype: int64\n",
      "------------------------------\n"
     ]
    }
   ],
   "source": [
    "col_name = 'ncodpers'\n",
    "\n",
    "print '-' * 30, '\\n', 'dtype:           ', tr[col_name].dtype\n",
    "print '-' * 30, '\\n', 'np.na count:     ', tr[col_name].isnull().sum()\n",
    "print '-' * 30, '\\n', 'np.na ratio:     ', 1.0 * tr[col_name].isnull().sum() / len(tr)\n",
    "print '-' * 30, '\\n', 'distinct values: ', len(tr[col_name].value_counts())\n",
    "print '-' * 30, '\\n', 'top 10 values:'\n",
    "print tr[col_name].value_counts().head(10)\n",
    "print '-' * 30, '\\n', 'bottom 10 values:'\n",
    "print tr[col_name].value_counts().tail(10)\n",
    "print '-' * 30"
   ]
  },
  {
   "cell_type": "code",
   "execution_count": 8,
   "metadata": {
    "collapsed": false
   },
   "outputs": [
    {
     "data": {
      "image/png": "[encoded data removed]",
      "text/plain": [
       "<matplotlib.figure.Figure at 0x167898dd0>"
      ]
     },
     "metadata": {},
     "output_type": "display_data"
    }
   ],
   "source": [
    "_ = plt.figure(figsize=(12,6))\n",
    "_ = plt.hist(tr.ncodpers.value_counts(), bins=16)\n",
    "_ = plt.xlim((0, 17))"
   ]
  },
  {
   "cell_type": "markdown",
   "metadata": {},
   "source": [
    "## ind_empleado (employment index)"
   ]
  },
  {
   "cell_type": "code",
   "execution_count": 9,
   "metadata": {
    "collapsed": false
   },
   "outputs": [
    {
     "name": "stdout",
     "output_type": "stream",
     "text": [
      "------------------------------ \n",
      "dtype:            object\n",
      "------------------------------ \n",
      "np.na count:      27734\n",
      "------------------------------ \n",
      "np.na ratio:      0.00203219550462\n",
      "------------------------------ \n",
      "distinct values:  5\n",
      "------------------------------ \n",
      "top 10 values:\n",
      "N    13610977\n",
      "B        3566\n",
      "F        2523\n",
      "A        2492\n",
      "S          17\n",
      "Name: ind_empleado, dtype: int64\n",
      "------------------------------ \n",
      "bottom 10 values:\n",
      "N    13610977\n",
      "B        3566\n",
      "F        2523\n",
      "A        2492\n",
      "S          17\n",
      "Name: ind_empleado, dtype: int64\n",
      "------------------------------\n"
     ]
    }
   ],
   "source": [
    "col_name = 'ind_empleado'\n",
    "\n",
    "print '-' * 30, '\\n', 'dtype:           ', tr[col_name].dtype\n",
    "print '-' * 30, '\\n', 'np.na count:     ', tr[col_name].isnull().sum()\n",
    "print '-' * 30, '\\n', 'np.na ratio:     ', 1.0 * tr[col_name].isnull().sum() / len(tr)\n",
    "print '-' * 30, '\\n', 'distinct values: ', len(tr[col_name].value_counts())\n",
    "print '-' * 30, '\\n', 'top 10 values:'\n",
    "print tr[col_name].value_counts().head(10)\n",
    "print '-' * 30, '\\n', 'bottom 10 values:'\n",
    "print tr[col_name].value_counts().tail(10)\n",
    "print '-' * 30"
   ]
  },
  {
   "cell_type": "raw",
   "metadata": {},
   "source": [
    "A : active\n",
    "B : ex employed\n",
    "F : filial\n",
    "N : not employee\n",
    "P : pasive"
   ]
  },
  {
   "cell_type": "markdown",
   "metadata": {},
   "source": [
    "## pais_residencia (country of residence)"
   ]
  },
  {
   "cell_type": "code",
   "execution_count": 10,
   "metadata": {
    "collapsed": false
   },
   "outputs": [
    {
     "name": "stdout",
     "output_type": "stream",
     "text": [
      "------------------------------ \n",
      "dtype:            object\n",
      "------------------------------ \n",
      "np.na count:      27734\n",
      "------------------------------ \n",
      "np.na ratio:      0.00203219550462\n",
      "------------------------------ \n",
      "distinct values:  118\n",
      "------------------------------ \n",
      "top 10 values:\n",
      "ES    13553710\n",
      "FR        5161\n",
      "AR        4835\n",
      "DE        4625\n",
      "GB        4605\n",
      "US        3651\n",
      "CO        3526\n",
      "IT        2947\n",
      "RO        2931\n",
      "MX        2573\n",
      "Name: pais_residencia, dtype: int64\n",
      "------------------------------ \n",
      "bottom 10 values:\n",
      "LV    17\n",
      "LY    17\n",
      "IS    17\n",
      "KH    17\n",
      "KW    17\n",
      "DJ    11\n",
      "ZW    11\n",
      "JM    11\n",
      "BM     6\n",
      "MT     2\n",
      "Name: pais_residencia, dtype: int64\n",
      "------------------------------\n"
     ]
    }
   ],
   "source": [
    "col_name = 'pais_residencia'\n",
    "\n",
    "print '-' * 30, '\\n', 'dtype:           ', tr[col_name].dtype\n",
    "print '-' * 30, '\\n', 'np.na count:     ', tr[col_name].isnull().sum()\n",
    "print '-' * 30, '\\n', 'np.na ratio:     ', 1.0 * tr[col_name].isnull().sum() / len(tr)\n",
    "print '-' * 30, '\\n', 'distinct values: ', len(tr[col_name].value_counts())\n",
    "print '-' * 30, '\\n', 'top 10 values:'\n",
    "print tr[col_name].value_counts().head(10)\n",
    "print '-' * 30, '\\n', 'bottom 10 values:'\n",
    "print tr[col_name].value_counts().tail(10)\n",
    "print '-' * 30"
   ]
  },
  {
   "cell_type": "markdown",
   "metadata": {},
   "source": [
    "## sexo (gender)"
   ]
  },
  {
   "cell_type": "code",
   "execution_count": 11,
   "metadata": {
    "collapsed": false
   },
   "outputs": [
    {
     "name": "stdout",
     "output_type": "stream",
     "text": [
      "------------------------------ \n",
      "dtype:            object\n",
      "------------------------------ \n",
      "np.na count:      27804\n",
      "------------------------------ \n",
      "np.na ratio:      0.00203732472094\n",
      "------------------------------ \n",
      "distinct values:  2\n",
      "------------------------------ \n",
      "top 10 values:\n",
      "V    7424252\n",
      "H    6195253\n",
      "Name: sexo, dtype: int64\n",
      "------------------------------ \n",
      "bottom 10 values:\n",
      "V    7424252\n",
      "H    6195253\n",
      "Name: sexo, dtype: int64\n",
      "------------------------------\n"
     ]
    }
   ],
   "source": [
    "col_name = 'sexo'\n",
    "\n",
    "print '-' * 30, '\\n', 'dtype:           ', tr[col_name].dtype\n",
    "print '-' * 30, '\\n', 'np.na count:     ', tr[col_name].isnull().sum()\n",
    "print '-' * 30, '\\n', 'np.na ratio:     ', 1.0 * tr[col_name].isnull().sum() / len(tr)\n",
    "print '-' * 30, '\\n', 'distinct values: ', len(tr[col_name].value_counts())\n",
    "print '-' * 30, '\\n', 'top 10 values:'\n",
    "print tr[col_name].value_counts().head(10)\n",
    "print '-' * 30, '\\n', 'bottom 10 values:'\n",
    "print tr[col_name].value_counts().tail(10)\n",
    "print '-' * 30"
   ]
  },
  {
   "cell_type": "markdown",
   "metadata": {},
   "source": [
    "## age"
   ]
  },
  {
   "cell_type": "code",
   "execution_count": 12,
   "metadata": {
    "collapsed": false
   },
   "outputs": [
    {
     "name": "stdout",
     "output_type": "stream",
     "text": [
      "------------------------------ \n",
      "dtype:            object\n",
      "------------------------------ \n",
      "np.na count:      0\n",
      "------------------------------ \n",
      "np.na ratio:      0.0\n",
      "------------------------------ \n",
      "distinct values:  121\n",
      "------------------------------ \n",
      "top 10 values:\n",
      " 23    779884\n",
      " 22    736314\n",
      " 24    734785\n",
      " 21    675988\n",
      " 25    472016\n",
      " 20    422867\n",
      " 26    347778\n",
      " 43    324303\n",
      " 44    322955\n",
      " 42    319713\n",
      "Name: age, dtype: int64\n",
      "------------------------------ \n",
      "bottom 10 values:\n",
      "112    188\n",
      "113    117\n",
      "115     82\n",
      "116     63\n",
      "114     22\n",
      "117     14\n",
      "163      8\n",
      "127      8\n",
      "126      3\n",
      "164      3\n",
      "Name: age, dtype: int64\n",
      "------------------------------\n"
     ]
    }
   ],
   "source": [
    "col_name = 'age'\n",
    "\n",
    "print '-' * 30, '\\n', 'dtype:           ', tr[col_name].dtype\n",
    "print '-' * 30, '\\n', 'np.na count:     ', tr[col_name].isnull().sum()\n",
    "print '-' * 30, '\\n', 'np.na ratio:     ', 1.0 * tr[col_name].isnull().sum() / len(tr)\n",
    "print '-' * 30, '\\n', 'distinct values: ', len(tr[col_name].value_counts())\n",
    "print '-' * 30, '\\n', 'top 10 values:'\n",
    "print tr[col_name].value_counts().head(10)\n",
    "print '-' * 30, '\\n', 'bottom 10 values:'\n",
    "print tr[col_name].value_counts().tail(10)\n",
    "print '-' * 30"
   ]
  },
  {
   "cell_type": "code",
   "execution_count": 13,
   "metadata": {
    "collapsed": true
   },
   "outputs": [],
   "source": [
    "def fix_number(x):\n",
    "    try:\n",
    "        return int(x)\n",
    "    except:\n",
    "        return np.nan"
   ]
  },
  {
   "cell_type": "code",
   "execution_count": 14,
   "metadata": {
    "collapsed": false
   },
   "outputs": [],
   "source": [
    "tr.age = tr.age.apply(fix_number)"
   ]
  },
  {
   "cell_type": "code",
   "execution_count": 15,
   "metadata": {
    "collapsed": false
   },
   "outputs": [
    {
     "name": "stdout",
     "output_type": "stream",
     "text": [
      "------------------------------ \n",
      "dtype:            float64\n",
      "------------------------------ \n",
      "np.na count:      27734\n",
      "------------------------------ \n",
      "np.na ratio:      0.00203219550462\n",
      "------------------------------ \n",
      "distinct values:  120\n",
      "------------------------------ \n",
      "top 10 values:\n",
      "23.0    779884\n",
      "22.0    736314\n",
      "24.0    734785\n",
      "21.0    675988\n",
      "25.0    472016\n",
      "20.0    422867\n",
      "26.0    347778\n",
      "43.0    324303\n",
      "44.0    322955\n",
      "42.0    319713\n",
      "Name: age, dtype: int64\n",
      "------------------------------ \n",
      "bottom 10 values:\n",
      "112.0    188\n",
      "113.0    117\n",
      "115.0     82\n",
      "116.0     63\n",
      "114.0     22\n",
      "117.0     14\n",
      "163.0      8\n",
      "127.0      8\n",
      "126.0      3\n",
      "164.0      3\n",
      "Name: age, dtype: int64\n",
      "------------------------------\n"
     ]
    }
   ],
   "source": [
    "col_name = 'age'\n",
    "\n",
    "print '-' * 30, '\\n', 'dtype:           ', tr[col_name].dtype\n",
    "print '-' * 30, '\\n', 'np.na count:     ', tr[col_name].isnull().sum()\n",
    "print '-' * 30, '\\n', 'np.na ratio:     ', 1.0 * tr[col_name].isnull().sum() / len(tr)\n",
    "print '-' * 30, '\\n', 'distinct values: ', len(tr[col_name].value_counts())\n",
    "print '-' * 30, '\\n', 'top 10 values:'\n",
    "print tr[col_name].value_counts().head(10)\n",
    "print '-' * 30, '\\n', 'bottom 10 values:'\n",
    "print tr[col_name].value_counts().tail(10)\n",
    "print '-' * 30"
   ]
  },
  {
   "cell_type": "code",
   "execution_count": 16,
   "metadata": {
    "collapsed": false
   },
   "outputs": [
    {
     "data": {
      "text/plain": [
       "count    1.361958e+07\n",
       "mean     4.018146e+01\n",
       "std      1.718509e+01\n",
       "min      2.000000e+00\n",
       "25%      2.400000e+01\n",
       "50%      3.900000e+01\n",
       "75%      5.000000e+01\n",
       "max      1.640000e+02\n",
       "Name: age, dtype: float64"
      ]
     },
     "execution_count": 16,
     "metadata": {},
     "output_type": "execute_result"
    }
   ],
   "source": [
    "tr.age.dropna().describe()"
   ]
  },
  {
   "cell_type": "code",
   "execution_count": 17,
   "metadata": {
    "collapsed": false
   },
   "outputs": [
    {
     "data": {
      "image/png": "[encoded data removed]",
      "text/plain": [
       "<matplotlib.figure.Figure at 0x10c3206d0>"
      ]
     },
     "metadata": {},
     "output_type": "display_data"
    }
   ],
   "source": [
    "_ = plt.figure(figsize=(12,6))\n",
    "_ = plt.hist(tr.groupby('ncodpers').first().age.dropna(), bins=60)\n",
    "_ = plt.xlim((0, 120))"
   ]
  },
  {
   "cell_type": "markdown",
   "metadata": {},
   "source": [
    "## fecha_alta (date of becoming a customer)"
   ]
  },
  {
   "cell_type": "code",
   "execution_count": 18,
   "metadata": {
    "collapsed": false
   },
   "outputs": [
    {
     "name": "stdout",
     "output_type": "stream",
     "text": [
      "------------------------------ \n",
      "dtype:            object\n",
      "------------------------------ \n",
      "np.na count:      27734\n",
      "------------------------------ \n",
      "np.na ratio:      0.00203219550462\n",
      "------------------------------ \n",
      "distinct values:  6756\n",
      "------------------------------ \n",
      "top 10 values:\n",
      "2014-07-28    57389\n",
      "2014-10-03    54287\n",
      "2014-08-04    45746\n",
      "2013-10-14    40804\n",
      "2013-08-03    33414\n",
      "2012-08-06    26223\n",
      "2014-07-21    26027\n",
      "2012-08-03    25409\n",
      "2012-08-02    25004\n",
      "2013-10-11    24751\n",
      "Name: fecha_alta, dtype: int64\n",
      "------------------------------ \n",
      "bottom 10 values:\n",
      "2013-08-17    11\n",
      "2005-07-31    11\n",
      "2014-08-10    11\n",
      "1995-04-23    11\n",
      "2013-06-15    11\n",
      "2009-09-13    11\n",
      "2015-05-31     9\n",
      "2014-05-01     7\n",
      "2010-07-04     4\n",
      "2009-12-25     4\n",
      "Name: fecha_alta, dtype: int64\n",
      "------------------------------\n"
     ]
    }
   ],
   "source": [
    "col_name = 'fecha_alta'\n",
    "\n",
    "print '-' * 30, '\\n', 'dtype:           ', tr[col_name].dtype\n",
    "print '-' * 30, '\\n', 'np.na count:     ', tr[col_name].isnull().sum()\n",
    "print '-' * 30, '\\n', 'np.na ratio:     ', 1.0 * tr[col_name].isnull().sum() / len(tr)\n",
    "print '-' * 30, '\\n', 'distinct values: ', len(tr[col_name].value_counts())\n",
    "print '-' * 30, '\\n', 'top 10 values:'\n",
    "print tr[col_name].value_counts().head(10)\n",
    "print '-' * 30, '\\n', 'bottom 10 values:'\n",
    "print tr[col_name].value_counts().tail(10)\n",
    "print '-' * 30"
   ]
  },
  {
   "cell_type": "markdown",
   "metadata": {},
   "source": [
    "## ind_nuevo (new customer indicator)"
   ]
  },
  {
   "cell_type": "code",
   "execution_count": 19,
   "metadata": {
    "collapsed": false
   },
   "outputs": [
    {
     "name": "stdout",
     "output_type": "stream",
     "text": [
      "------------------------------ \n",
      "dtype:            float64\n",
      "------------------------------ \n",
      "np.na count:      27734\n",
      "------------------------------ \n",
      "np.na ratio:      0.00203219550462\n",
      "------------------------------ \n",
      "distinct values:  2\n",
      "------------------------------ \n",
      "top 10 values:\n",
      "0.0    12808368\n",
      "1.0      811207\n",
      "Name: ind_nuevo, dtype: int64\n",
      "------------------------------ \n",
      "bottom 10 values:\n",
      "0.0    12808368\n",
      "1.0      811207\n",
      "Name: ind_nuevo, dtype: int64\n",
      "------------------------------\n"
     ]
    }
   ],
   "source": [
    "col_name = 'ind_nuevo'\n",
    "\n",
    "print '-' * 30, '\\n', 'dtype:           ', tr[col_name].dtype\n",
    "print '-' * 30, '\\n', 'np.na count:     ', tr[col_name].isnull().sum()\n",
    "print '-' * 30, '\\n', 'np.na ratio:     ', 1.0 * tr[col_name].isnull().sum() / len(tr)\n",
    "print '-' * 30, '\\n', 'distinct values: ', len(tr[col_name].value_counts())\n",
    "print '-' * 30, '\\n', 'top 10 values:'\n",
    "print tr[col_name].value_counts().head(10)\n",
    "print '-' * 30, '\\n', 'bottom 10 values:'\n",
    "print tr[col_name].value_counts().tail(10)\n",
    "print '-' * 30"
   ]
  },
  {
   "cell_type": "markdown",
   "metadata": {},
   "source": [
    "## antiguedad (customer seniority in months)"
   ]
  },
  {
   "cell_type": "code",
   "execution_count": 20,
   "metadata": {
    "collapsed": false
   },
   "outputs": [
    {
     "name": "stdout",
     "output_type": "stream",
     "text": [
      "------------------------------ \n",
      "dtype:            object\n",
      "------------------------------ \n",
      "np.na count:      0\n",
      "------------------------------ \n",
      "np.na ratio:      0.0\n",
      "------------------------------ \n",
      "distinct values:  259\n",
      "------------------------------ \n",
      "top 10 values:\n",
      "     12    243160\n",
      "     21    214795\n",
      "     10    206165\n",
      "      9    177957\n",
      "     23    177839\n",
      "     33    174352\n",
      "     45    168847\n",
      "     24    167059\n",
      "     36    164425\n",
      "      8    155703\n",
      "Name: antiguedad, dtype: int64\n",
      "------------------------------ \n",
      "bottom 10 values:\n",
      "    248    2271\n",
      "    249    1777\n",
      "    250    1512\n",
      "    251    1071\n",
      "    252     676\n",
      "    253     416\n",
      "    254     261\n",
      "    255     179\n",
      "    256     102\n",
      "-999999      38\n",
      "Name: antiguedad, dtype: int64\n",
      "------------------------------\n"
     ]
    }
   ],
   "source": [
    "col_name = 'antiguedad'\n",
    "\n",
    "print '-' * 30, '\\n', 'dtype:           ', tr[col_name].dtype\n",
    "print '-' * 30, '\\n', 'np.na count:     ', tr[col_name].isnull().sum()\n",
    "print '-' * 30, '\\n', 'np.na ratio:     ', 1.0 * tr[col_name].isnull().sum() / len(tr)\n",
    "print '-' * 30, '\\n', 'distinct values: ', len(tr[col_name].value_counts())\n",
    "print '-' * 30, '\\n', 'top 10 values:'\n",
    "print tr[col_name].value_counts().head(10)\n",
    "print '-' * 30, '\\n', 'bottom 10 values:'\n",
    "print tr[col_name].value_counts().tail(10)\n",
    "print '-' * 30"
   ]
  },
  {
   "cell_type": "code",
   "execution_count": 21,
   "metadata": {
    "collapsed": true
   },
   "outputs": [],
   "source": [
    "tr.antiguedad = tr.antiguedad.apply(fix_number)\n",
    "tr.loc[tr.antiguedad < 0, 'antiguedad'] = np.nan"
   ]
  },
  {
   "cell_type": "code",
   "execution_count": 22,
   "metadata": {
    "collapsed": false
   },
   "outputs": [
    {
     "name": "stdout",
     "output_type": "stream",
     "text": [
      "------------------------------ \n",
      "dtype:            float64\n",
      "------------------------------ \n",
      "np.na count:      27772\n",
      "------------------------------ \n",
      "np.na ratio:      0.00203497993634\n",
      "------------------------------ \n",
      "distinct values:  257\n",
      "------------------------------ \n",
      "top 10 values:\n",
      "12.0    243160\n",
      "21.0    214795\n",
      "10.0    206165\n",
      "9.0     177957\n",
      "23.0    177839\n",
      "33.0    174352\n",
      "45.0    168847\n",
      "24.0    167059\n",
      "36.0    164425\n",
      "8.0     155703\n",
      "Name: antiguedad, dtype: int64\n",
      "------------------------------ \n",
      "bottom 10 values:\n",
      "247.0    3516\n",
      "248.0    2271\n",
      "249.0    1777\n",
      "250.0    1512\n",
      "251.0    1071\n",
      "252.0     676\n",
      "253.0     416\n",
      "254.0     261\n",
      "255.0     179\n",
      "256.0     102\n",
      "Name: antiguedad, dtype: int64\n",
      "------------------------------\n"
     ]
    }
   ],
   "source": [
    "col_name = 'antiguedad'\n",
    "\n",
    "print '-' * 30, '\\n', 'dtype:           ', tr[col_name].dtype\n",
    "print '-' * 30, '\\n', 'np.na count:     ', tr[col_name].isnull().sum()\n",
    "print '-' * 30, '\\n', 'np.na ratio:     ', 1.0 * tr[col_name].isnull().sum() / len(tr)\n",
    "print '-' * 30, '\\n', 'distinct values: ', len(tr[col_name].value_counts())\n",
    "print '-' * 30, '\\n', 'top 10 values:'\n",
    "print tr[col_name].value_counts().head(10)\n",
    "print '-' * 30, '\\n', 'bottom 10 values:'\n",
    "print tr[col_name].value_counts().tail(10)\n",
    "print '-' * 30"
   ]
  },
  {
   "cell_type": "code",
   "execution_count": 23,
   "metadata": {
    "collapsed": false
   },
   "outputs": [
    {
     "data": {
      "text/plain": [
       "count    1.361954e+07\n",
       "mean     7.938226e+01\n",
       "std      6.637447e+01\n",
       "min      0.000000e+00\n",
       "25%      2.300000e+01\n",
       "50%      5.000000e+01\n",
       "75%      1.350000e+02\n",
       "max      2.560000e+02\n",
       "Name: antiguedad, dtype: float64"
      ]
     },
     "execution_count": 23,
     "metadata": {},
     "output_type": "execute_result"
    }
   ],
   "source": [
    "tr.antiguedad.dropna().describe()"
   ]
  },
  {
   "cell_type": "code",
   "execution_count": 24,
   "metadata": {
    "collapsed": false
   },
   "outputs": [
    {
     "data": {
      "image/png": "[encoded data removed]",
      "text/plain": [
       "<matplotlib.figure.Figure at 0x11d64f190>"
      ]
     },
     "metadata": {},
     "output_type": "display_data"
    }
   ],
   "source": [
    "_ = plt.figure(figsize=(12,6))\n",
    "_ = plt.hist(tr.groupby('ncodpers').first().antiguedad.dropna(), bins=60)"
   ]
  },
  {
   "cell_type": "markdown",
   "metadata": {},
   "source": [
    "## indrel (primary customer indicator)"
   ]
  },
  {
   "cell_type": "code",
   "execution_count": 25,
   "metadata": {
    "collapsed": false
   },
   "outputs": [
    {
     "name": "stdout",
     "output_type": "stream",
     "text": [
      "------------------------------ \n",
      "dtype:            float64\n",
      "------------------------------ \n",
      "np.na count:      27734\n",
      "------------------------------ \n",
      "np.na ratio:      0.00203219550462\n",
      "------------------------------ \n",
      "distinct values:  2\n",
      "------------------------------ \n",
      "top 10 values:\n",
      "1.0     13594782\n",
      "99.0       24793\n",
      "Name: indrel, dtype: int64\n",
      "------------------------------ \n",
      "bottom 10 values:\n",
      "1.0     13594782\n",
      "99.0       24793\n",
      "Name: indrel, dtype: int64\n",
      "------------------------------\n"
     ]
    }
   ],
   "source": [
    "col_name = 'indrel'\n",
    "\n",
    "print '-' * 30, '\\n', 'dtype:           ', tr[col_name].dtype\n",
    "print '-' * 30, '\\n', 'np.na count:     ', tr[col_name].isnull().sum()\n",
    "print '-' * 30, '\\n', 'np.na ratio:     ', 1.0 * tr[col_name].isnull().sum() / len(tr)\n",
    "print '-' * 30, '\\n', 'distinct values: ', len(tr[col_name].value_counts())\n",
    "print '-' * 30, '\\n', 'top 10 values:'\n",
    "print tr[col_name].value_counts().head(10)\n",
    "print '-' * 30, '\\n', 'bottom 10 values:'\n",
    "print tr[col_name].value_counts().tail(10)\n",
    "print '-' * 30"
   ]
  },
  {
   "cell_type": "raw",
   "metadata": {},
   "source": [
    "1  : primary customer\n",
    "99 : primary customer during the month but not at the end of the month"
   ]
  },
  {
   "cell_type": "markdown",
   "metadata": {},
   "source": [
    "## ult_fec_cli_1t (last date as primary customer if he isn't at the end of the month)"
   ]
  },
  {
   "cell_type": "code",
   "execution_count": 26,
   "metadata": {
    "collapsed": false
   },
   "outputs": [
    {
     "name": "stdout",
     "output_type": "stream",
     "text": [
      "------------------------------ \n",
      "dtype:            object\n",
      "------------------------------ \n",
      "np.na count:      13622516\n",
      "------------------------------ \n",
      "np.na ratio:      0.998183304855\n",
      "------------------------------ \n",
      "distinct values:  223\n",
      "------------------------------ \n",
      "top 10 values:\n",
      "2015-12-24    763\n",
      "2015-12-28    521\n",
      "2015-07-09    443\n",
      "2015-07-06    405\n",
      "2015-07-01    401\n",
      "2015-07-21    391\n",
      "2015-07-07    340\n",
      "2015-07-17    330\n",
      "2015-07-10    320\n",
      "2015-07-28    311\n",
      "Name: ult_fec_cli_1t, dtype: int64\n",
      "------------------------------ \n",
      "bottom 10 values:\n",
      "2016-03-07    55\n",
      "2015-11-06    54\n",
      "2015-08-14    51\n",
      "2016-03-24    49\n",
      "2016-03-23    46\n",
      "2015-08-19    44\n",
      "2016-04-28    44\n",
      "2015-08-06    41\n",
      "2016-01-04    34\n",
      "2015-12-23    27\n",
      "Name: ult_fec_cli_1t, dtype: int64\n",
      "------------------------------\n"
     ]
    }
   ],
   "source": [
    "col_name = 'ult_fec_cli_1t'\n",
    "\n",
    "print '-' * 30, '\\n', 'dtype:           ', tr[col_name].dtype\n",
    "print '-' * 30, '\\n', 'np.na count:     ', tr[col_name].isnull().sum()\n",
    "print '-' * 30, '\\n', 'np.na ratio:     ', 1.0 * tr[col_name].isnull().sum() / len(tr)\n",
    "print '-' * 30, '\\n', 'distinct values: ', len(tr[col_name].value_counts())\n",
    "print '-' * 30, '\\n', 'top 10 values:'\n",
    "print tr[col_name].value_counts().head(10)\n",
    "print '-' * 30, '\\n', 'bottom 10 values:'\n",
    "print tr[col_name].value_counts().tail(10)\n",
    "print '-' * 30"
   ]
  },
  {
   "cell_type": "markdown",
   "metadata": {},
   "source": [
    "## indrel_1mes (customer type at the beginning of the month)"
   ]
  },
  {
   "cell_type": "code",
   "execution_count": 27,
   "metadata": {
    "collapsed": false
   },
   "outputs": [
    {
     "name": "stdout",
     "output_type": "stream",
     "text": [
      "------------------------------ \n",
      "dtype:            object\n",
      "------------------------------ \n",
      "np.na count:      149781\n",
      "------------------------------ \n",
      "np.na ratio:      0.0109751307016\n",
      "------------------------------ \n",
      "distinct values:  9\n",
      "------------------------------ \n",
      "top 10 values:\n",
      "1.0    9133383\n",
      "1      4357298\n",
      "3.0       2780\n",
      "3         1570\n",
      "P          874\n",
      "2.0        740\n",
      "2          577\n",
      "4.0        223\n",
      "4           83\n",
      "Name: indrel_1mes, dtype: int64\n",
      "------------------------------ \n",
      "bottom 10 values:\n",
      "1.0    9133383\n",
      "1      4357298\n",
      "3.0       2780\n",
      "3         1570\n",
      "P          874\n",
      "2.0        740\n",
      "2          577\n",
      "4.0        223\n",
      "4           83\n",
      "Name: indrel_1mes, dtype: int64\n",
      "------------------------------\n"
     ]
    }
   ],
   "source": [
    "col_name = 'indrel_1mes'\n",
    "\n",
    "print '-' * 30, '\\n', 'dtype:           ', tr[col_name].dtype\n",
    "print '-' * 30, '\\n', 'np.na count:     ', tr[col_name].isnull().sum()\n",
    "print '-' * 30, '\\n', 'np.na ratio:     ', 1.0 * tr[col_name].isnull().sum() / len(tr)\n",
    "print '-' * 30, '\\n', 'distinct values: ', len(tr[col_name].value_counts())\n",
    "print '-' * 30, '\\n', 'top 10 values:'\n",
    "print tr[col_name].value_counts().head(10)\n",
    "print '-' * 30, '\\n', 'bottom 10 values:'\n",
    "print tr[col_name].value_counts().tail(10)\n",
    "print '-' * 30"
   ]
  },
  {
   "cell_type": "code",
   "execution_count": 28,
   "metadata": {
    "collapsed": true
   },
   "outputs": [],
   "source": [
    "def fix_customer_type(x):\n",
    "    if x == 'P':\n",
    "        return 'P'\n",
    "    else:\n",
    "        try:\n",
    "            return str(int(x))\n",
    "        except:\n",
    "            return np.nan"
   ]
  },
  {
   "cell_type": "code",
   "execution_count": 29,
   "metadata": {
    "collapsed": true
   },
   "outputs": [],
   "source": [
    "tr.indrel_1mes = tr.indrel_1mes.apply(fix_customer_type)"
   ]
  },
  {
   "cell_type": "code",
   "execution_count": 30,
   "metadata": {
    "collapsed": false
   },
   "outputs": [
    {
     "name": "stdout",
     "output_type": "stream",
     "text": [
      "------------------------------ \n",
      "dtype:            object\n",
      "------------------------------ \n",
      "np.na count:      9286907\n",
      "------------------------------ \n",
      "np.na ratio:      0.68049364164\n",
      "------------------------------ \n",
      "distinct values:  5\n",
      "------------------------------ \n",
      "top 10 values:\n",
      "1    4357298\n",
      "3       1570\n",
      "P        874\n",
      "2        577\n",
      "4         83\n",
      "Name: indrel_1mes, dtype: int64\n",
      "------------------------------ \n",
      "bottom 10 values:\n",
      "1    4357298\n",
      "3       1570\n",
      "P        874\n",
      "2        577\n",
      "4         83\n",
      "Name: indrel_1mes, dtype: int64\n",
      "------------------------------\n"
     ]
    }
   ],
   "source": [
    "col_name = 'indrel_1mes'\n",
    "\n",
    "print '-' * 30, '\\n', 'dtype:           ', tr[col_name].dtype\n",
    "print '-' * 30, '\\n', 'np.na count:     ', tr[col_name].isnull().sum()\n",
    "print '-' * 30, '\\n', 'np.na ratio:     ', 1.0 * tr[col_name].isnull().sum() / len(tr)\n",
    "print '-' * 30, '\\n', 'distinct values: ', len(tr[col_name].value_counts())\n",
    "print '-' * 30, '\\n', 'top 10 values:'\n",
    "print tr[col_name].value_counts().head(10)\n",
    "print '-' * 30, '\\n', 'bottom 10 values:'\n",
    "print tr[col_name].value_counts().tail(10)\n",
    "print '-' * 30"
   ]
  },
  {
   "cell_type": "raw",
   "metadata": {},
   "source": [
    "1 : primary customer\n",
    "2 : co-owner\n",
    "3 : former primary\n",
    "4 : former co-owner\n",
    "P : potential"
   ]
  },
  {
   "cell_type": "markdown",
   "metadata": {},
   "source": [
    "## tiprel_1mes (customer relation type at the beginning of the month)"
   ]
  },
  {
   "cell_type": "code",
   "execution_count": 31,
   "metadata": {
    "collapsed": false
   },
   "outputs": [
    {
     "name": "stdout",
     "output_type": "stream",
     "text": [
      "------------------------------ \n",
      "dtype:            object\n",
      "------------------------------ \n",
      "np.na count:      149781\n",
      "------------------------------ \n",
      "np.na ratio:      0.0109751307016\n",
      "------------------------------ \n",
      "distinct values:  5\n",
      "------------------------------ \n",
      "top 10 values:\n",
      "I    7304875\n",
      "A    6187123\n",
      "P       4656\n",
      "R        870\n",
      "N          4\n",
      "Name: tiprel_1mes, dtype: int64\n",
      "------------------------------ \n",
      "bottom 10 values:\n",
      "I    7304875\n",
      "A    6187123\n",
      "P       4656\n",
      "R        870\n",
      "N          4\n",
      "Name: tiprel_1mes, dtype: int64\n",
      "------------------------------\n"
     ]
    }
   ],
   "source": [
    "col_name = 'tiprel_1mes'\n",
    "\n",
    "print '-' * 30, '\\n', 'dtype:           ', tr[col_name].dtype\n",
    "print '-' * 30, '\\n', 'np.na count:     ', tr[col_name].isnull().sum()\n",
    "print '-' * 30, '\\n', 'np.na ratio:     ', 1.0 * tr[col_name].isnull().sum() / len(tr)\n",
    "print '-' * 30, '\\n', 'distinct values: ', len(tr[col_name].value_counts())\n",
    "print '-' * 30, '\\n', 'top 10 values:'\n",
    "print tr[col_name].value_counts().head(10)\n",
    "print '-' * 30, '\\n', 'bottom 10 values:'\n",
    "print tr[col_name].value_counts().tail(10)\n",
    "print '-' * 30"
   ]
  },
  {
   "cell_type": "raw",
   "metadata": {},
   "source": [
    "A : active\n",
    "I : inactive\n",
    "P : former customer\n",
    "R : potential"
   ]
  },
  {
   "cell_type": "markdown",
   "metadata": {},
   "source": [
    "## indresi (indicator of the residence and the bank being in the same country)"
   ]
  },
  {
   "cell_type": "code",
   "execution_count": 32,
   "metadata": {
    "collapsed": false
   },
   "outputs": [
    {
     "name": "stdout",
     "output_type": "stream",
     "text": [
      "------------------------------ \n",
      "dtype:            object\n",
      "------------------------------ \n",
      "np.na count:      27734\n",
      "------------------------------ \n",
      "np.na ratio:      0.00203219550462\n",
      "------------------------------ \n",
      "distinct values:  2\n",
      "------------------------------ \n",
      "top 10 values:\n",
      "S    13553711\n",
      "N       65864\n",
      "Name: indresi, dtype: int64\n",
      "------------------------------ \n",
      "bottom 10 values:\n",
      "S    13553711\n",
      "N       65864\n",
      "Name: indresi, dtype: int64\n",
      "------------------------------\n"
     ]
    }
   ],
   "source": [
    "col_name = 'indresi'\n",
    "\n",
    "print '-' * 30, '\\n', 'dtype:           ', tr[col_name].dtype\n",
    "print '-' * 30, '\\n', 'np.na count:     ', tr[col_name].isnull().sum()\n",
    "print '-' * 30, '\\n', 'np.na ratio:     ', 1.0 * tr[col_name].isnull().sum() / len(tr)\n",
    "print '-' * 30, '\\n', 'distinct values: ', len(tr[col_name].value_counts())\n",
    "print '-' * 30, '\\n', 'top 10 values:'\n",
    "print tr[col_name].value_counts().head(10)\n",
    "print '-' * 30, '\\n', 'bottom 10 values:'\n",
    "print tr[col_name].value_counts().tail(10)\n",
    "print '-' * 30"
   ]
  },
  {
   "cell_type": "raw",
   "metadata": {},
   "source": [
    "S : same\n",
    "N : different"
   ]
  },
  {
   "cell_type": "markdown",
   "metadata": {},
   "source": [
    "## indext (indicator if the birth country is different from bank country)"
   ]
  },
  {
   "cell_type": "code",
   "execution_count": 33,
   "metadata": {
    "collapsed": false
   },
   "outputs": [
    {
     "name": "stdout",
     "output_type": "stream",
     "text": [
      "------------------------------ \n",
      "dtype:            object\n",
      "------------------------------ \n",
      "np.na count:      27734\n",
      "------------------------------ \n",
      "np.na ratio:      0.00203219550462\n",
      "------------------------------ \n",
      "distinct values:  2\n",
      "------------------------------ \n",
      "top 10 values:\n",
      "N    12974839\n",
      "S      644736\n",
      "Name: indext, dtype: int64\n",
      "------------------------------ \n",
      "bottom 10 values:\n",
      "N    12974839\n",
      "S      644736\n",
      "Name: indext, dtype: int64\n",
      "------------------------------\n"
     ]
    }
   ],
   "source": [
    "col_name = 'indext'\n",
    "\n",
    "print '-' * 30, '\\n', 'dtype:           ', tr[col_name].dtype\n",
    "print '-' * 30, '\\n', 'np.na count:     ', tr[col_name].isnull().sum()\n",
    "print '-' * 30, '\\n', 'np.na ratio:     ', 1.0 * tr[col_name].isnull().sum() / len(tr)\n",
    "print '-' * 30, '\\n', 'distinct values: ', len(tr[col_name].value_counts())\n",
    "print '-' * 30, '\\n', 'top 10 values:'\n",
    "print tr[col_name].value_counts().head(10)\n",
    "print '-' * 30, '\\n', 'bottom 10 values:'\n",
    "print tr[col_name].value_counts().tail(10)\n",
    "print '-' * 30"
   ]
  },
  {
   "cell_type": "raw",
   "metadata": {},
   "source": [
    "S : different\n",
    "N : same"
   ]
  },
  {
   "cell_type": "markdown",
   "metadata": {},
   "source": [
    "## conyuemp (indicator if the customer is the spouse of an employee)"
   ]
  },
  {
   "cell_type": "code",
   "execution_count": 34,
   "metadata": {
    "collapsed": false
   },
   "outputs": [
    {
     "name": "stdout",
     "output_type": "stream",
     "text": [
      "------------------------------ \n",
      "dtype:            object\n",
      "------------------------------ \n",
      "np.na count:      13645501\n",
      "------------------------------ \n",
      "np.na ratio:      0.99986751967\n",
      "------------------------------ \n",
      "distinct values:  2\n",
      "------------------------------ \n",
      "top 10 values:\n",
      "N    1791\n",
      "S      17\n",
      "Name: conyuemp, dtype: int64\n",
      "------------------------------ \n",
      "bottom 10 values:\n",
      "N    1791\n",
      "S      17\n",
      "Name: conyuemp, dtype: int64\n",
      "------------------------------\n"
     ]
    }
   ],
   "source": [
    "col_name = 'conyuemp'\n",
    "\n",
    "print '-' * 30, '\\n', 'dtype:           ', tr[col_name].dtype\n",
    "print '-' * 30, '\\n', 'np.na count:     ', tr[col_name].isnull().sum()\n",
    "print '-' * 30, '\\n', 'np.na ratio:     ', 1.0 * tr[col_name].isnull().sum() / len(tr)\n",
    "print '-' * 30, '\\n', 'distinct values: ', len(tr[col_name].value_counts())\n",
    "print '-' * 30, '\\n', 'top 10 values:'\n",
    "print tr[col_name].value_counts().head(10)\n",
    "print '-' * 30, '\\n', 'bottom 10 values:'\n",
    "print tr[col_name].value_counts().tail(10)\n",
    "print '-' * 30"
   ]
  },
  {
   "cell_type": "markdown",
   "metadata": {},
   "source": [
    "## canal_entrada (channel used by the customer to join)"
   ]
  },
  {
   "cell_type": "code",
   "execution_count": 35,
   "metadata": {
    "collapsed": false
   },
   "outputs": [
    {
     "name": "stdout",
     "output_type": "stream",
     "text": [
      "------------------------------ \n",
      "dtype:            object\n",
      "------------------------------ \n",
      "np.na count:      186126\n",
      "------------------------------ \n",
      "np.na ratio:      0.0136382930877\n",
      "------------------------------ \n",
      "distinct values:  162\n",
      "------------------------------ \n",
      "top 10 values:\n",
      "KHE    4055270\n",
      "KAT    3268209\n",
      "KFC    3098360\n",
      "KHQ     591039\n",
      "KFA     409669\n",
      "KHK     241084\n",
      "KHM     183924\n",
      "KHD     116891\n",
      "KHN     116608\n",
      "KAS      86221\n",
      "Name: canal_entrada, dtype: int64\n",
      "------------------------------ \n",
      "bottom 10 values:\n",
      "KHA    51\n",
      "KGU    28\n",
      "KGC    28\n",
      "KDB    17\n",
      "KGN    17\n",
      "KDI    17\n",
      "KDL    11\n",
      "025    11\n",
      "KHS     5\n",
      "KHR     1\n",
      "Name: canal_entrada, dtype: int64\n",
      "------------------------------\n"
     ]
    }
   ],
   "source": [
    "col_name = 'canal_entrada'\n",
    "\n",
    "print '-' * 30, '\\n', 'dtype:           ', tr[col_name].dtype\n",
    "print '-' * 30, '\\n', 'np.na count:     ', tr[col_name].isnull().sum()\n",
    "print '-' * 30, '\\n', 'np.na ratio:     ', 1.0 * tr[col_name].isnull().sum() / len(tr)\n",
    "print '-' * 30, '\\n', 'distinct values: ', len(tr[col_name].value_counts())\n",
    "print '-' * 30, '\\n', 'top 10 values:'\n",
    "print tr[col_name].value_counts().head(10)\n",
    "print '-' * 30, '\\n', 'bottom 10 values:'\n",
    "print tr[col_name].value_counts().tail(10)\n",
    "print '-' * 30"
   ]
  },
  {
   "cell_type": "markdown",
   "metadata": {},
   "source": [
    "## indfall (dead indicator)"
   ]
  },
  {
   "cell_type": "code",
   "execution_count": 36,
   "metadata": {
    "collapsed": false
   },
   "outputs": [
    {
     "name": "stdout",
     "output_type": "stream",
     "text": [
      "------------------------------ \n",
      "dtype:            object\n",
      "------------------------------ \n",
      "np.na count:      27734\n",
      "------------------------------ \n",
      "np.na ratio:      0.00203219550462\n",
      "------------------------------ \n",
      "distinct values:  2\n",
      "------------------------------ \n",
      "top 10 values:\n",
      "N    13584813\n",
      "S       34762\n",
      "Name: indfall, dtype: int64\n",
      "------------------------------ \n",
      "bottom 10 values:\n",
      "N    13584813\n",
      "S       34762\n",
      "Name: indfall, dtype: int64\n",
      "------------------------------\n"
     ]
    }
   ],
   "source": [
    "col_name = 'indfall'\n",
    "\n",
    "print '-' * 30, '\\n', 'dtype:           ', tr[col_name].dtype\n",
    "print '-' * 30, '\\n', 'np.na count:     ', tr[col_name].isnull().sum()\n",
    "print '-' * 30, '\\n', 'np.na ratio:     ', 1.0 * tr[col_name].isnull().sum() / len(tr)\n",
    "print '-' * 30, '\\n', 'distinct values: ', len(tr[col_name].value_counts())\n",
    "print '-' * 30, '\\n', 'top 10 values:'\n",
    "print tr[col_name].value_counts().head(10)\n",
    "print '-' * 30, '\\n', 'bottom 10 values:'\n",
    "print tr[col_name].value_counts().tail(10)\n",
    "print '-' * 30"
   ]
  },
  {
   "cell_type": "markdown",
   "metadata": {},
   "source": [
    "## tipodom (address type)"
   ]
  },
  {
   "cell_type": "code",
   "execution_count": 37,
   "metadata": {
    "collapsed": false
   },
   "outputs": [
    {
     "name": "stdout",
     "output_type": "stream",
     "text": [
      "------------------------------ \n",
      "dtype:            float64\n",
      "------------------------------ \n",
      "np.na count:      27735\n",
      "------------------------------ \n",
      "np.na ratio:      0.00203226877914\n",
      "------------------------------ \n",
      "distinct values:  1\n",
      "------------------------------ \n",
      "top 10 values:\n",
      "1.0    13619574\n",
      "Name: tipodom, dtype: int64\n",
      "------------------------------ \n",
      "bottom 10 values:\n",
      "1.0    13619574\n",
      "Name: tipodom, dtype: int64\n",
      "------------------------------\n"
     ]
    }
   ],
   "source": [
    "col_name = 'tipodom'\n",
    "\n",
    "print '-' * 30, '\\n', 'dtype:           ', tr[col_name].dtype\n",
    "print '-' * 30, '\\n', 'np.na count:     ', tr[col_name].isnull().sum()\n",
    "print '-' * 30, '\\n', 'np.na ratio:     ', 1.0 * tr[col_name].isnull().sum() / len(tr)\n",
    "print '-' * 30, '\\n', 'distinct values: ', len(tr[col_name].value_counts())\n",
    "print '-' * 30, '\\n', 'top 10 values:'\n",
    "print tr[col_name].value_counts().head(10)\n",
    "print '-' * 30, '\\n', 'bottom 10 values:'\n",
    "print tr[col_name].value_counts().tail(10)\n",
    "print '-' * 30"
   ]
  },
  {
   "cell_type": "markdown",
   "metadata": {},
   "source": [
    "## cod_prov (address code)"
   ]
  },
  {
   "cell_type": "code",
   "execution_count": 38,
   "metadata": {
    "collapsed": false
   },
   "outputs": [
    {
     "name": "stdout",
     "output_type": "stream",
     "text": [
      "------------------------------ \n",
      "dtype:            float64\n",
      "------------------------------ \n",
      "np.na count:      93591\n",
      "------------------------------ \n",
      "np.na ratio:      0.00685783548977\n",
      "------------------------------ \n",
      "distinct values:  52\n",
      "------------------------------ \n",
      "top 10 values:\n",
      "28.0    4409600\n",
      "8.0     1275219\n",
      "46.0     682304\n",
      "41.0     605164\n",
      "15.0     429322\n",
      "30.0     396759\n",
      "29.0     367023\n",
      "50.0     342543\n",
      "3.0      313397\n",
      "11.0     294684\n",
      "Name: cod_prov, dtype: int64\n",
      "------------------------------ \n",
      "bottom 10 values:\n",
      "49.0    50927\n",
      "34.0    49282\n",
      "40.0    42341\n",
      "22.0    40181\n",
      "5.0     38783\n",
      "1.0     37704\n",
      "44.0    22525\n",
      "42.0    17660\n",
      "52.0     9460\n",
      "51.0     7218\n",
      "Name: cod_prov, dtype: int64\n",
      "------------------------------\n"
     ]
    }
   ],
   "source": [
    "col_name = 'cod_prov'\n",
    "\n",
    "print '-' * 30, '\\n', 'dtype:           ', tr[col_name].dtype\n",
    "print '-' * 30, '\\n', 'np.na count:     ', tr[col_name].isnull().sum()\n",
    "print '-' * 30, '\\n', 'np.na ratio:     ', 1.0 * tr[col_name].isnull().sum() / len(tr)\n",
    "print '-' * 30, '\\n', 'distinct values: ', len(tr[col_name].value_counts())\n",
    "print '-' * 30, '\\n', 'top 10 values:'\n",
    "print tr[col_name].value_counts().head(10)\n",
    "print '-' * 30, '\\n', 'bottom 10 values:'\n",
    "print tr[col_name].value_counts().tail(10)\n",
    "print '-' * 30"
   ]
  },
  {
   "cell_type": "markdown",
   "metadata": {},
   "source": [
    "## nomprov (address name)"
   ]
  },
  {
   "cell_type": "code",
   "execution_count": 39,
   "metadata": {
    "collapsed": false
   },
   "outputs": [
    {
     "name": "stdout",
     "output_type": "stream",
     "text": [
      "------------------------------ \n",
      "dtype:            object\n",
      "------------------------------ \n",
      "np.na count:      93591\n",
      "------------------------------ \n",
      "np.na ratio:      0.00685783548977\n",
      "------------------------------ \n",
      "distinct values:  52\n",
      "------------------------------ \n",
      "top 10 values:\n",
      "MADRID       4409600\n",
      "BARCELONA    1275219\n",
      "VALENCIA      682304\n",
      "SEVILLA       605164\n",
      "CORUÑA, A     429322\n",
      "MURCIA        396759\n",
      "MALAGA        367023\n",
      "ZARAGOZA      342543\n",
      "ALICANTE      313397\n",
      "CADIZ         294684\n",
      "Name: nomprov, dtype: int64\n",
      "------------------------------ \n",
      "bottom 10 values:\n",
      "ZAMORA      50927\n",
      "PALENCIA    49282\n",
      "SEGOVIA     42341\n",
      "HUESCA      40181\n",
      "AVILA       38783\n",
      "ALAVA       37704\n",
      "TERUEL      22525\n",
      "SORIA       17660\n",
      "MELILLA      9460\n",
      "CEUTA        7218\n",
      "Name: nomprov, dtype: int64\n",
      "------------------------------\n"
     ]
    }
   ],
   "source": [
    "col_name = 'nomprov'\n",
    "\n",
    "print '-' * 30, '\\n', 'dtype:           ', tr[col_name].dtype\n",
    "print '-' * 30, '\\n', 'np.na count:     ', tr[col_name].isnull().sum()\n",
    "print '-' * 30, '\\n', 'np.na ratio:     ', 1.0 * tr[col_name].isnull().sum() / len(tr)\n",
    "print '-' * 30, '\\n', 'distinct values: ', len(tr[col_name].value_counts())\n",
    "print '-' * 30, '\\n', 'top 10 values:'\n",
    "print tr[col_name].value_counts().head(10)\n",
    "print '-' * 30, '\\n', 'bottom 10 values:'\n",
    "print tr[col_name].value_counts().tail(10)\n",
    "print '-' * 30"
   ]
  },
  {
   "cell_type": "markdown",
   "metadata": {},
   "source": [
    "## ind_actividad_cliente (activity indicator)"
   ]
  },
  {
   "cell_type": "code",
   "execution_count": 40,
   "metadata": {
    "collapsed": false
   },
   "outputs": [
    {
     "name": "stdout",
     "output_type": "stream",
     "text": [
      "------------------------------ \n",
      "dtype:            float64\n",
      "------------------------------ \n",
      "np.na count:      27734\n",
      "------------------------------ \n",
      "np.na ratio:      0.00203219550462\n",
      "------------------------------ \n",
      "distinct values:  2\n",
      "------------------------------ \n",
      "top 10 values:\n",
      "0.0    7384390\n",
      "1.0    6235185\n",
      "Name: ind_actividad_cliente, dtype: int64\n",
      "------------------------------ \n",
      "bottom 10 values:\n",
      "0.0    7384390\n",
      "1.0    6235185\n",
      "Name: ind_actividad_cliente, dtype: int64\n",
      "------------------------------\n"
     ]
    }
   ],
   "source": [
    "col_name = 'ind_actividad_cliente'\n",
    "\n",
    "print '-' * 30, '\\n', 'dtype:           ', tr[col_name].dtype\n",
    "print '-' * 30, '\\n', 'np.na count:     ', tr[col_name].isnull().sum()\n",
    "print '-' * 30, '\\n', 'np.na ratio:     ', 1.0 * tr[col_name].isnull().sum() / len(tr)\n",
    "print '-' * 30, '\\n', 'distinct values: ', len(tr[col_name].value_counts())\n",
    "print '-' * 30, '\\n', 'top 10 values:'\n",
    "print tr[col_name].value_counts().head(10)\n",
    "print '-' * 30, '\\n', 'bottom 10 values:'\n",
    "print tr[col_name].value_counts().tail(10)\n",
    "print '-' * 30"
   ]
  },
  {
   "cell_type": "raw",
   "metadata": {},
   "source": [
    "1 : active\n",
    "0 : inactive"
   ]
  },
  {
   "cell_type": "markdown",
   "metadata": {},
   "source": [
    "## renta (gross income of the household)"
   ]
  },
  {
   "cell_type": "code",
   "execution_count": 41,
   "metadata": {
    "collapsed": false
   },
   "outputs": [
    {
     "name": "stdout",
     "output_type": "stream",
     "text": [
      "------------------------------ \n",
      "dtype:            float64\n",
      "------------------------------ \n",
      "np.na count:      2794375\n",
      "------------------------------ \n",
      "np.na ratio:      0.204756483494\n",
      "------------------------------ \n",
      "distinct values:  520994\n",
      "------------------------------ \n",
      "top 10 values:\n",
      "451931.22    5582\n",
      "463625.16    1743\n",
      "181042.20    1493\n",
      "128318.52    1404\n",
      "105260.88    1354\n",
      "488798.49    1332\n",
      "127141.50    1183\n",
      "283325.67    1148\n",
      "132335.73    1047\n",
      "236690.34    1009\n",
      "Name: renta, dtype: int64\n",
      "------------------------------ \n",
      "bottom 10 values:\n",
      "69650.88     1\n",
      "147186.60    1\n",
      "55041.57     1\n",
      "106552.89    1\n",
      "74566.20     1\n",
      "94128.15     1\n",
      "122463.33    1\n",
      "31253.64     1\n",
      "195859.59    1\n",
      "106957.32    1\n",
      "Name: renta, dtype: int64\n",
      "------------------------------\n"
     ]
    }
   ],
   "source": [
    "col_name = 'renta'\n",
    "\n",
    "print '-' * 30, '\\n', 'dtype:           ', tr[col_name].dtype\n",
    "print '-' * 30, '\\n', 'np.na count:     ', tr[col_name].isnull().sum()\n",
    "print '-' * 30, '\\n', 'np.na ratio:     ', 1.0 * tr[col_name].isnull().sum() / len(tr)\n",
    "print '-' * 30, '\\n', 'distinct values: ', len(tr[col_name].value_counts())\n",
    "print '-' * 30, '\\n', 'top 10 values:'\n",
    "print tr[col_name].value_counts().head(10)\n",
    "print '-' * 30, '\\n', 'bottom 10 values:'\n",
    "print tr[col_name].value_counts().tail(10)\n",
    "print '-' * 30"
   ]
  },
  {
   "cell_type": "code",
   "execution_count": 42,
   "metadata": {
    "collapsed": false
   },
   "outputs": [
    {
     "data": {
      "text/plain": [
       "count    1.085293e+07\n",
       "mean     1.342543e+05\n",
       "std      2.306202e+05\n",
       "min      1.202730e+03\n",
       "25%      6.871098e+04\n",
       "50%      1.018500e+05\n",
       "75%      1.559560e+05\n",
       "max      2.889440e+07\n",
       "Name: renta, dtype: float64"
      ]
     },
     "execution_count": 42,
     "metadata": {},
     "output_type": "execute_result"
    }
   ],
   "source": [
    "tr.renta.dropna().describe()"
   ]
  },
  {
   "cell_type": "code",
   "execution_count": 43,
   "metadata": {
    "collapsed": false
   },
   "outputs": [
    {
     "data": {
      "text/plain": [
       "309997.14000000001"
      ]
     },
     "execution_count": 43,
     "metadata": {},
     "output_type": "execute_result"
    }
   ],
   "source": [
    "tr.renta.dropna().quantile(0.95)"
   ]
  },
  {
   "cell_type": "code",
   "execution_count": 44,
   "metadata": {
    "collapsed": false
   },
   "outputs": [
    {
     "data": {
      "image/png": "[encoded data removed]",
      "text/plain": [
       "<matplotlib.figure.Figure at 0x21f8a53d0>"
      ]
     },
     "metadata": {},
     "output_type": "display_data"
    }
   ],
   "source": [
    "_ = plt.figure(figsize=(12,6))\n",
    "_ = plt.hist(tr[tr.renta <= 350000].groupby('ncodpers').first().renta.dropna(), bins=60)"
   ]
  },
  {
   "cell_type": "markdown",
   "metadata": {},
   "source": [
    "## segmento (customer segment)"
   ]
  },
  {
   "cell_type": "code",
   "execution_count": 45,
   "metadata": {
    "collapsed": false
   },
   "outputs": [
    {
     "name": "stdout",
     "output_type": "stream",
     "text": [
      "------------------------------ \n",
      "dtype:            object\n",
      "------------------------------ \n",
      "np.na count:      189368\n",
      "------------------------------ \n",
      "np.na ratio:      0.0138758490776\n",
      "------------------------------ \n",
      "distinct values:  3\n",
      "------------------------------ \n",
      "top 10 values:\n",
      "02 - PARTICULARES     7960220\n",
      "03 - UNIVERSITARIO    4935579\n",
      "01 - TOP               562142\n",
      "Name: segmento, dtype: int64\n",
      "------------------------------ \n",
      "bottom 10 values:\n",
      "02 - PARTICULARES     7960220\n",
      "03 - UNIVERSITARIO    4935579\n",
      "01 - TOP               562142\n",
      "Name: segmento, dtype: int64\n",
      "------------------------------\n"
     ]
    }
   ],
   "source": [
    "col_name = 'segmento'\n",
    "\n",
    "print '-' * 30, '\\n', 'dtype:           ', tr[col_name].dtype\n",
    "print '-' * 30, '\\n', 'np.na count:     ', tr[col_name].isnull().sum()\n",
    "print '-' * 30, '\\n', 'np.na ratio:     ', 1.0 * tr[col_name].isnull().sum() / len(tr)\n",
    "print '-' * 30, '\\n', 'distinct values: ', len(tr[col_name].value_counts())\n",
    "print '-' * 30, '\\n', 'top 10 values:'\n",
    "print tr[col_name].value_counts().head(10)\n",
    "print '-' * 30, '\\n', 'bottom 10 values:'\n",
    "print tr[col_name].value_counts().tail(10)\n",
    "print '-' * 30"
   ]
  },
  {
   "cell_type": "raw",
   "metadata": {},
   "source": [
    "1 : VIP\n",
    "2 : individual\n",
    "3 : college graduated"
   ]
  },
  {
   "cell_type": "markdown",
   "metadata": {},
   "source": [
    "## product indicators"
   ]
  },
  {
   "cell_type": "code",
   "execution_count": 46,
   "metadata": {
    "collapsed": false
   },
   "outputs": [
    {
     "name": "stdout",
     "output_type": "stream",
     "text": [
      "ind_ahor_fin_ult1    0.000102\n",
      "ind_aval_fin_ult1    0.000023\n",
      "ind_cco_fin_ult1     0.655484\n",
      "ind_cder_fin_ult1    0.000394\n",
      "ind_cno_fin_ult1     0.080867\n",
      "ind_ctju_fin_ult1    0.009474\n",
      "ind_ctma_fin_ult1    0.009727\n",
      "ind_ctop_fin_ult1    0.129008\n",
      "ind_ctpp_fin_ult1    0.043306\n",
      "ind_deco_fin_ult1    0.001779\n",
      "ind_deme_fin_ult1    0.001661\n",
      "ind_dela_fin_ult1    0.042967\n",
      "ind_ecue_fin_ult1    0.082744\n",
      "ind_fond_fin_ult1    0.018486\n",
      "ind_hip_fin_ult1     0.005887\n",
      "ind_plan_fin_ult1    0.009171\n",
      "ind_pres_fin_ult1    0.002627\n",
      "ind_reca_fin_ult1    0.052536\n",
      "ind_tjcr_fin_ult1    0.044389\n",
      "ind_valo_fin_ult1    0.025608\n",
      "ind_viv_fin_ult1     0.003848\n",
      "ind_nomina_ult1      0.054660\n",
      "ind_nom_pens_ult1    0.059359\n",
      "ind_recibo_ult1      0.127916\n"
     ]
    }
   ],
   "source": [
    "for c in tr.columns[24:]:\n",
    "    print '{0:20s} {1:1.6f}'.format(c, 1.0 * tr[c].sum() / len(tr))"
   ]
  }
 ],
 "metadata": {
  "kernelspec": {
   "display_name": "Python 2",
   "language": "python",
   "name": "python2"
  },
  "language_info": {
   "codemirror_mode": {
    "name": "ipython",
    "version": 2
   },
   "file_extension": ".py",
   "mimetype": "text/x-python",
   "name": "python",
   "nbconvert_exporter": "python",
   "pygments_lexer": "ipython2",
   "version": "2.7.11"
  }
 },
 "nbformat": 4,
 "nbformat_minor": 0
}
